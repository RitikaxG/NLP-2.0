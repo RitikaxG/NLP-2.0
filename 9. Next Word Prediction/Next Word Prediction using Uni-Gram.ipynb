{
 "cells": [
  {
   "cell_type": "code",
   "execution_count": 15,
   "id": "857567c7",
   "metadata": {},
   "outputs": [],
   "source": [
    "import re\n",
    "import numpy as np\n",
    "import pandas as pd\n",
    "from tqdm import tqdm"
   ]
  },
  {
   "cell_type": "markdown",
   "id": "45861108",
   "metadata": {},
   "source": [
    "### 1. Finding the pairs"
   ]
  },
  {
   "cell_type": "code",
   "execution_count": 16,
   "id": "6ee0617c",
   "metadata": {},
   "outputs": [],
   "source": [
    "with open('big.txt','r') as fd:\n",
    "    lines = fd.readlines()\n",
    "    words = []\n",
    "    for line in lines:\n",
    "        words+= re.findall('\\w+',line.lower())"
   ]
  },
  {
   "cell_type": "markdown",
   "id": "45bfab67",
   "metadata": {},
   "source": [
    "#### Make pairs of 2 words for all words in 'words'\n",
    "['The','Project']\n",
    "\n",
    "['Project','Gutenberg']\n",
    "\n",
    "['Gutenberg','EBook']"
   ]
  },
  {
   "cell_type": "code",
   "execution_count": 17,
   "id": "c3a939fc",
   "metadata": {},
   "outputs": [],
   "source": [
    "def get_pairs(words):\n",
    "    data = []\n",
    "    for i in range(len(words)-1): # to avoid index out of range exception\n",
    "        data.append(' '.join(words[i:i+2]))\n",
    "    return data\n",
    "\n",
    "data = get_pairs(words)"
   ]
  },
  {
   "cell_type": "code",
   "execution_count": 18,
   "id": "c7dd43d5",
   "metadata": {},
   "outputs": [
    {
     "data": {
      "text/plain": [
       "1115584"
      ]
     },
     "execution_count": 18,
     "metadata": {},
     "output_type": "execute_result"
    }
   ],
   "source": [
    "len(data)"
   ]
  },
  {
   "cell_type": "markdown",
   "id": "62096750",
   "metadata": {},
   "source": [
    "### 2. Finding occurrence Probabilities"
   ]
  },
  {
   "cell_type": "code",
   "execution_count": 19,
   "id": "1bd19396",
   "metadata": {},
   "outputs": [
    {
     "data": {
      "text/plain": [
       "['the project',\n",
       " 'project gutenberg',\n",
       " 'gutenberg ebook',\n",
       " 'ebook of',\n",
       " 'of the',\n",
       " 'the adventures',\n",
       " 'adventures of',\n",
       " 'of sherlock',\n",
       " 'sherlock holmes',\n",
       " 'holmes by']"
      ]
     },
     "execution_count": 19,
     "metadata": {},
     "output_type": "execute_result"
    }
   ],
   "source": [
    "data[:10]"
   ]
  },
  {
   "cell_type": "code",
   "execution_count": 20,
   "id": "09923fe0",
   "metadata": {},
   "outputs": [
    {
     "name": "stdout",
     "output_type": "stream",
     "text": [
      "Total Pairs: 1115584\n",
      "Unique Pairs: 390694\n",
      "--------------------------------------------------\n",
      "390694\n",
      "--------------------------------------------------\n"
     ]
    }
   ],
   "source": [
    "a = np.array(data)\n",
    "pair,count = np.unique(a,return_counts = True)\n",
    "\n",
    "print('Total Pairs:',len(data))\n",
    "unique_pairs = list(set(data))\n",
    "print('Unique Pairs:',len(pair))\n",
    "\n",
    "print('-'*50)\n",
    "\n",
    "prob_dist = [] # Returns input pair, occurrence, output\n",
    "for i in range(len(pair)):\n",
    "    prob_dist.append([pair[i],count[i],pair[i].split(' ')[-1]])\n",
    "    \n",
    "print(len(prob_dist))\n",
    "print('-'*50)"
   ]
  },
  {
   "cell_type": "code",
   "execution_count": 21,
   "id": "2a051770",
   "metadata": {},
   "outputs": [
    {
     "data": {
      "text/plain": [
       "array(['0 05', '0 25', '0 45', '0 5', '0 6', '0 7', '0 9', '0 i', '00 99',\n",
       "       '00 went'], dtype='<U30')"
      ]
     },
     "execution_count": 21,
     "metadata": {},
     "output_type": "execute_result"
    }
   ],
   "source": [
    "pair[:10]"
   ]
  },
  {
   "cell_type": "code",
   "execution_count": 22,
   "id": "59bca09b",
   "metadata": {},
   "outputs": [
    {
     "data": {
      "text/plain": [
       "array([1, 1, 1, 1, 4, 1, 1, 1, 2, 1])"
      ]
     },
     "execution_count": 22,
     "metadata": {},
     "output_type": "execute_result"
    }
   ],
   "source": [
    "count[:10]"
   ]
  },
  {
   "cell_type": "markdown",
   "id": "5db21610",
   "metadata": {},
   "source": [
    "### 3. Predicting the words"
   ]
  },
  {
   "cell_type": "code",
   "execution_count": 23,
   "id": "6cdd4c08",
   "metadata": {},
   "outputs": [],
   "source": [
    "df = pd.DataFrame(prob_dist,columns = ['pair','freq','out'])\n",
    "# Remove all the pairs having frequency less than 5\n",
    "df[df['freq'] >= 5]\n",
    "df.head()\n",
    "\n",
    "def predict(word):\n",
    "    df_pred = []\n",
    "    for i in df.values:\n",
    "        if (i[0].split(' ')[0] == word):\n",
    "            df_pred.append([i[0],i[1],i[2]])\n",
    "\n",
    "    df_pred = pd.DataFrame(df_pred,columns = ['in','freq','out'])\n",
    "    return list(df_pred.sort_values(by = 'freq',ascending=False).head()['out'].values)"
   ]
  },
  {
   "cell_type": "code",
   "execution_count": 24,
   "id": "01435610",
   "metadata": {},
   "outputs": [
    {
     "data": {
      "text/plain": [
       "['same', 'french', 'first', 'old', 'emperor']"
      ]
     },
     "execution_count": 24,
     "metadata": {},
     "output_type": "execute_result"
    }
   ],
   "source": [
    "predict('the')"
   ]
  },
  {
   "cell_type": "code",
   "execution_count": 25,
   "id": "fc741c06",
   "metadata": {},
   "outputs": [
    {
     "name": "stdout",
     "output_type": "stream",
     "text": [
      "same time to the same time to the same time "
     ]
    }
   ],
   "source": [
    "word = 'the'\n",
    "for i in range(10):\n",
    "    pred = predict(word)\n",
    "    word = pred[0]\n",
    "    print(word,end=' ')"
   ]
  },
  {
   "cell_type": "code",
   "execution_count": 26,
   "id": "a7f6c03e",
   "metadata": {},
   "outputs": [
    {
     "name": "stdout",
     "output_type": "stream",
     "text": [
      "['is', 'was', 'way', 'and', 'time']\n",
      "Enter the index:2\n",
      "['of', 'to', 'and', 'the', 'in']\n",
      "Enter the index:1\n",
      "['the', 'be', 'him', 'his', 'a']\n",
      "Enter the index:3\n",
      "['eyes', 'head', 'own', 'face', 'wife']\n",
      "Enter the index:0\n",
      "['and', 'were', 'with', 'fixed', 'at']\n",
      "Enter the index:2\n",
      "['the', 'a', 'his', 'her', 'him']\n",
      "Enter the index:1\n",
      "['man', 'few', 'long', 'little', 'very']\n",
      "Enter the index:2\n",
      "['time', 'as', 'been', 'and', 'bones']\n",
      "Enter the index:3\n",
      "['the', 'a', 'in', 'that', 'he']\n",
      "Enter the index:4\n",
      "['had', 'was', 'said', 'is', 'would']\n",
      "Enter the index:0\n",
      "------------------------------\n",
      "this way to his eyes with a long and he had\n",
      "------------------------------\n"
     ]
    }
   ],
   "source": [
    "word = 'this'\n",
    "preds = []\n",
    "preds.append(word)\n",
    "for i in range(10):\n",
    "    pred = predict(word)\n",
    "    print(pred)\n",
    "    word = pred[int(input('Enter the index:'))]\n",
    "    preds.append(word)\n",
    "print('-'*30)\n",
    "print(' '.join(preds))\n",
    "print('-'*30)"
   ]
  },
  {
   "cell_type": "code",
   "execution_count": null,
   "id": "8f608f4b",
   "metadata": {},
   "outputs": [],
   "source": []
  }
 ],
 "metadata": {
  "kernelspec": {
   "display_name": "Python 3 (ipykernel)",
   "language": "python",
   "name": "python3"
  },
  "language_info": {
   "codemirror_mode": {
    "name": "ipython",
    "version": 3
   },
   "file_extension": ".py",
   "mimetype": "text/x-python",
   "name": "python",
   "nbconvert_exporter": "python",
   "pygments_lexer": "ipython3",
   "version": "3.11.5"
  }
 },
 "nbformat": 4,
 "nbformat_minor": 5
}
