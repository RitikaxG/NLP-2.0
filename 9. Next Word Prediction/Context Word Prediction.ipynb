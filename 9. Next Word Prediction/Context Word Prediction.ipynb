{
 "cells": [
  {
   "cell_type": "code",
   "execution_count": 3,
   "id": "57d51439",
   "metadata": {},
   "outputs": [],
   "source": [
    "import re\n",
    "import numpy as np\n",
    "import pandas as pd\n",
    "from tqdm import tqdm\n",
    "\n",
    "with open('big.txt','r') as fd:\n",
    "    lines = fd.readlines()\n",
    "    words = []\n",
    "    for line in lines:\n",
    "        words += re.findall('\\w+',line.lower())"
   ]
  },
  {
   "cell_type": "markdown",
   "id": "397eaac4",
   "metadata": {},
   "source": [
    "* 'this __ pen'\n",
    "* 'this is __ good pen'"
   ]
  },
  {
   "cell_type": "markdown",
   "id": "acfbd5d0",
   "metadata": {},
   "source": [
    "### 1.  Getting the Pairs"
   ]
  },
  {
   "cell_type": "code",
   "execution_count": 25,
   "id": "a74305e1",
   "metadata": {},
   "outputs": [],
   "source": [
    "def get_pairs(words,n):\n",
    "    data = []\n",
    "    for i in range(len(words) - n):\n",
    "        data.append(' '.join(words[i:i+n]))\n",
    "        \n",
    "    return data"
   ]
  },
  {
   "cell_type": "markdown",
   "id": "b259a283",
   "metadata": {},
   "source": [
    "### 2. Get Probability Distribution"
   ]
  },
  {
   "cell_type": "code",
   "execution_count": 26,
   "id": "b78d2aa6",
   "metadata": {},
   "outputs": [
    {
     "data": {
      "text/html": [
       "<div>\n",
       "<style scoped>\n",
       "    .dataframe tbody tr th:only-of-type {\n",
       "        vertical-align: middle;\n",
       "    }\n",
       "\n",
       "    .dataframe tbody tr th {\n",
       "        vertical-align: top;\n",
       "    }\n",
       "\n",
       "    .dataframe thead th {\n",
       "        text-align: right;\n",
       "    }\n",
       "</style>\n",
       "<table border=\"1\" class=\"dataframe\">\n",
       "  <thead>\n",
       "    <tr style=\"text-align: right;\">\n",
       "      <th></th>\n",
       "      <th>seq</th>\n",
       "      <th>left_seq</th>\n",
       "      <th>right_seq</th>\n",
       "      <th>output</th>\n",
       "      <th>freq</th>\n",
       "    </tr>\n",
       "  </thead>\n",
       "  <tbody>\n",
       "    <tr>\n",
       "      <th>0</th>\n",
       "      <td>0 05 grm novarsenbillon injected</td>\n",
       "      <td>0 05</td>\n",
       "      <td>novarsenbillon injected</td>\n",
       "      <td>grm</td>\n",
       "      <td>1</td>\n",
       "    </tr>\n",
       "    <tr>\n",
       "      <th>1</th>\n",
       "      <td>0 25 u and is</td>\n",
       "      <td>0 25</td>\n",
       "      <td>and is</td>\n",
       "      <td>u</td>\n",
       "      <td>1</td>\n",
       "    </tr>\n",
       "    <tr>\n",
       "      <th>2</th>\n",
       "      <td>0 45 grm given intra</td>\n",
       "      <td>0 45</td>\n",
       "      <td>given intra</td>\n",
       "      <td>grm</td>\n",
       "      <td>1</td>\n",
       "    </tr>\n",
       "    <tr>\n",
       "      <th>3</th>\n",
       "      <td>0 5 to 2 per</td>\n",
       "      <td>0 5</td>\n",
       "      <td>2 per</td>\n",
       "      <td>to</td>\n",
       "      <td>1</td>\n",
       "    </tr>\n",
       "    <tr>\n",
       "      <th>4</th>\n",
       "      <td>0 6 grm all these</td>\n",
       "      <td>0 6</td>\n",
       "      <td>all these</td>\n",
       "      <td>grm</td>\n",
       "      <td>1</td>\n",
       "    </tr>\n",
       "  </tbody>\n",
       "</table>\n",
       "</div>"
      ],
      "text/plain": [
       "                                seq left_seq                right_seq output  \\\n",
       "0  0 05 grm novarsenbillon injected     0 05  novarsenbillon injected    grm   \n",
       "1                     0 25 u and is     0 25                   and is      u   \n",
       "2              0 45 grm given intra     0 45              given intra    grm   \n",
       "3                      0 5 to 2 per      0 5                    2 per     to   \n",
       "4                 0 6 grm all these      0 6                all these    grm   \n",
       "\n",
       "   freq  \n",
       "0     1  \n",
       "1     1  \n",
       "2     1  \n",
       "3     1  \n",
       "4     1  "
      ]
     },
     "execution_count": 26,
     "metadata": {},
     "output_type": "execute_result"
    }
   ],
   "source": [
    "def get_prob_dist(data):\n",
    "    prob_dist = []\n",
    "    a = np.array(data)\n",
    "    pairs, count = np.unique(a,return_counts=True)\n",
    "    \n",
    "    for i in range(len(pairs)):\n",
    "        \n",
    "        left_seq   =  ' '.join(pairs[i].split(' ')[:len(pairs[i].split(' '))//2])\n",
    "        right_seq  =  ' '.join(pairs[i].split(' ')[len(pairs[i].split(' '))//2 + 1: ])\n",
    "        middle_seq =  pairs[i].split(' ')[len(pairs[i].split(' '))//2]\n",
    "\n",
    "        prob_dist.append([pairs[i],left_seq,right_seq,middle_seq,count[i]])\n",
    "    \n",
    "    return prob_dist\n",
    "\n",
    "data = get_pairs(words,5)\n",
    "prob_dist = get_prob_dist(data)\n",
    "\n",
    "df = pd.DataFrame(prob_dist,columns = ['seq','left_seq','right_seq','output','freq'])\n",
    "df.head()"
   ]
  },
  {
   "cell_type": "markdown",
   "id": "e0b21a6e",
   "metadata": {},
   "source": [
    "### 3. Getting the Predictions"
   ]
  },
  {
   "cell_type": "code",
   "execution_count": 37,
   "id": "c9fd569c",
   "metadata": {},
   "outputs": [
    {
     "data": {
      "text/plain": [
       "['region', 'middle', 'case', 'vicinity', 'hands']"
      ]
     },
     "execution_count": 37,
     "metadata": {},
     "output_type": "execute_result"
    }
   ],
   "source": [
    "def predict(word):\n",
    "    left_seq  = word.split('_')[0].strip()\n",
    "    right_seq = word.split('_')[1].strip()\n",
    "\n",
    "    df_ = df[df['left_seq'] == left_seq]\n",
    "    df_ = df_[df_['right_seq'] == right_seq]\n",
    "    \n",
    "    return list(df_.sort_values(by='freq',ascending=False).head()['output'].values)\n",
    "predict('in the _ of the')"
   ]
  },
  {
   "cell_type": "code",
   "execution_count": null,
   "id": "ccf5eab7",
   "metadata": {},
   "outputs": [],
   "source": []
  }
 ],
 "metadata": {
  "kernelspec": {
   "display_name": "Python 3 (ipykernel)",
   "language": "python",
   "name": "python3"
  },
  "language_info": {
   "codemirror_mode": {
    "name": "ipython",
    "version": 3
   },
   "file_extension": ".py",
   "mimetype": "text/x-python",
   "name": "python",
   "nbconvert_exporter": "python",
   "pygments_lexer": "ipython3",
   "version": "3.11.5"
  }
 },
 "nbformat": 4,
 "nbformat_minor": 5
}
