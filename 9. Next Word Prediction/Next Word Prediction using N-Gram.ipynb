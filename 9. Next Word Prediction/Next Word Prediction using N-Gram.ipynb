{
 "cells": [
  {
   "cell_type": "code",
   "execution_count": 45,
   "id": "a89ea4c5",
   "metadata": {},
   "outputs": [],
   "source": [
    "import re\n",
    "import numpy as np\n",
    "import pandas as pd\n",
    "from tqdm import tqdm\n",
    "\n",
    "# Loading the data\n",
    "with open('big.txt','r') as fd:\n",
    "    lines = fd.readlines()\n",
    "    words = []\n",
    "    for line in lines:\n",
    "        words+= re.findall('\\w+',line.lower())"
   ]
  },
  {
   "cell_type": "markdown",
   "id": "9e4f2889",
   "metadata": {},
   "source": [
    "### 1. Finding the pairs"
   ]
  },
  {
   "cell_type": "code",
   "execution_count": 46,
   "id": "ff21553b",
   "metadata": {},
   "outputs": [],
   "source": [
    "def get_pairs(words,n):\n",
    "    n = n+1\n",
    "    data = []\n",
    "    for i in range(len(words)-n): # to avoid index out of range exception\n",
    "        data.append(' '.join(words[i:i+n]))\n",
    "    return data"
   ]
  },
  {
   "cell_type": "markdown",
   "id": "2a6e1b55",
   "metadata": {},
   "source": [
    "### 2. Finding occurrence Probabilities"
   ]
  },
  {
   "cell_type": "code",
   "execution_count": 47,
   "id": "215f46b6",
   "metadata": {},
   "outputs": [],
   "source": [
    "def get_prob_dist(data):\n",
    "    # Converting the whole data into a numpy array\n",
    "    a = np.array(data)\n",
    "    \n",
    "    pair,count = np.unique(a,return_counts = True)\n",
    "    unique_pairs = list(set(data))\n",
    "\n",
    "    prob_dist = [] # Returns input pair, occurrence, output\n",
    "    for i in range(len(unique_pairs)):\n",
    "        prob_dist.append([unique_pairs[i],' '.join(unique_pairs[i].split(' ')[:-1]),unique_pairs[i].split(' ')[-1],count[i]])\n",
    "\n",
    "    return prob_dist"
   ]
  },
  {
   "cell_type": "code",
   "execution_count": 82,
   "id": "20046257",
   "metadata": {},
   "outputs": [],
   "source": [
    "data = get_pairs(words,4)\n",
    "prob_dist = get_prob_dist(data)"
   ]
  },
  {
   "cell_type": "markdown",
   "id": "9a10f780",
   "metadata": {},
   "source": [
    "### 3. Predicting the words"
   ]
  },
  {
   "cell_type": "code",
   "execution_count": 84,
   "id": "d88871fb",
   "metadata": {},
   "outputs": [
    {
     "data": {
      "text/plain": [
       "array(['country'], dtype=object)"
      ]
     },
     "execution_count": 84,
     "metadata": {},
     "output_type": "execute_result"
    }
   ],
   "source": [
    "df = pd.DataFrame(prob_dist,columns = ['seq','inp','out','freq'])\n",
    "df.head()\n",
    "\n",
    "def predict(word):\n",
    "    if len(df[df['inp'] == word]):\n",
    "        df_ = df[df['inp'] == word]\n",
    "        return df_.sort_values(by='freq').head()['out'].values\n",
    "    else:\n",
    "        print('Seq is not present')\n",
    "predict('this is a beautiful')"
   ]
  },
  {
   "cell_type": "markdown",
   "id": "0ba4f0fa",
   "metadata": {},
   "source": [
    "#### 3.1) Prediction for one word"
   ]
  },
  {
   "cell_type": "code",
   "execution_count": 85,
   "id": "444a9111",
   "metadata": {},
   "outputs": [
    {
     "data": {
      "text/plain": [
       "array(['country'], dtype=object)"
      ]
     },
     "execution_count": 85,
     "metadata": {},
     "output_type": "execute_result"
    }
   ],
   "source": [
    "predict('this is a beautiful')"
   ]
  },
  {
   "cell_type": "markdown",
   "id": "b9d2f902",
   "metadata": {},
   "source": [
    "#### 3.2) Prediction with auto sequencing"
   ]
  },
  {
   "cell_type": "code",
   "execution_count": 113,
   "id": "66eb9d8e",
   "metadata": {},
   "outputs": [
    {
     "data": {
      "text/plain": [
       "'of the united states by charles a beard and mary r beard this ebook is for the use of anyone anywhere at no cost and with almost no restrictions whatsoever you may copy it give it away or re use it under the terms of the bet addressing himself particularly to anatole and pierre'"
      ]
     },
     "execution_count": 113,
     "metadata": {},
     "output_type": "execute_result"
    }
   ],
   "source": [
    "def pred_seq(seq,n):\n",
    "    output = []\n",
    "    output.append(seq)\n",
    "\n",
    "    for i in range(n):\n",
    "        pred = predict(seq)\n",
    "        seq = ' '.join(seq.split(' ')[1:]) + ' '+ pred[0]\n",
    "        output.append(pred[0])\n",
    "\n",
    "    return ' '.join(output)\n",
    "    \n",
    "pred_seq('of the united states',50)"
   ]
  },
  {
   "cell_type": "code",
   "execution_count": 115,
   "id": "657c321b",
   "metadata": {},
   "outputs": [],
   "source": [
    "data = get_pairs(words,10)\n",
    "prob_dist = get_prob_dist(data)\n",
    "\n",
    "df = pd.DataFrame(prob_dist, columns = ['seq','inp','out','freq'])"
   ]
  },
  {
   "cell_type": "code",
   "execution_count": 116,
   "id": "ef4bb847",
   "metadata": {},
   "outputs": [
    {
     "data": {
      "text/html": [
       "<div>\n",
       "<style scoped>\n",
       "    .dataframe tbody tr th:only-of-type {\n",
       "        vertical-align: middle;\n",
       "    }\n",
       "\n",
       "    .dataframe tbody tr th {\n",
       "        vertical-align: top;\n",
       "    }\n",
       "\n",
       "    .dataframe thead th {\n",
       "        text-align: right;\n",
       "    }\n",
       "</style>\n",
       "<table border=\"1\" class=\"dataframe\">\n",
       "  <thead>\n",
       "    <tr style=\"text-align: right;\">\n",
       "      <th></th>\n",
       "      <th>seq</th>\n",
       "      <th>inp</th>\n",
       "      <th>out</th>\n",
       "      <th>freq</th>\n",
       "    </tr>\n",
       "  </thead>\n",
       "  <tbody>\n",
       "    <tr>\n",
       "      <th>0</th>\n",
       "      <td>despised them not because of his own intellect...</td>\n",
       "      <td>despised them not because of his own intellect...</td>\n",
       "      <td>knowledge</td>\n",
       "      <td>1</td>\n",
       "    </tr>\n",
       "    <tr>\n",
       "      <th>739198</th>\n",
       "      <td>whistle but the sudden glare flashing into my ...</td>\n",
       "      <td>whistle but the sudden glare flashing into my ...</td>\n",
       "      <td>made</td>\n",
       "      <td>1</td>\n",
       "    </tr>\n",
       "    <tr>\n",
       "      <th>739199</th>\n",
       "      <td>weather in some cases the tumour is diminished...</td>\n",
       "      <td>weather in some cases the tumour is diminished...</td>\n",
       "      <td>the</td>\n",
       "      <td>1</td>\n",
       "    </tr>\n",
       "    <tr>\n",
       "      <th>739200</th>\n",
       "      <td>thinking he could have been received in such a...</td>\n",
       "      <td>thinking he could have been received in such a...</td>\n",
       "      <td>only</td>\n",
       "      <td>1</td>\n",
       "    </tr>\n",
       "    <tr>\n",
       "      <th>739201</th>\n",
       "      <td>simplicity of his heart had ordered that they ...</td>\n",
       "      <td>simplicity of his heart had ordered that they ...</td>\n",
       "      <td>with</td>\n",
       "      <td>1</td>\n",
       "    </tr>\n",
       "    <tr>\n",
       "      <th>...</th>\n",
       "      <td>...</td>\n",
       "      <td>...</td>\n",
       "      <td>...</td>\n",
       "      <td>...</td>\n",
       "    </tr>\n",
       "    <tr>\n",
       "      <th>52299</th>\n",
       "      <td>along wrapped in her cloak she was only a coup...</td>\n",
       "      <td>along wrapped in her cloak she was only a couple</td>\n",
       "      <td>of</td>\n",
       "      <td>4</td>\n",
       "    </tr>\n",
       "    <tr>\n",
       "      <th>1019720</th>\n",
       "      <td>natasha they were fond of asking one another t...</td>\n",
       "      <td>natasha they were fond of asking one another t...</td>\n",
       "      <td>i</td>\n",
       "      <td>4</td>\n",
       "    </tr>\n",
       "    <tr>\n",
       "      <th>195683</th>\n",
       "      <td>with light mane and tail and when he rode it no</td>\n",
       "      <td>with light mane and tail and when he rode it</td>\n",
       "      <td>no</td>\n",
       "      <td>6</td>\n",
       "    </tr>\n",
       "    <tr>\n",
       "      <th>1102740</th>\n",
       "      <td>those around her she recovered from her mental...</td>\n",
       "      <td>those around her she recovered from her mental...</td>\n",
       "      <td>as</td>\n",
       "      <td>6</td>\n",
       "    </tr>\n",
       "    <tr>\n",
       "      <th>727484</th>\n",
       "      <td>getting in someone s way again galloped after ...</td>\n",
       "      <td>getting in someone s way again galloped after ...</td>\n",
       "      <td>what</td>\n",
       "      <td>6</td>\n",
       "    </tr>\n",
       "  </tbody>\n",
       "</table>\n",
       "<p>1109846 rows × 4 columns</p>\n",
       "</div>"
      ],
      "text/plain": [
       "                                                       seq  \\\n",
       "0        despised them not because of his own intellect...   \n",
       "739198   whistle but the sudden glare flashing into my ...   \n",
       "739199   weather in some cases the tumour is diminished...   \n",
       "739200   thinking he could have been received in such a...   \n",
       "739201   simplicity of his heart had ordered that they ...   \n",
       "...                                                    ...   \n",
       "52299    along wrapped in her cloak she was only a coup...   \n",
       "1019720  natasha they were fond of asking one another t...   \n",
       "195683     with light mane and tail and when he rode it no   \n",
       "1102740  those around her she recovered from her mental...   \n",
       "727484   getting in someone s way again galloped after ...   \n",
       "\n",
       "                                                       inp        out  freq  \n",
       "0        despised them not because of his own intellect...  knowledge     1  \n",
       "739198   whistle but the sudden glare flashing into my ...       made     1  \n",
       "739199   weather in some cases the tumour is diminished...        the     1  \n",
       "739200   thinking he could have been received in such a...       only     1  \n",
       "739201   simplicity of his heart had ordered that they ...       with     1  \n",
       "...                                                    ...        ...   ...  \n",
       "52299     along wrapped in her cloak she was only a couple         of     4  \n",
       "1019720  natasha they were fond of asking one another t...          i     4  \n",
       "195683        with light mane and tail and when he rode it         no     6  \n",
       "1102740  those around her she recovered from her mental...         as     6  \n",
       "727484   getting in someone s way again galloped after ...       what     6  \n",
       "\n",
       "[1109846 rows x 4 columns]"
      ]
     },
     "execution_count": 116,
     "metadata": {},
     "output_type": "execute_result"
    }
   ],
   "source": [
    "df.sort_values(by='freq')"
   ]
  },
  {
   "cell_type": "code",
   "execution_count": null,
   "id": "a6a31aa5",
   "metadata": {},
   "outputs": [],
   "source": []
  }
 ],
 "metadata": {
  "kernelspec": {
   "display_name": "Python 3 (ipykernel)",
   "language": "python",
   "name": "python3"
  },
  "language_info": {
   "codemirror_mode": {
    "name": "ipython",
    "version": 3
   },
   "file_extension": ".py",
   "mimetype": "text/x-python",
   "name": "python",
   "nbconvert_exporter": "python",
   "pygments_lexer": "ipython3",
   "version": "3.11.5"
  }
 },
 "nbformat": 4,
 "nbformat_minor": 5
}
