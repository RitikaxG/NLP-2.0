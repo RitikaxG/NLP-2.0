{
 "cells": [
  {
   "cell_type": "code",
   "execution_count": 1,
   "id": "907498f9",
   "metadata": {},
   "outputs": [],
   "source": [
    "import pandas as pd"
   ]
  },
  {
   "cell_type": "code",
   "execution_count": null,
   "id": "2dc1982d",
   "metadata": {},
   "outputs": [],
   "source": [
    "# Loading the Dataset\n",
    "df = pd.read_csv(\"tweets.csv\",encoding='latin',header=None,on_bad_lines='skip')\n",
    "# Renaming the column\n",
    "df.rename(columns = {0:'labels',5:'tweets'},inplace=True)\n",
    "# Drop the remaining column\n",
    "df.drop([1,2,3,4],axis=1,inplace=True)\n",
    "\n",
    "# Shuffling the dataset\n",
    "df = df.sample(frac=1)\n",
    "# Take a sample of 10000 tweets\n",
    "df = df.head(10000)\n",
    "\n",
    "# Replacing label '4': positive_sentiment with '1'\n",
    "# Such that labels : 1 - Positive sentiment, 2 : Negative sentiment\n",
    "df['labels'] = df['labels'].replace(4,1)\n",
    "df.head()"
   ]
  },
  {
   "cell_type": "code",
   "execution_count": 16,
   "id": "d8b56cab",
   "metadata": {},
   "outputs": [
    {
     "data": {
      "text/plain": [
       "1    5055\n",
       "0    4945\n",
       "Name: labels, dtype: int64"
      ]
     },
     "execution_count": 16,
     "metadata": {},
     "output_type": "execute_result"
    }
   ],
   "source": [
    "# Count of postive and negative tweets\n",
    "df['labels'].value_counts()"
   ]
  },
  {
   "cell_type": "code",
   "execution_count": 17,
   "id": "1261b41b",
   "metadata": {},
   "outputs": [
    {
     "data": {
      "text/plain": [
       "labels    0\n",
       "tweets    0\n",
       "dtype: int64"
      ]
     },
     "execution_count": 17,
     "metadata": {},
     "output_type": "execute_result"
    }
   ],
   "source": [
    "# Checking for null value\n",
    "df.isnull().sum()"
   ]
  },
  {
   "cell_type": "markdown",
   "id": "d65bb79b",
   "metadata": {},
   "source": [
    "#### Exploratory Data Analysis"
   ]
  },
  {
   "cell_type": "code",
   "execution_count": 18,
   "id": "51c7921b",
   "metadata": {},
   "outputs": [
    {
     "data": {
      "text/plain": [
       "'@JackGoldstein I is in the car '"
      ]
     },
     "execution_count": 18,
     "metadata": {},
     "output_type": "execute_result"
    }
   ],
   "source": [
    "df['tweets'].values[0]"
   ]
  },
  {
   "cell_type": "code",
   "execution_count": null,
   "id": "258dfe06",
   "metadata": {},
   "outputs": [],
   "source": []
  }
 ],
 "metadata": {
  "kernelspec": {
   "display_name": "Python 3 (ipykernel)",
   "language": "python",
   "name": "python3"
  },
  "language_info": {
   "codemirror_mode": {
    "name": "ipython",
    "version": 3
   },
   "file_extension": ".py",
   "mimetype": "text/x-python",
   "name": "python",
   "nbconvert_exporter": "python",
   "pygments_lexer": "ipython3",
   "version": "3.11.5"
  }
 },
 "nbformat": 4,
 "nbformat_minor": 5
}
