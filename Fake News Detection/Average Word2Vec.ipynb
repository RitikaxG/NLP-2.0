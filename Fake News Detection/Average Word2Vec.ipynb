{
 "cells": [
  {
   "cell_type": "code",
   "execution_count": 21,
   "id": "1feee67e",
   "metadata": {},
   "outputs": [
    {
     "name": "stderr",
     "output_type": "stream",
     "text": [
      "[nltk_data] Downloading package punkt to\n",
      "[nltk_data]     /Users/ritikagupta/nltk_data...\n",
      "[nltk_data]   Package punkt is already up-to-date!\n"
     ]
    },
    {
     "data": {
      "text/html": [
       "<div>\n",
       "<style scoped>\n",
       "    .dataframe tbody tr th:only-of-type {\n",
       "        vertical-align: middle;\n",
       "    }\n",
       "\n",
       "    .dataframe tbody tr th {\n",
       "        vertical-align: top;\n",
       "    }\n",
       "\n",
       "    .dataframe thead th {\n",
       "        text-align: right;\n",
       "    }\n",
       "</style>\n",
       "<table border=\"1\" class=\"dataframe\">\n",
       "  <thead>\n",
       "    <tr style=\"text-align: right;\">\n",
       "      <th></th>\n",
       "      <th>title</th>\n",
       "    </tr>\n",
       "  </thead>\n",
       "  <tbody>\n",
       "    <tr>\n",
       "      <th>0</th>\n",
       "      <td>Donald Trump Sends Out Embarrassing New Year’...</td>\n",
       "    </tr>\n",
       "    <tr>\n",
       "      <th>1</th>\n",
       "      <td>Drunk Bragging Trump Staffer Started Russian ...</td>\n",
       "    </tr>\n",
       "    <tr>\n",
       "      <th>2</th>\n",
       "      <td>Sheriff David Clarke Becomes An Internet Joke...</td>\n",
       "    </tr>\n",
       "    <tr>\n",
       "      <th>3</th>\n",
       "      <td>Trump Is So Obsessed He Even Has Obama’s Name...</td>\n",
       "    </tr>\n",
       "    <tr>\n",
       "      <th>4</th>\n",
       "      <td>Pope Francis Just Called Out Donald Trump Dur...</td>\n",
       "    </tr>\n",
       "  </tbody>\n",
       "</table>\n",
       "</div>"
      ],
      "text/plain": [
       "                                               title\n",
       "0   Donald Trump Sends Out Embarrassing New Year’...\n",
       "1   Drunk Bragging Trump Staffer Started Russian ...\n",
       "2   Sheriff David Clarke Becomes An Internet Joke...\n",
       "3   Trump Is So Obsessed He Even Has Obama’s Name...\n",
       "4   Pope Francis Just Called Out Donald Trump Dur..."
      ]
     },
     "execution_count": 21,
     "metadata": {},
     "output_type": "execute_result"
    }
   ],
   "source": [
    "import nltk\n",
    "import gensim\n",
    "import numpy as np\n",
    "import pandas as pd \n",
    "from tqdm import tqdm\n",
    "from nltk import sent_tokenize\n",
    "from gensim.models import Word2Vec\n",
    "from gensim.utils import simple_preprocess\n",
    "\n",
    "nltk.download('punkt')\n",
    "\n",
    "df = pd.read_csv('Fake.csv')\n",
    "df = df.drop(columns = ['date','subject','text'])\n",
    "df.head()"
   ]
  },
  {
   "cell_type": "code",
   "execution_count": 2,
   "id": "5166ccc9",
   "metadata": {},
   "outputs": [
    {
     "data": {
      "text/plain": [
       "title    0\n",
       "dtype: int64"
      ]
     },
     "execution_count": 2,
     "metadata": {},
     "output_type": "execute_result"
    }
   ],
   "source": [
    "# Checking for null value\n",
    "df.isnull().sum()"
   ]
  },
  {
   "cell_type": "code",
   "execution_count": 3,
   "id": "4cea12f5",
   "metadata": {},
   "outputs": [],
   "source": [
    "words = []\n",
    "corpus = df['title']\n",
    "\n",
    "for sent in corpus:\n",
    "    sent_token = sent_tokenize(sent)\n",
    "    for sent in sent_token:\n",
    "        words.append(simple_preprocess(sent))"
   ]
  },
  {
   "cell_type": "code",
   "execution_count": 9,
   "id": "8b022530",
   "metadata": {},
   "outputs": [],
   "source": [
    "model = Word2Vec(words, window=5, min_count=2)  "
   ]
  },
  {
   "cell_type": "code",
   "execution_count": 8,
   "id": "f1a43d0d",
   "metadata": {},
   "outputs": [
    {
     "data": {
      "text/plain": [
       "'donald trump sends out embarrassing new year eve message this is disturbing'"
      ]
     },
     "execution_count": 8,
     "metadata": {},
     "output_type": "execute_result"
    }
   ],
   "source": [
    "' '.join(words[0])"
   ]
  },
  {
   "cell_type": "code",
   "execution_count": 12,
   "id": "c56f63ce",
   "metadata": {},
   "outputs": [
    {
     "data": {
      "text/plain": [
       "(100,)"
      ]
     },
     "execution_count": 12,
     "metadata": {},
     "output_type": "execute_result"
    }
   ],
   "source": [
    "model.wv['donald'].shape"
   ]
  },
  {
   "cell_type": "code",
   "execution_count": 13,
   "id": "c3540964",
   "metadata": {},
   "outputs": [
    {
     "data": {
      "text/plain": [
       "['donald',\n",
       " 'trump',\n",
       " 'sends',\n",
       " 'out',\n",
       " 'embarrassing',\n",
       " 'new',\n",
       " 'year',\n",
       " 'eve',\n",
       " 'message',\n",
       " 'this',\n",
       " 'is',\n",
       " 'disturbing']"
      ]
     },
     "execution_count": 13,
     "metadata": {},
     "output_type": "execute_result"
    }
   ],
   "source": [
    "words[0]"
   ]
  },
  {
   "cell_type": "code",
   "execution_count": 24,
   "id": "866940c3",
   "metadata": {},
   "outputs": [
    {
     "name": "stderr",
     "output_type": "stream",
     "text": [
      "100%|███████████████████████████████████████████████████████████████████████████████████████████████████████████████████████████████████████████████████████████████| 27474/27474 [00:05<00:00, 4758.53it/s]\n"
     ]
    }
   ],
   "source": [
    "# Find the average word vector of all words in a sentence i.e Average word_vec\n",
    "avg_sent_vec = []\n",
    "\n",
    "for sent in tqdm(words):\n",
    "    if any(word in model.wv.index_to_key for word in sent):\n",
    "        avg_sent_vec.append(np.mean([model.wv[word] for word in sent if word in model.wv.index_to_key], axis=0))\n",
    "\n",
    "avg_sent_vec = np.array(avg_sent_vec)  # Now should be a valid array"
   ]
  },
  {
   "cell_type": "code",
   "execution_count": null,
   "id": "7fe5f867",
   "metadata": {},
   "outputs": [],
   "source": []
  }
 ],
 "metadata": {
  "kernelspec": {
   "display_name": "Python 3 (ipykernel)",
   "language": "python",
   "name": "python3"
  },
  "language_info": {
   "codemirror_mode": {
    "name": "ipython",
    "version": 3
   },
   "file_extension": ".py",
   "mimetype": "text/x-python",
   "name": "python",
   "nbconvert_exporter": "python",
   "pygments_lexer": "ipython3",
   "version": "3.11.5"
  }
 },
 "nbformat": 4,
 "nbformat_minor": 5
}
