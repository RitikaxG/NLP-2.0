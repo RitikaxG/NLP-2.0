{
 "cells": [
  {
   "cell_type": "code",
   "execution_count": 5,
   "id": "d136b812",
   "metadata": {},
   "outputs": [
    {
     "name": "stderr",
     "output_type": "stream",
     "text": [
      "[nltk_data] Downloading package stopwords to\n",
      "[nltk_data]     /Users/ritikagupta/nltk_data...\n",
      "[nltk_data]   Package stopwords is already up-to-date!\n"
     ]
    }
   ],
   "source": [
    "import nltk\n",
    "nltk.download('stopwords')\n",
    "\n",
    "from nltk.corpus import stopwords\n",
    "from nltk.tokenize import word_tokenize"
   ]
  },
  {
   "cell_type": "code",
   "execution_count": 3,
   "id": "0a04e0ae",
   "metadata": {},
   "outputs": [],
   "source": [
    "stopword = stopwords.words('english')"
   ]
  },
  {
   "cell_type": "code",
   "execution_count": 6,
   "id": "516c32d0",
   "metadata": {},
   "outputs": [],
   "source": [
    "# Stop Words: Even after removal of such words, the sentence make sense.\n",
    "txt = 'I am not in a mood to talk.'\n",
    "txt = word_tokenize(txt)"
   ]
  },
  {
   "cell_type": "code",
   "execution_count": 13,
   "id": "a75fc0f7",
   "metadata": {},
   "outputs": [
    {
     "name": "stdout",
     "output_type": "stream",
     "text": [
      "mood\n",
      "talk\n"
     ]
    }
   ],
   "source": [
    "for word in txt:\n",
    "    if ((word.lower() not in stopword) and (len(word) >1)):\n",
    "        print(word)"
   ]
  }
 ],
 "metadata": {
  "kernelspec": {
   "display_name": "Python 3 (ipykernel)",
   "language": "python",
   "name": "python3"
  },
  "language_info": {
   "codemirror_mode": {
    "name": "ipython",
    "version": 3
   },
   "file_extension": ".py",
   "mimetype": "text/x-python",
   "name": "python",
   "nbconvert_exporter": "python",
   "pygments_lexer": "ipython3",
   "version": "3.11.5"
  }
 },
 "nbformat": 4,
 "nbformat_minor": 5
}
