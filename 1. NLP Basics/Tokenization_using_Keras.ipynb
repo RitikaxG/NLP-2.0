{
  "nbformat": 4,
  "nbformat_minor": 0,
  "metadata": {
    "colab": {
      "provenance": []
    },
    "kernelspec": {
      "name": "python3",
      "display_name": "Python 3"
    },
    "language_info": {
      "name": "python"
    }
  },
  "cells": [
    {
      "cell_type": "markdown",
      "source": [
        "### Text to Sequences"
      ],
      "metadata": {
        "id": "ID5MpCe9W2fk"
      }
    },
    {
      "cell_type": "code",
      "execution_count": 1,
      "metadata": {
        "id": "BLAIOcR3CIiI"
      },
      "outputs": [],
      "source": [
        "from tensorflow.keras.preprocessing.text import Tokenizer\n",
        "tok = Tokenizer()"
      ]
    },
    {
      "cell_type": "code",
      "source": [
        "corp = ['milk is sweet, sweets are yum']\n",
        "tok.fit_on_texts(corp)"
      ],
      "metadata": {
        "id": "gfYL_CZRCP2K"
      },
      "execution_count": 2,
      "outputs": []
    },
    {
      "cell_type": "code",
      "source": [
        "tok.word_index"
      ],
      "metadata": {
        "colab": {
          "base_uri": "https://localhost:8080/"
        },
        "id": "CSUKDptbU_U9",
        "outputId": "db06837a-1929-4301-f40a-41293b6458c2"
      },
      "execution_count": 3,
      "outputs": [
        {
          "output_type": "execute_result",
          "data": {
            "text/plain": [
              "{'milk': 1, 'is': 2, 'sweet': 3, 'sweets': 4, 'are': 5, 'yum': 6}"
            ]
          },
          "metadata": {},
          "execution_count": 3
        }
      ]
    },
    {
      "cell_type": "code",
      "source": [
        "tok.texts_to_sequences(corp)"
      ],
      "metadata": {
        "colab": {
          "base_uri": "https://localhost:8080/"
        },
        "id": "zV0vKBP0VGXM",
        "outputId": "fa44ef77-fcb7-43b0-d767-57f61da90b2f"
      },
      "execution_count": 4,
      "outputs": [
        {
          "output_type": "execute_result",
          "data": {
            "text/plain": [
              "[[1, 2, 3, 4, 5, 6]]"
            ]
          },
          "metadata": {},
          "execution_count": 4
        }
      ]
    },
    {
      "cell_type": "code",
      "source": [
        "tok.texts_to_sequences(['sweets are yum, milk is sweet'])"
      ],
      "metadata": {
        "colab": {
          "base_uri": "https://localhost:8080/"
        },
        "id": "rsnCdhT5VR8r",
        "outputId": "51728c1b-fd41-43b8-c5bd-21ca641052f1"
      },
      "execution_count": 7,
      "outputs": [
        {
          "output_type": "execute_result",
          "data": {
            "text/plain": [
              "[[4, 5, 6, 1, 2, 3]]"
            ]
          },
          "metadata": {},
          "execution_count": 7
        }
      ]
    },
    {
      "cell_type": "markdown",
      "source": [
        "### Adding OOV"
      ],
      "metadata": {
        "id": "VM5IZkSSWv9F"
      }
    },
    {
      "cell_type": "code",
      "source": [
        "from tensorflow.keras.preprocessing.text import Tokenizer\n",
        "tok = Tokenizer(oov_token='black')\n",
        "\n",
        "corp = ['milk is sweet, sweets are yum']\n",
        "tok.fit_on_texts(corp)\n",
        "print(tok.word_index)\n",
        "\n",
        "tok.texts_to_sequences(['milk is sweet, sweets are yum'])"
      ],
      "metadata": {
        "colab": {
          "base_uri": "https://localhost:8080/"
        },
        "id": "X2Y5jfxiVeZW",
        "outputId": "b93644da-0aee-481b-cf54-9eb003214d05"
      },
      "execution_count": 12,
      "outputs": [
        {
          "output_type": "stream",
          "name": "stdout",
          "text": [
            "{'black': 1, 'milk': 2, 'is': 3, 'sweet': 4, 'sweets': 5, 'are': 6, 'yum': 7}\n"
          ]
        },
        {
          "output_type": "execute_result",
          "data": {
            "text/plain": [
              "[[2, 3, 4, 5, 6, 7]]"
            ]
          },
          "metadata": {},
          "execution_count": 12
        }
      ]
    },
    {
      "cell_type": "markdown",
      "source": [
        "### Limiting the Number of Words"
      ],
      "metadata": {
        "id": "c2aStOUKW89u"
      }
    },
    {
      "cell_type": "code",
      "source": [
        "from tensorflow.keras.preprocessing.text import Tokenizer\n",
        "tok = Tokenizer(num_words=4)\n",
        "\n",
        "corp = ['milk is sweet, sweets are yum']\n",
        "tok.fit_on_texts(corp)\n",
        "print(tok.word_index)\n",
        "\n",
        "tok.texts_to_sequences(['milk is sweet, sweets are yum'])"
      ],
      "metadata": {
        "colab": {
          "base_uri": "https://localhost:8080/"
        },
        "id": "aPkzqRPiWJVV",
        "outputId": "6162f325-93a4-4eb4-facf-c4fd97b70dd9"
      },
      "execution_count": 14,
      "outputs": [
        {
          "output_type": "stream",
          "name": "stdout",
          "text": [
            "{'milk': 1, 'is': 2, 'sweet': 3, 'sweets': 4, 'are': 5, 'yum': 6}\n"
          ]
        },
        {
          "output_type": "execute_result",
          "data": {
            "text/plain": [
              "[[1, 2, 3]]"
            ]
          },
          "metadata": {},
          "execution_count": 14
        }
      ]
    }
  ]
}