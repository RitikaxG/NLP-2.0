{
 "cells": [
  {
   "cell_type": "code",
   "execution_count": 3,
   "id": "26311eac",
   "metadata": {},
   "outputs": [
    {
     "name": "stderr",
     "output_type": "stream",
     "text": [
      "[nltk_data] Downloading package wordnet to\n",
      "[nltk_data]     /Users/ritikagupta/nltk_data...\n",
      "[nltk_data]   Package wordnet is already up-to-date!\n",
      "[nltk_data] Downloading package omw-1.4 to\n",
      "[nltk_data]     /Users/ritikagupta/nltk_data...\n",
      "[nltk_data]   Package omw-1.4 is already up-to-date!\n"
     ]
    }
   ],
   "source": [
    "import nltk\n",
    "nltk.download('wordnet')\n",
    "nltk.download('omw-1.4')\n",
    "\n",
    "from nltk.stem import WordNetLemmatizer, PorterStemmer"
   ]
  },
  {
   "cell_type": "code",
   "execution_count": 4,
   "id": "fc31aa02",
   "metadata": {},
   "outputs": [],
   "source": [
    "# Both Stemming and Lemmatization are used to find the root words\n",
    "stem = PorterStemmer()\n",
    "lam  = WordNetLemmatizer()"
   ]
  },
  {
   "cell_type": "markdown",
   "id": "c83e49a4",
   "metadata": {},
   "source": [
    "### Lemmatization"
   ]
  },
  {
   "cell_type": "code",
   "execution_count": 7,
   "id": "13b1250d",
   "metadata": {},
   "outputs": [
    {
     "name": "stdout",
     "output_type": "stream",
     "text": [
      "change\n",
      "changer\n",
      "change\n",
      "changed\n"
     ]
    }
   ],
   "source": [
    "# Root word make sense in case of Lemmatization\n",
    "print(lam.lemmatize('change'))\n",
    "print(lam.lemmatize('changer'))\n",
    "print(lam.lemmatize('changes'))\n",
    "print(lam.lemmatize('changed'))"
   ]
  },
  {
   "cell_type": "markdown",
   "id": "461c097e",
   "metadata": {},
   "source": [
    "### Stemming"
   ]
  },
  {
   "cell_type": "code",
   "execution_count": 8,
   "id": "a16b526d",
   "metadata": {},
   "outputs": [
    {
     "name": "stdout",
     "output_type": "stream",
     "text": [
      "chang\n",
      "chang\n",
      "changer\n",
      "chang\n"
     ]
    }
   ],
   "source": [
    "# Root word may not make sense\n",
    "print(stem.stem('change'))\n",
    "print(stem.stem('changes'))\n",
    "print(stem.stem('changer'))\n",
    "print(stem.stem('changed'))"
   ]
  },
  {
   "cell_type": "markdown",
   "id": "5e87a89f",
   "metadata": {},
   "source": [
    "* Lemmatization is more frequently used since the root word returnes by it makes sense. Information loss is very less."
   ]
  },
  {
   "cell_type": "code",
   "execution_count": null,
   "id": "179e2358",
   "metadata": {},
   "outputs": [],
   "source": []
  }
 ],
 "metadata": {
  "kernelspec": {
   "display_name": "Python 3 (ipykernel)",
   "language": "python",
   "name": "python3"
  },
  "language_info": {
   "codemirror_mode": {
    "name": "ipython",
    "version": 3
   },
   "file_extension": ".py",
   "mimetype": "text/x-python",
   "name": "python",
   "nbconvert_exporter": "python",
   "pygments_lexer": "ipython3",
   "version": "3.11.5"
  }
 },
 "nbformat": 4,
 "nbformat_minor": 5
}
