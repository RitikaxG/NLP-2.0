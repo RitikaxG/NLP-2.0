{
 "cells": [
  {
   "cell_type": "markdown",
   "id": "9a1e4a41",
   "metadata": {},
   "source": [
    "### Named Entity Recognition"
   ]
  },
  {
   "cell_type": "code",
   "execution_count": 1,
   "id": "42172fb0",
   "metadata": {},
   "outputs": [],
   "source": [
    "import spacy\n",
    "nlp = spacy.load('en_core_web_lg')"
   ]
  },
  {
   "cell_type": "markdown",
   "id": "d301d5fb",
   "metadata": {},
   "source": [
    "#### 1. Defining Entity Function"
   ]
  },
  {
   "cell_type": "code",
   "execution_count": 9,
   "id": "b860dc7e",
   "metadata": {},
   "outputs": [
    {
     "name": "stdout",
     "output_type": "stream",
     "text": [
      "Google | ORG | Companies, agencies, institutions, etc.\n",
      "Alphabet | ORG | Companies, agencies, institutions, etc.\n",
      "US | GPE | Countries, cities, states\n"
     ]
    }
   ],
   "source": [
    "doc = nlp('Google is the child company of Alphabet. It is a US based organization.')\n",
    "def show_entities(doc):\n",
    "    if doc.ents:\n",
    "        for ent in doc.ents:\n",
    "            print(ent,'|',ent.label_,'|',spacy.explain(ent.label_))\n",
    "    else:\n",
    "        print(\"No entities found\")\n",
    "show_entities(doc)"
   ]
  },
  {
   "cell_type": "code",
   "execution_count": 11,
   "id": "38069da8",
   "metadata": {},
   "outputs": [
    {
     "name": "stdout",
     "output_type": "stream",
     "text": [
      "today | DATE | Absolute or relative dates or periods\n"
     ]
    }
   ],
   "source": [
    "show_entities(nlp('I am feeling dizzy today.'))"
   ]
  },
  {
   "cell_type": "code",
   "execution_count": 12,
   "id": "ff711cb3",
   "metadata": {},
   "outputs": [
    {
     "name": "stdout",
     "output_type": "stream",
     "text": [
      "No entities found\n"
     ]
    }
   ],
   "source": [
    "show_entities(nlp('I am feeling dizzy.'))"
   ]
  },
  {
   "cell_type": "markdown",
   "id": "d05cd466",
   "metadata": {},
   "source": [
    "#### 2. Adding new Entity - One at a time"
   ]
  },
  {
   "cell_type": "code",
   "execution_count": 35,
   "id": "8e885e6c",
   "metadata": {},
   "outputs": [
    {
     "name": "stdout",
     "output_type": "stream",
     "text": [
      "Gin | ORG | Companies, agencies, institutions, etc.\n"
     ]
    }
   ],
   "source": [
    "from spacy.tokens import Span as sp\n",
    "doc = nlp('Gin is one of the biggest giant of shoes')\n",
    "new_entity = sp(doc,0,1,label = doc.vocab.strings['ORG'])\n",
    "doc.ents = list(doc.ents) + [new_entity]\n",
    "show_entities(doc)"
   ]
  },
  {
   "cell_type": "markdown",
   "id": "281c2299",
   "metadata": {},
   "source": [
    "#### 3. Adding new Entity - Multiple at a time"
   ]
  },
  {
   "cell_type": "code",
   "execution_count": 46,
   "id": "f63a8da6",
   "metadata": {},
   "outputs": [
    {
     "name": "stdout",
     "output_type": "stream",
     "text": [
      "No entities found\n"
     ]
    }
   ],
   "source": [
    "from spacy.matcher import PhraseMatcher\n",
    "doc = nlp('Eating candy and chocolate are both injurious to health.')\n",
    "m = PhraseMatcher(nlp.vocab)\n",
    "phrase = ['candy','chocolate']\n",
    "pattern = [nlp(text) for text in phrase]\n",
    "\n",
    "m.add('Sweet',None,*pattern)\n",
    "show_entities(doc)"
   ]
  },
  {
   "cell_type": "code",
   "execution_count": 52,
   "id": "2cfe5a51",
   "metadata": {},
   "outputs": [
    {
     "name": "stdout",
     "output_type": "stream",
     "text": [
      "candy | Sweet | None\n",
      "chocolate | Sweet | None\n"
     ]
    },
    {
     "name": "stderr",
     "output_type": "stream",
     "text": [
      "/Users/ritikagupta/anaconda3/lib/python3.11/site-packages/spacy/glossary.py:20: UserWarning: [W118] Term 'Sweet' not found in glossary. It may however be explained in documentation for the corpora used to train the language. Please check `nlp.meta[\"sources\"]` for any relevant links.\n",
      "  warnings.warn(Warnings.W118.format(term=term))\n"
     ]
    }
   ],
   "source": [
    "from spacy.tokens import Span as sp\n",
    "sweet = doc.vocab.strings['Sweet']\n",
    "found = m(doc)\n",
    "\n",
    "new_ents = [sp(doc,match[1], match[2],label = 'Sweet') for match in found]\n",
    "\n",
    "doc.ents = list(doc.ents) + new_ents\n",
    "show_entities(doc)"
   ]
  },
  {
   "cell_type": "markdown",
   "id": "8e6753e6",
   "metadata": {},
   "source": [
    "#### 4. Finding the Specific Tag words"
   ]
  },
  {
   "cell_type": "code",
   "execution_count": 63,
   "id": "240fe274",
   "metadata": {},
   "outputs": [
    {
     "name": "stdout",
     "output_type": "stream",
     "text": [
      "Google | ORG | Companies, agencies, institutions, etc.\n",
      "Apple | ORG | Companies, agencies, institutions, etc.\n",
      "Alphabet | ORG | Companies, agencies, institutions, etc.\n",
      "china | GPE | Countries, cities, states\n",
      "10 thousand | CARDINAL | Numerals that do not fall under another type\n"
     ]
    }
   ],
   "source": [
    "doc = nlp('Google, Apple and Alphabet,china, 10 thousand')\n",
    "show_entities(doc)"
   ]
  },
  {
   "cell_type": "code",
   "execution_count": 64,
   "id": "0d11c04f",
   "metadata": {},
   "outputs": [
    {
     "data": {
      "text/plain": [
       "[Google, Apple, Alphabet]"
      ]
     },
     "execution_count": 64,
     "metadata": {},
     "output_type": "execute_result"
    }
   ],
   "source": [
    "[ent for ent in doc.ents if ent.label_ == 'ORG']"
   ]
  },
  {
   "cell_type": "code",
   "execution_count": 65,
   "id": "178fa7f9",
   "metadata": {},
   "outputs": [
    {
     "data": {
      "text/plain": [
       "[10 thousand]"
      ]
     },
     "execution_count": 65,
     "metadata": {},
     "output_type": "execute_result"
    }
   ],
   "source": [
    "[ent for ent in doc.ents if ent.label_ == 'CARDINAL']"
   ]
  },
  {
   "cell_type": "code",
   "execution_count": null,
   "id": "0fb602f0",
   "metadata": {},
   "outputs": [],
   "source": []
  }
 ],
 "metadata": {
  "kernelspec": {
   "display_name": "Python 3 (ipykernel)",
   "language": "python",
   "name": "python3"
  },
  "language_info": {
   "codemirror_mode": {
    "name": "ipython",
    "version": 3
   },
   "file_extension": ".py",
   "mimetype": "text/x-python",
   "name": "python",
   "nbconvert_exporter": "python",
   "pygments_lexer": "ipython3",
   "version": "3.11.5"
  }
 },
 "nbformat": 4,
 "nbformat_minor": 5
}
