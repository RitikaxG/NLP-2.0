{
 "cells": [
  {
   "cell_type": "markdown",
   "id": "7ed03935",
   "metadata": {},
   "source": [
    "#### 1. Find probability of occurrence of all unique words\n",
    "1.  Find all unique words\n",
    "2.  Find probability of that word appear"
   ]
  },
  {
   "cell_type": "code",
   "execution_count": 91,
   "id": "3b15cc29",
   "metadata": {},
   "outputs": [],
   "source": [
    "import re\n",
    "from tqdm import tqdm\n",
    "import pandas as pd"
   ]
  },
  {
   "cell_type": "markdown",
   "id": "2c9f1011",
   "metadata": {},
   "source": [
    "#### 1. Finding unique words"
   ]
  },
  {
   "cell_type": "code",
   "execution_count": 92,
   "id": "99dbe23a",
   "metadata": {},
   "outputs": [
    {
     "name": "stdout",
     "output_type": "stream",
     "text": [
      "1164968\n"
     ]
    }
   ],
   "source": [
    "with open('big.txt','r') as fd:\n",
    "    lines = fd.readlines()\n",
    "    words = []\n",
    "    for line in lines:\n",
    "        words += line.split(' ')\n",
    "print(len(words))"
   ]
  },
  {
   "cell_type": "code",
   "execution_count": 93,
   "id": "26a822d7",
   "metadata": {},
   "outputs": [
    {
     "name": "stdout",
     "output_type": "stream",
     "text": [
      "1115585\n",
      "32198\n"
     ]
    }
   ],
   "source": [
    "with open('big.txt','r') as fd:\n",
    "    lines = fd.readlines()\n",
    "    words = []\n",
    "    for line in lines:\n",
    "        words += re.findall('\\w+',line.lower())\n",
    "print(len(words))\n",
    "vocab = list(set(words))\n",
    "print(len(vocab))"
   ]
  },
  {
   "cell_type": "markdown",
   "id": "09786828",
   "metadata": {},
   "source": [
    "* 1164968 - 1115585 = 49383\n",
    "* There are 49383 words which are not beginning with a word but rather a number or a special character"
   ]
  },
  {
   "cell_type": "markdown",
   "id": "1f5ce48c",
   "metadata": {},
   "source": [
    "#### 2. Finding the probability distribution"
   ]
  },
  {
   "cell_type": "code",
   "execution_count": 94,
   "id": "fad9ccde",
   "metadata": {},
   "outputs": [
    {
     "name": "stderr",
     "output_type": "stream",
     "text": [
      "100%|█████████████████████████████████████████████████████████████████████████████████████████████████████████████████████████████████████████████████████████████████| 32198/32198 [06:55<00:00, 77.47it/s]\n"
     ]
    }
   ],
   "source": [
    "word_probability = {}\n",
    "for word in tqdm(vocab):\n",
    "    word_probability[word] = float(words.count(word) / len(words))"
   ]
  },
  {
   "cell_type": "code",
   "execution_count": 95,
   "id": "0165304c",
   "metadata": {},
   "outputs": [
    {
     "data": {
      "text/plain": [
       "32198"
      ]
     },
     "execution_count": 95,
     "metadata": {},
     "output_type": "execute_result"
    }
   ],
   "source": [
    "len(word_probability)"
   ]
  },
  {
   "cell_type": "markdown",
   "id": "de2c3b24",
   "metadata": {},
   "source": [
    "### 3. Text Preprocessing\n",
    "#### 3.0 Splitting"
   ]
  },
  {
   "cell_type": "markdown",
   "id": "38eb194c",
   "metadata": {},
   "source": [
    "'loave' -l-> 'oave'\n",
    "'loave' -o-> 'lave'\n",
    "'loave' -a-> 'love'\n",
    "'loave' -v-> 'loae'\n",
    "'loave' -e-> 'loav'"
   ]
  },
  {
   "cell_type": "code",
   "execution_count": 96,
   "id": "36499f02",
   "metadata": {},
   "outputs": [
    {
     "data": {
      "text/plain": [
       "[('', 'Ritika'),\n",
       " ('R', 'itika'),\n",
       " ('Ri', 'tika'),\n",
       " ('Rit', 'ika'),\n",
       " ('Riti', 'ka'),\n",
       " ('Ritik', 'a'),\n",
       " ('Ritika', '')]"
      ]
     },
     "execution_count": 96,
     "metadata": {},
     "output_type": "execute_result"
    }
   ],
   "source": [
    "def split(word):\n",
    "    parts = []\n",
    "    for i in range(len(word)+1):\n",
    "        parts+= [(word[:i],word[i:])]\n",
    "    return parts\n",
    "split('Ritika')"
   ]
  },
  {
   "cell_type": "markdown",
   "id": "33354944",
   "metadata": {},
   "source": [
    "#### 3.1. Delete\n",
    "* 'loave' -> 'love'"
   ]
  },
  {
   "cell_type": "code",
   "execution_count": 97,
   "id": "b2b3cc6d",
   "metadata": {},
   "outputs": [
    {
     "data": {
      "text/plain": [
       "['itika', 'Rtika', 'Riika', 'Ritka', 'Ritia', 'Ritik', 'Ritika']"
      ]
     },
     "execution_count": 97,
     "metadata": {},
     "output_type": "execute_result"
    }
   ],
   "source": [
    "def delete(word):\n",
    "    output = []\n",
    "    \n",
    "    for l,r in split(word):\n",
    "        output.append(l+r[1:])\n",
    "    return output\n",
    "delete('Ritika')"
   ]
  },
  {
   "cell_type": "markdown",
   "id": "c35b8e3a",
   "metadata": {},
   "source": [
    "#### 3.2 Swap\n",
    "* 'lvoe' -> 'love'"
   ]
  },
  {
   "cell_type": "code",
   "execution_count": 98,
   "id": "a034ac1c",
   "metadata": {},
   "outputs": [
    {
     "data": {
      "text/plain": [
       "['iRtika', 'Rtiika', 'Riitka', 'Ritkia', 'Ritiak']"
      ]
     },
     "execution_count": 98,
     "metadata": {},
     "output_type": "execute_result"
    }
   ],
   "source": [
    "def swap(word):\n",
    "    output = []\n",
    "    for l,r in split(word):\n",
    "        if(len(r)>1):\n",
    "            output.append(l+r[1]+r[0]+r[2:])\n",
    "    return output\n",
    "swap('Ritika')"
   ]
  },
  {
   "cell_type": "markdown",
   "id": "7aaa7659",
   "metadata": {},
   "source": [
    "#### 3.3 Replace\n",
    "* 'lave' -> 'love'"
   ]
  },
  {
   "cell_type": "markdown",
   "id": "944ff62b",
   "metadata": {},
   "source": [
    "'lave' -> 'aave','bave','cave',...'zave'\n",
    "\n",
    "'lave' -> 'lave','lbve','lcve',...'lzve'\n",
    "\n",
    "..\n",
    "\n",
    "'lave' -> 'lava','lavb','lavc',...'lavz'\n",
    "\n",
    "Total combinations = 26* 4 = 104"
   ]
  },
  {
   "cell_type": "code",
   "execution_count": 99,
   "id": "57c323ad",
   "metadata": {},
   "outputs": [
    {
     "data": {
      "text/plain": [
       "182"
      ]
     },
     "execution_count": 99,
     "metadata": {},
     "output_type": "execute_result"
    }
   ],
   "source": [
    "def replace(word):\n",
    "    characters = 'abcdefghijklmnopqrstuvwxyz'\n",
    "    output = []\n",
    "    for l,r in split(word):\n",
    "        for char in characters:\n",
    "            output.append(l+char+r[1:])\n",
    "    return output\n",
    "len(replace('Ritika'))"
   ]
  },
  {
   "cell_type": "markdown",
   "id": "36267256",
   "metadata": {},
   "source": [
    " #### 3.4 Insert\n",
    "* 'lve' -> 'love'"
   ]
  },
  {
   "cell_type": "code",
   "execution_count": 100,
   "id": "2b597c18",
   "metadata": {},
   "outputs": [
    {
     "data": {
      "text/plain": [
       "182"
      ]
     },
     "execution_count": 100,
     "metadata": {},
     "output_type": "execute_result"
    }
   ],
   "source": [
    "def insert(word):\n",
    "    characters = 'abcdefghijklmnopqrstuvwxyz'\n",
    "    output = []\n",
    "    for l,r in split(word):\n",
    "        for char in characters:\n",
    "            output.append(l+char+r)\n",
    "    return output\n",
    "len(insert('Ritika'))"
   ]
  },
  {
   "cell_type": "markdown",
   "id": "0ba29977",
   "metadata": {},
   "source": [
    "### 4. Finding the Prediction"
   ]
  },
  {
   "cell_type": "markdown",
   "id": "d7ec05c7",
   "metadata": {},
   "source": [
    "#### 4.1) Combining Possible Words"
   ]
  },
  {
   "cell_type": "code",
   "execution_count": 101,
   "id": "12c308e6",
   "metadata": {},
   "outputs": [
    {
     "data": {
      "text/plain": [
       "340"
      ]
     },
     "execution_count": 101,
     "metadata": {},
     "output_type": "execute_result"
    }
   ],
   "source": [
    "def edit(word):\n",
    "    return set(insert(word)+ delete(word)+ swap(word)+ replace(word))\n",
    "len(edit('Ritika'))"
   ]
  },
  {
   "cell_type": "markdown",
   "id": "d5c75f93",
   "metadata": {},
   "source": [
    "#### 4.2) Predicting the word"
   ]
  },
  {
   "cell_type": "code",
   "execution_count": 102,
   "id": "a489e9e5",
   "metadata": {},
   "outputs": [],
   "source": [
    "def spell_check_edit_1(word,count = 5):\n",
    "    output = []\n",
    "    suggested_words = edit(word)\n",
    "    for wrd in suggested_words:\n",
    "        if wrd in word_probability.keys():\n",
    "            output.append([wrd, word_probability[wrd]])\n",
    "            \n",
    "    return list(pd.DataFrame(output,columns=['word','prob']).sort_values(by ='prob',ascending=False).head(count)['word'].values)"
   ]
  },
  {
   "cell_type": "code",
   "execution_count": 103,
   "id": "36d78883",
   "metadata": {},
   "outputs": [
    {
     "data": {
      "text/plain": [
       "['the', 'that']"
      ]
     },
     "execution_count": 103,
     "metadata": {},
     "output_type": "execute_result"
    }
   ],
   "source": [
    "spell_check_edit_1('tha',2)"
   ]
  },
  {
   "cell_type": "markdown",
   "id": "424244dc",
   "metadata": {},
   "source": [
    "### 5. Finding the Prediction (Level-2)\n"
   ]
  },
  {
   "cell_type": "markdown",
   "id": "2c0c3c30",
   "metadata": {},
   "source": [
    "#### 5.1) Combining Possible words"
   ]
  },
  {
   "cell_type": "code",
   "execution_count": 111,
   "id": "3f4e026b",
   "metadata": {},
   "outputs": [
    {
     "data": {
      "text/plain": [
       "['family', 'fall', 'fault', 'fail', 'falls']"
      ]
     },
     "execution_count": 111,
     "metadata": {},
     "output_type": "execute_result"
    }
   ],
   "source": [
    "def spell_check_edit_2(word,count = 5):\n",
    "    output = []\n",
    "    suggested_words = edit(word)  # Include 1st level edit\n",
    "    for e1 in edit(word):\n",
    "        suggested_words.update(edit(e1)) # Include second level edit\n",
    "    \n",
    "    suggested_words = set(suggested_words)\n",
    "    \n",
    "    for wrd in suggested_words:\n",
    "        if wrd in word_probability.keys():\n",
    "            output.append([wrd,word_probability[wrd]])\n",
    "    return list(pd.DataFrame(output,columns=['word','prob']).sort_values(by ='prob',ascending=False).head(count)['word'].values)\n",
    "spell_check_edit_2('famli')"
   ]
  },
  {
   "cell_type": "code",
   "execution_count": null,
   "id": "debd4df9",
   "metadata": {},
   "outputs": [],
   "source": []
  }
 ],
 "metadata": {
  "kernelspec": {
   "display_name": "Python 3 (ipykernel)",
   "language": "python",
   "name": "python3"
  },
  "language_info": {
   "codemirror_mode": {
    "name": "ipython",
    "version": 3
   },
   "file_extension": ".py",
   "mimetype": "text/x-python",
   "name": "python",
   "nbconvert_exporter": "python",
   "pygments_lexer": "ipython3",
   "version": "3.11.5"
  }
 },
 "nbformat": 4,
 "nbformat_minor": 5
}
