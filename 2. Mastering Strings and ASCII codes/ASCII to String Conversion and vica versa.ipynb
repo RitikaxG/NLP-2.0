{
 "cells": [
  {
   "cell_type": "markdown",
   "id": "8022b90b",
   "metadata": {},
   "source": [
    "### Getting Started with ASCII Codes"
   ]
  },
  {
   "cell_type": "code",
   "execution_count": 1,
   "id": "17faeb12",
   "metadata": {},
   "outputs": [
    {
     "name": "stdout",
     "output_type": "stream",
     "text": [
      "A\n"
     ]
    }
   ],
   "source": [
    "print('A')"
   ]
  },
  {
   "cell_type": "code",
   "execution_count": 27,
   "id": "45c9c7c6",
   "metadata": {},
   "outputs": [
    {
     "name": "stdout",
     "output_type": "stream",
     "text": [
      "65\n",
      "97\n",
      "125\n",
      "59\n",
      "32\n",
      "53\n",
      "90\n"
     ]
    }
   ],
   "source": [
    "# ord function returns the ASCII value of 'A'\n",
    "# We can only pass one character at a time\n",
    "print(ord('A'))\n",
    "print(ord('a'))\n",
    "print(ord('}'))\n",
    "print(ord(';'))\n",
    "print(ord(' '))\n",
    "print(ord('5'))\n",
    "print(ord('Z'))"
   ]
  },
  {
   "cell_type": "code",
   "execution_count": 11,
   "id": "da82a44c",
   "metadata": {},
   "outputs": [
    {
     "name": "stdout",
     "output_type": "stream",
     "text": [
      "R 82\n",
      "i 105\n",
      "t 116\n",
      "i 105\n",
      "k 107\n",
      "a 97\n",
      "  32\n",
      "G 71\n",
      "u 117\n",
      "p 112\n",
      "t 116\n",
      "a 97\n"
     ]
    }
   ],
   "source": [
    "name = 'Ritika Gupta'\n",
    "for char in name:\n",
    "    print(char,ord(char))"
   ]
  },
  {
   "cell_type": "code",
   "execution_count": 14,
   "id": "69dd7422",
   "metadata": {},
   "outputs": [
    {
     "name": "stdout",
     "output_type": "stream",
     "text": [
      "['R', 'i', 't', 'i', 'k', 'a', ' ', 'G', 'u', 'p', 't', 'a']\n",
      "[82, 105, 116, 105, 107, 97, 32, 71, 117, 112, 116, 97]\n"
     ]
    }
   ],
   "source": [
    "print([char for char in name])\n",
    "print([ord(char) for char in name])"
   ]
  },
  {
   "cell_type": "markdown",
   "id": "a7ffde3d",
   "metadata": {},
   "source": [
    "### ASCII code to string conversion and vica versa"
   ]
  },
  {
   "cell_type": "markdown",
   "id": "e5a4259c",
   "metadata": {},
   "source": [
    "#### 1. String to ASCII Conversion"
   ]
  },
  {
   "cell_type": "code",
   "execution_count": 18,
   "id": "e3f732a5",
   "metadata": {},
   "outputs": [
    {
     "data": {
      "text/plain": [
       "[{'T': 84},\n",
       " {'h': 104},\n",
       " {'e': 101},\n",
       " {' ': 32},\n",
       " {'s': 115},\n",
       " {'w': 119},\n",
       " {'i': 105},\n",
       " {'f': 102},\n",
       " {'t': 116},\n",
       " {' ': 32},\n",
       " {'b': 98},\n",
       " {'l': 108},\n",
       " {'a': 97},\n",
       " {'c': 99},\n",
       " {'k': 107},\n",
       " {' ': 32},\n",
       " {'c': 99},\n",
       " {'a': 97},\n",
       " {'r': 114},\n",
       " {' ': 32},\n",
       " {'h': 104},\n",
       " {'i': 105},\n",
       " {'t': 116},\n",
       " {'s': 115},\n",
       " {' ': 32},\n",
       " {'t': 116},\n",
       " {'h': 104},\n",
       " {'e': 101},\n",
       " {' ': 32},\n",
       " {'y': 121},\n",
       " {'o': 111},\n",
       " {'u': 117},\n",
       " {'n': 110},\n",
       " {'g': 103},\n",
       " {' ': 32},\n",
       " {'d': 100},\n",
       " {'r': 114},\n",
       " {'u': 117},\n",
       " {'n': 110},\n",
       " {'k': 107},\n",
       " {' ': 32},\n",
       " {'m': 109},\n",
       " {'a': 97},\n",
       " {'n': 110}]"
      ]
     },
     "execution_count": 18,
     "metadata": {},
     "output_type": "execute_result"
    }
   ],
   "source": [
    "text = \"The swift black car hits the young drunk man\"\n",
    "[{char : ord(char)} for char in text]"
   ]
  },
  {
   "cell_type": "markdown",
   "id": "44881a0d",
   "metadata": {},
   "source": [
    "#### 2. ASCII to String Conversion"
   ]
  },
  {
   "cell_type": "code",
   "execution_count": 22,
   "id": "83e08602",
   "metadata": {},
   "outputs": [
    {
     "name": "stdout",
     "output_type": "stream",
     "text": [
      "[84, 104, 101, 32, 115, 119, 105, 102, 116, 32, 98, 108, 97, 99, 107, 32, 99, 97, 114, 32, 104, 105, 116, 115, 32, 116, 104, 101, 32, 121, 111, 117, 110, 103, 32, 100, 114, 117, 110, 107, 32, 109, 97, 110]\n"
     ]
    }
   ],
   "source": [
    "ascii_ = [ord(char) for char in text]\n",
    "print(ascii_)"
   ]
  },
  {
   "cell_type": "code",
   "execution_count": 23,
   "id": "90b203b1",
   "metadata": {},
   "outputs": [
    {
     "data": {
      "text/plain": [
       "'nam knurd gnuoy eht stih rac kcalb tfiws ehT'"
      ]
     },
     "execution_count": 23,
     "metadata": {},
     "output_type": "execute_result"
    }
   ],
   "source": [
    "# Encoding a string\n",
    "# By Reversing a string\n",
    "\"The swift black car hits the young drunk man\"[::-1]"
   ]
  },
  {
   "cell_type": "code",
   "execution_count": 26,
   "id": "d2f5766e",
   "metadata": {},
   "outputs": [
    {
     "data": {
      "text/plain": [
       "'The swift black car hits the young drunk man'"
      ]
     },
     "execution_count": 26,
     "metadata": {},
     "output_type": "execute_result"
    }
   ],
   "source": [
    "# Converting the ASCII into string\n",
    "''.join([chr(asc) for asc in ascii_])"
   ]
  },
  {
   "cell_type": "code",
   "execution_count": 32,
   "id": "91d007e4",
   "metadata": {},
   "outputs": [
    {
     "name": "stdout",
     "output_type": "stream",
     "text": [
      "A\n",
      "B\n",
      "C\n",
      "D\n",
      "E\n",
      "F\n",
      "G\n",
      "H\n",
      "I\n",
      "J\n",
      "K\n",
      "L\n",
      "M\n",
      "N\n",
      "O\n",
      "P\n",
      "Q\n",
      "R\n",
      "S\n",
      "T\n",
      "U\n",
      "V\n",
      "W\n",
      "X\n",
      "Y\n",
      "Z\n"
     ]
    },
    {
     "data": {
      "text/plain": [
       "['A',\n",
       " 'B',\n",
       " 'C',\n",
       " 'D',\n",
       " 'E',\n",
       " 'F',\n",
       " 'G',\n",
       " 'H',\n",
       " 'I',\n",
       " 'J',\n",
       " 'K',\n",
       " 'L',\n",
       " 'M',\n",
       " 'N',\n",
       " 'O',\n",
       " 'P',\n",
       " 'Q',\n",
       " 'R',\n",
       " 'S',\n",
       " 'T',\n",
       " 'U',\n",
       " 'V',\n",
       " 'W',\n",
       " 'X',\n",
       " 'Y',\n",
       " 'Z']"
      ]
     },
     "execution_count": 32,
     "metadata": {},
     "output_type": "execute_result"
    }
   ],
   "source": [
    "[chr(i) for i in range(65,91)]"
   ]
  },
  {
   "cell_type": "code",
   "execution_count": null,
   "id": "a5ca16bc",
   "metadata": {},
   "outputs": [],
   "source": []
  }
 ],
 "metadata": {
  "kernelspec": {
   "display_name": "Python 3 (ipykernel)",
   "language": "python",
   "name": "python3"
  },
  "language_info": {
   "codemirror_mode": {
    "name": "ipython",
    "version": 3
   },
   "file_extension": ".py",
   "mimetype": "text/x-python",
   "name": "python",
   "nbconvert_exporter": "python",
   "pygments_lexer": "ipython3",
   "version": "3.11.5"
  }
 },
 "nbformat": 4,
 "nbformat_minor": 5
}
