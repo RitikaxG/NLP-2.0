{
 "cells": [
  {
   "cell_type": "markdown",
   "id": "e5a38c04",
   "metadata": {},
   "source": [
    "* isalnum()   : Returns True if all characters in the string are alphanumeric\n",
    "* isalpha()   : Returns True if all characters in the string are in the alphabet\n",
    "* isdigit()   : Returns True if all characters in the string are digits\n",
    "* islower()   : Returns True if all characters in the string are lowercase\n",
    "* isupper()   : Returns True if all characters in the string are uppercase\n",
    "* isnumeric() : Returns True if all characters in the string are numeric"
   ]
  },
  {
   "cell_type": "markdown",
   "id": "ffdc3388",
   "metadata": {},
   "source": [
    "### 1. isalpha()"
   ]
  },
  {
   "cell_type": "code",
   "execution_count": 71,
   "id": "c9986d01",
   "metadata": {},
   "outputs": [
    {
     "name": "stdout",
     "output_type": "stream",
     "text": [
      "False\n",
      "False\n"
     ]
    }
   ],
   "source": [
    "def isalpha(text):\n",
    "    c = 0 \n",
    "    for char in text:\n",
    "        if((ord(char) >= 97 and ord(char)<=122) or (ord(char) >= 65 and ord(char) <=90)): # (97-122 : lowercase) | (65-90 : Uppercase)\n",
    "            c += 1\n",
    "    if(c == len(text)):\n",
    "        return True\n",
    "    else:\n",
    "        return False\n",
    "    \n",
    "print(isalpha('ADWEWAEsde99'))\n",
    "print('ADWEWAEsde99'.isalpha())"
   ]
  },
  {
   "cell_type": "markdown",
   "id": "3fe18371",
   "metadata": {},
   "source": [
    "### 2. isdigit()"
   ]
  },
  {
   "cell_type": "code",
   "execution_count": 72,
   "id": "55ca1cb0",
   "metadata": {},
   "outputs": [
    {
     "name": "stdout",
     "output_type": "stream",
     "text": [
      "True\n",
      "True\n"
     ]
    }
   ],
   "source": [
    "def isdigit(text):\n",
    "    c = 0 \n",
    "    for i in text:\n",
    "        if(ord(i) >= 48 and ord(i)<= 57):\n",
    "            c +=1\n",
    "    if(len(text)==c):\n",
    "        return True\n",
    "    else:\n",
    "        return False\n",
    "    \n",
    "print('00997867'.isdigit())\n",
    "print(isdigit('0097867'))"
   ]
  },
  {
   "cell_type": "markdown",
   "id": "cd905646",
   "metadata": {},
   "source": [
    "### 3. isalnum() : alpha-numeric"
   ]
  },
  {
   "cell_type": "code",
   "execution_count": 16,
   "id": "6aabf6f4",
   "metadata": {},
   "outputs": [
    {
     "name": "stdout",
     "output_type": "stream",
     "text": [
      "True\n",
      "True\n"
     ]
    }
   ],
   "source": [
    "def isalnum(text):\n",
    "    c = 0 \n",
    "    for i in text:\n",
    "        if((ord(i) >= 48 and ord(i)<= 57) or (ord(i) >= 97 and ord(i) <= 122) or (ord(i) >=65 and ord(i) <= 90)):\n",
    "            c +=1\n",
    "    if(len(text)==c):\n",
    "        return True\n",
    "    else:\n",
    "        return False\n",
    "    \n",
    "print('00997aaQ867'.isalnum())\n",
    "print(isalnum('0097aaQ867'))"
   ]
  },
  {
   "cell_type": "markdown",
   "id": "5ab32d8f",
   "metadata": {},
   "source": [
    "### title()\n",
    "* Capitalize 1st letter of every word in a sentence and converts all other words to lowercase."
   ]
  },
  {
   "cell_type": "code",
   "execution_count": 21,
   "id": "61039892",
   "metadata": {},
   "outputs": [],
   "source": [
    "def title(text):\n",
    "    output = []\n",
    "    for word in text.split(' '):\n",
    "        if word:\n",
    "            output.append(word[0].upper() + word[1:].lower() + ' ')\n",
    "    return ' '.join(output)\n",
    "    "
   ]
  },
  {
   "cell_type": "code",
   "execution_count": 22,
   "id": "a63ffeb6",
   "metadata": {},
   "outputs": [
    {
     "data": {
      "text/plain": [
       "'Where  Are  You?  Why  Not  Here? '"
      ]
     },
     "execution_count": 22,
     "metadata": {},
     "output_type": "execute_result"
    }
   ],
   "source": [
    "title('Where are you? Why not here?')"
   ]
  },
  {
   "cell_type": "code",
   "execution_count": 19,
   "id": "335de90b",
   "metadata": {},
   "outputs": [
    {
     "data": {
      "text/plain": [
       "'Where Are You? Why Not Here ?'"
      ]
     },
     "execution_count": 19,
     "metadata": {},
     "output_type": "execute_result"
    }
   ],
   "source": [
    "('Where are you? Why not here ?').title()"
   ]
  },
  {
   "cell_type": "code",
   "execution_count": null,
   "id": "d230cbc9",
   "metadata": {},
   "outputs": [],
   "source": []
  }
 ],
 "metadata": {
  "kernelspec": {
   "display_name": "Python 3 (ipykernel)",
   "language": "python",
   "name": "python3"
  },
  "language_info": {
   "codemirror_mode": {
    "name": "ipython",
    "version": 3
   },
   "file_extension": ".py",
   "mimetype": "text/x-python",
   "name": "python",
   "nbconvert_exporter": "python",
   "pygments_lexer": "ipython3",
   "version": "3.11.5"
  }
 },
 "nbformat": 4,
 "nbformat_minor": 5
}
