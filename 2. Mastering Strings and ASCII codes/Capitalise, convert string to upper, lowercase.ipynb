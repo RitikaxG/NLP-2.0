{
 "cells": [
  {
   "cell_type": "markdown",
   "id": "30f75e45",
   "metadata": {},
   "source": [
    "### String Capitalization"
   ]
  },
  {
   "cell_type": "code",
   "execution_count": 7,
   "id": "2f9a20fb",
   "metadata": {},
   "outputs": [],
   "source": [
    "text = 'the swift black car hits the lost drunk man.'"
   ]
  },
  {
   "cell_type": "code",
   "execution_count": 8,
   "id": "de22925f",
   "metadata": {},
   "outputs": [],
   "source": [
    "def capitalize(text):\n",
    "    if (len(text) != 0):\n",
    "        return text[0].upper() + text[1:].lower()\n",
    "    else:\n",
    "        return None"
   ]
  },
  {
   "cell_type": "code",
   "execution_count": 9,
   "id": "3ca42cec",
   "metadata": {},
   "outputs": [
    {
     "data": {
      "text/plain": [
       "'The swift black car hits the lost drunk man.'"
      ]
     },
     "execution_count": 9,
     "metadata": {},
     "output_type": "execute_result"
    }
   ],
   "source": [
    "# Make the first letter of a sentence capital and rest is lowercase.\n",
    "text.capitalize()"
   ]
  },
  {
   "cell_type": "code",
   "execution_count": 10,
   "id": "d7304632",
   "metadata": {},
   "outputs": [
    {
     "data": {
      "text/plain": [
       "'t'"
      ]
     },
     "execution_count": 10,
     "metadata": {},
     "output_type": "execute_result"
    }
   ],
   "source": [
    "text[0] # 1st character of text"
   ]
  },
  {
   "cell_type": "code",
   "execution_count": 11,
   "id": "f2cf028c",
   "metadata": {},
   "outputs": [
    {
     "data": {
      "text/plain": [
       "'he swift black car hits the lost drunk man.'"
      ]
     },
     "execution_count": 11,
     "metadata": {},
     "output_type": "execute_result"
    }
   ],
   "source": [
    "text[1:] # Rest part of string"
   ]
  },
  {
   "cell_type": "code",
   "execution_count": 12,
   "id": "e4da9b55",
   "metadata": {},
   "outputs": [
    {
     "data": {
      "text/plain": [
       "'The swift black car hits the lost drunk man.'"
      ]
     },
     "execution_count": 12,
     "metadata": {},
     "output_type": "execute_result"
    }
   ],
   "source": [
    "# Capitalizing without using Pre-Built functions\n",
    "text[0].upper() + text[1:]"
   ]
  },
  {
   "cell_type": "code",
   "execution_count": 13,
   "id": "82785c42",
   "metadata": {},
   "outputs": [
    {
     "data": {
      "text/plain": [
       "True"
      ]
     },
     "execution_count": 13,
     "metadata": {},
     "output_type": "execute_result"
    }
   ],
   "source": [
    "text.capitalize() == text[0].upper() + text[1:].lower()"
   ]
  },
  {
   "cell_type": "code",
   "execution_count": 14,
   "id": "cd0ea486",
   "metadata": {},
   "outputs": [
    {
     "data": {
      "text/plain": [
       "\"Miss susane please let me not miss your class or i'll miss you.\""
      ]
     },
     "execution_count": 14,
     "metadata": {},
     "output_type": "execute_result"
    }
   ],
   "source": [
    "capitalize(\"miss susane please let me not miss your class or I'll miss you.\")"
   ]
  },
  {
   "cell_type": "markdown",
   "id": "6a4a2f6d",
   "metadata": {},
   "source": [
    "### 1. Uppercase Function\n",
    "* 65 - 90  ( Uppercase )\n",
    "* 97 - 122 ( Lowercase )"
   ]
  },
  {
   "cell_type": "code",
   "execution_count": 30,
   "id": "52a4ade2",
   "metadata": {},
   "outputs": [],
   "source": [
    "def upper(text):\n",
    "    string = ''\n",
    "    for char in txt:\n",
    "        # Uppercase\n",
    "        if (ord(char) >= 97 and ord(char) <= 122):\n",
    "            string += chr(ord(char)-32) # Subtract 32 to make it uppercase\n",
    "        else:\n",
    "            string += char\n",
    "    return string"
   ]
  },
  {
   "cell_type": "code",
   "execution_count": 31,
   "id": "8f3aa131",
   "metadata": {},
   "outputs": [
    {
     "data": {
      "text/plain": [
       "'HELLO,SKIP IT PLEASE.'"
      ]
     },
     "execution_count": 31,
     "metadata": {},
     "output_type": "execute_result"
    }
   ],
   "source": [
    "txt = 'Hello,skip it please.'\n",
    "upper(\"txt\")"
   ]
  },
  {
   "cell_type": "markdown",
   "id": "af64b0fb",
   "metadata": {},
   "source": [
    "### Lowercase Function"
   ]
  },
  {
   "cell_type": "code",
   "execution_count": 32,
   "id": "ce6e493f",
   "metadata": {},
   "outputs": [],
   "source": [
    "def lower(text):\n",
    "    string = ''\n",
    "    for char in txt:\n",
    "        # Uppercase\n",
    "        if (ord(char) >= 65 and ord(char) <= 90):\n",
    "            string += chr(ord(char)+32) # Add 32 to make it lowercase\n",
    "        else:\n",
    "            string += char\n",
    "    return string"
   ]
  },
  {
   "cell_type": "code",
   "execution_count": 33,
   "id": "a34b5f45",
   "metadata": {},
   "outputs": [
    {
     "data": {
      "text/plain": [
       "'hello,skip it please.'"
      ]
     },
     "execution_count": 33,
     "metadata": {},
     "output_type": "execute_result"
    }
   ],
   "source": [
    "txt = 'Hello,skip it please.'\n",
    "lower(\"txt\")"
   ]
  },
  {
   "cell_type": "code",
   "execution_count": 34,
   "id": "2accee4c",
   "metadata": {},
   "outputs": [
    {
     "data": {
      "text/plain": [
       "'hello,skip it please.'"
      ]
     },
     "execution_count": 34,
     "metadata": {},
     "output_type": "execute_result"
    }
   ],
   "source": [
    "txt.lower()"
   ]
  },
  {
   "cell_type": "code",
   "execution_count": 35,
   "id": "d799bbfb",
   "metadata": {},
   "outputs": [
    {
     "name": "stdout",
     "output_type": "stream",
     "text": [
      "Smooth sugar, sweet milk\n",
      "SMOOTH SUGAR, SWEET MILK\n",
      "smooth sugar, sweet milk\n"
     ]
    }
   ],
   "source": [
    "txt = 'smooth sugar, sweet milk'\n",
    "print(capitalize(txt))\n",
    "print(upper('txt'))\n",
    "print(lower('txt'))"
   ]
  }
 ],
 "metadata": {
  "kernelspec": {
   "display_name": "Python 3 (ipykernel)",
   "language": "python",
   "name": "python3"
  },
  "language_info": {
   "codemirror_mode": {
    "name": "ipython",
    "version": 3
   },
   "file_extension": ".py",
   "mimetype": "text/x-python",
   "name": "python",
   "nbconvert_exporter": "python",
   "pygments_lexer": "ipython3",
   "version": "3.11.5"
  }
 },
 "nbformat": 4,
 "nbformat_minor": 5
}
