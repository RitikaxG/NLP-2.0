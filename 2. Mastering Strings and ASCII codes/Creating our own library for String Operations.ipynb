{
 "cells": [
  {
   "cell_type": "markdown",
   "id": "c29a4410",
   "metadata": {},
   "source": [
    "### 1. Calling all the functions from the file"
   ]
  },
  {
   "cell_type": "code",
   "execution_count": 2,
   "id": "afc99c60",
   "metadata": {},
   "outputs": [],
   "source": [
    "# Importing the nlp.py file that we created\n",
    "import nlp"
   ]
  },
  {
   "cell_type": "code",
   "execution_count": 5,
   "id": "677e686b",
   "metadata": {},
   "outputs": [
    {
     "data": {
      "text/plain": [
       "'Hello, long time no see'"
      ]
     },
     "execution_count": 5,
     "metadata": {},
     "output_type": "execute_result"
    }
   ],
   "source": [
    "nlp.capitalize('hello, long time no see')"
   ]
  },
  {
   "cell_type": "code",
   "execution_count": 6,
   "id": "423af8d7",
   "metadata": {},
   "outputs": [
    {
     "data": {
      "text/plain": [
       "'Hand  Cheese  Burger  Butter '"
      ]
     },
     "execution_count": 6,
     "metadata": {},
     "output_type": "execute_result"
    }
   ],
   "source": [
    "nlp.title('Hand cheese burger butter')"
   ]
  },
  {
   "cell_type": "markdown",
   "id": "41ef827e",
   "metadata": {},
   "source": [
    "### 2. Calling only the specific function from the file"
   ]
  },
  {
   "cell_type": "code",
   "execution_count": 7,
   "id": "10a63aed",
   "metadata": {},
   "outputs": [],
   "source": [
    "# Only title function is called\n",
    "from nlp import title"
   ]
  },
  {
   "cell_type": "code",
   "execution_count": 9,
   "id": "1d3e49f5",
   "metadata": {},
   "outputs": [
    {
     "data": {
      "text/plain": [
       "'Sleepy  I  Am '"
      ]
     },
     "execution_count": 9,
     "metadata": {},
     "output_type": "execute_result"
    }
   ],
   "source": [
    "title('sleepy i am')"
   ]
  }
 ],
 "metadata": {
  "kernelspec": {
   "display_name": "Python 3 (ipykernel)",
   "language": "python",
   "name": "python3"
  },
  "language_info": {
   "codemirror_mode": {
    "name": "ipython",
    "version": 3
   },
   "file_extension": ".py",
   "mimetype": "text/x-python",
   "name": "python",
   "nbconvert_exporter": "python",
   "pygments_lexer": "ipython3",
   "version": "3.11.5"
  }
 },
 "nbformat": 4,
 "nbformat_minor": 5
}
