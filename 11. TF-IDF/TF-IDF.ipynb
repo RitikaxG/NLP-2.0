{
 "cells": [
  {
   "cell_type": "markdown",
   "id": "ef31eafc",
   "metadata": {},
   "source": [
    "### 1. TF-IDF from Scratch"
   ]
  },
  {
   "cell_type": "code",
   "execution_count": 1,
   "id": "ac8bf23f",
   "metadata": {},
   "outputs": [],
   "source": [
    "import numpy as np\n",
    "import pandas as pd\n",
    "\n",
    "text_data = [\"good movie\",\"bad movie\",\"good bad movie\"]\n",
    "# tf : Finding how many time each word appear in a sentence\n",
    "# idf : How many times that word appear in the whole corpus / no of sentences"
   ]
  },
  {
   "cell_type": "code",
   "execution_count": 2,
   "id": "13545753",
   "metadata": {},
   "outputs": [],
   "source": [
    "# Sentences and word tokenization\n",
    "word_data = [sentence.split(' ') for sentence in text_data]"
   ]
  },
  {
   "cell_type": "code",
   "execution_count": 3,
   "id": "873f216a",
   "metadata": {},
   "outputs": [],
   "source": [
    "# Finding the Vocab\n",
    "vocab = list(set([word for sentence in word_data for word in sentence]))"
   ]
  },
  {
   "cell_type": "code",
   "execution_count": 4,
   "id": "91619476",
   "metadata": {},
   "outputs": [],
   "source": [
    "# Finding term frequency : How many times particular word is appearning in sentence/ Total no of words in that sentence\n",
    "tf_data = []\n",
    "for sentence in word_data:\n",
    "    tf_sentence = []\n",
    "    for word in vocab:\n",
    "        tf_sentence.append(sentence.count(word)/len(sentence))\n",
    "    tf_data.append(tf_sentence)"
   ]
  },
  {
   "cell_type": "code",
   "execution_count": 5,
   "id": "43538406",
   "metadata": {},
   "outputs": [],
   "source": [
    "# Finding inverse Document Frequency\n",
    "n_documents = len(text_data)\n",
    "idf_data = []\n",
    "\n",
    "for word in vocab:\n",
    "    n_appearances = 0\n",
    "    for sentence in word_data:\n",
    "        if word in sentence:\n",
    "            n_appearances += 1\n",
    "    idf = np.log(n_documents/n_appearances)\n",
    "    idf_data.append(idf)"
   ]
  },
  {
   "cell_type": "code",
   "execution_count": null,
   "id": "c391fda8",
   "metadata": {},
   "outputs": [],
   "source": [
    "# Finding TF-IDF for each sentence (Term Frequency - Inverse Document Frequency)\n",
    "tfidf_data = []\n",
    "for tf_sentence in tf_data:\n",
    "    tfidf_sentence = []\n",
    "    for tf,idf in zip(tf_sentence,idf_data):\n",
    "        tfidf_sentence.append(tf*idf)\n",
    "    tf_data.append(tfidf_sentence)\n",
    "    \n",
    "df = pd.DataFrame(tfidf_data,columns = vocab)"
   ]
  },
  {
   "cell_type": "markdown",
   "id": "9281e0ff",
   "metadata": {},
   "source": [
    "### 2. TF-IDF with Sklearn"
   ]
  },
  {
   "cell_type": "code",
   "execution_count": null,
   "id": "fac6d6db",
   "metadata": {},
   "outputs": [],
   "source": [
    "from sklearn.feature_extraction.text import TfidfVectorizer\n",
    "text_data = [\"good movie\",\"bad movie\",\"good bad movie\"]\n",
    "\n",
    "vec = TfidfVectorizer()\n",
    "vec.fit(text_data)\n",
    "\n",
    "df = pd.DataFrame(vec.transform(text_data).toarray(),columns=vocab)\n",
    "df['full_sent'] = text_data\n",
    "\n",
    "df"
   ]
  },
  {
   "cell_type": "code",
   "execution_count": null,
   "id": "67a2857f",
   "metadata": {},
   "outputs": [],
   "source": [
    "vec.get_feature_names()"
   ]
  }
 ],
 "metadata": {
  "kernelspec": {
   "display_name": "Python 3 (ipykernel)",
   "language": "python",
   "name": "python3"
  },
  "language_info": {
   "codemirror_mode": {
    "name": "ipython",
    "version": 3
   },
   "file_extension": ".py",
   "mimetype": "text/x-python",
   "name": "python",
   "nbconvert_exporter": "python",
   "pygments_lexer": "ipython3",
   "version": "3.11.5"
  }
 },
 "nbformat": 4,
 "nbformat_minor": 5
}
