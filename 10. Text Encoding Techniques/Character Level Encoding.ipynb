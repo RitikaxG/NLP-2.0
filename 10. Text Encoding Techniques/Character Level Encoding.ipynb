{
 "cells": [
  {
   "cell_type": "markdown",
   "id": "dac40fd0",
   "metadata": {},
   "source": [
    "#### 1. Count Vectorizer with Character Level Encoding"
   ]
  },
  {
   "cell_type": "code",
   "execution_count": 6,
   "id": "262e26ce",
   "metadata": {},
   "outputs": [
    {
     "data": {
      "text/html": [
       "<div>\n",
       "<style scoped>\n",
       "    .dataframe tbody tr th:only-of-type {\n",
       "        vertical-align: middle;\n",
       "    }\n",
       "\n",
       "    .dataframe tbody tr th {\n",
       "        vertical-align: top;\n",
       "    }\n",
       "\n",
       "    .dataframe thead th {\n",
       "        text-align: right;\n",
       "    }\n",
       "</style>\n",
       "<table border=\"1\" class=\"dataframe\">\n",
       "  <thead>\n",
       "    <tr style=\"text-align: right;\">\n",
       "      <th></th>\n",
       "      <th>t</th>\n",
       "      <th>h</th>\n",
       "      <th>i</th>\n",
       "      <th>s</th>\n",
       "      <th></th>\n",
       "      <th>a</th>\n",
       "      <th>m</th>\n",
       "      <th>p</th>\n",
       "      <th>l</th>\n",
       "      <th>e</th>\n",
       "      <th>n</th>\n",
       "      <th>c</th>\n",
       "      <th>o</th>\n",
       "      <th>r</th>\n",
       "      <th>x</th>\n",
       "    </tr>\n",
       "  </thead>\n",
       "  <tbody>\n",
       "    <tr>\n",
       "      <th>0</th>\n",
       "      <td>4</td>\n",
       "      <td>1</td>\n",
       "      <td>1</td>\n",
       "      <td>4</td>\n",
       "      <td>1</td>\n",
       "      <td>3</td>\n",
       "      <td>1</td>\n",
       "      <td>1</td>\n",
       "      <td>2</td>\n",
       "      <td>0</td>\n",
       "      <td>1</td>\n",
       "      <td>0</td>\n",
       "      <td>4</td>\n",
       "      <td>2</td>\n",
       "      <td>0</td>\n",
       "    </tr>\n",
       "    <tr>\n",
       "      <th>1</th>\n",
       "      <td>2</td>\n",
       "      <td>2</td>\n",
       "      <td>1</td>\n",
       "      <td>6</td>\n",
       "      <td>1</td>\n",
       "      <td>0</td>\n",
       "      <td>1</td>\n",
       "      <td>1</td>\n",
       "      <td>3</td>\n",
       "      <td>1</td>\n",
       "      <td>1</td>\n",
       "      <td>1</td>\n",
       "      <td>1</td>\n",
       "      <td>2</td>\n",
       "      <td>1</td>\n",
       "    </tr>\n",
       "    <tr>\n",
       "      <th>2</th>\n",
       "      <td>3</td>\n",
       "      <td>0</td>\n",
       "      <td>1</td>\n",
       "      <td>6</td>\n",
       "      <td>0</td>\n",
       "      <td>0</td>\n",
       "      <td>0</td>\n",
       "      <td>1</td>\n",
       "      <td>3</td>\n",
       "      <td>2</td>\n",
       "      <td>0</td>\n",
       "      <td>1</td>\n",
       "      <td>1</td>\n",
       "      <td>3</td>\n",
       "      <td>1</td>\n",
       "    </tr>\n",
       "  </tbody>\n",
       "</table>\n",
       "</div>"
      ],
      "text/plain": [
       "   t  h  i  s     a  m  p  l  e  n  c  o  r  x\n",
       "0  4  1  1  4  1  3  1  1  2  0  1  0  4  2  0\n",
       "1  2  2  1  6  1  0  1  1  3  1  1  1  1  2  1\n",
       "2  3  0  1  6  0  0  0  1  3  2  0  1  1  3  1"
      ]
     },
     "execution_count": 6,
     "metadata": {},
     "output_type": "execute_result"
    }
   ],
   "source": [
    "from pandas import DataFrame\n",
    "from sklearn.feature_extraction.text import CountVectorizer\n",
    "\n",
    "text_data = [\"This is a simple sentence\",\"Another example sentence\",\"One more text sentence\"]\n",
    "# All the possible characters are taken\n",
    "vec =  CountVectorizer(analyzer='char')\n",
    "\n",
    "encoded_data = vec.fit_transform(text_data)\n",
    "DataFrame(encoded_data.toarray(),columns = vec.vocabulary_)"
   ]
  },
  {
   "cell_type": "code",
   "execution_count": 31,
   "id": "588761cb",
   "metadata": {},
   "outputs": [],
   "source": [
    "# enc_data = []\n",
    "# for sent in text_data:\n",
    "#     sent_enc = []\n",
    "#     for word in sent:\n",
    "#         sent_enc.append(chr_to_int[word])\n",
    "#     enc_data.append(sent_enc)\n",
    "    \n",
    "# print(enc_data)"
   ]
  },
  {
   "cell_type": "markdown",
   "id": "6b63c6bc",
   "metadata": {},
   "source": [
    "#### 2. Encoding from Scratch"
   ]
  },
  {
   "cell_type": "code",
   "execution_count": 39,
   "id": "5825b48a",
   "metadata": {},
   "outputs": [
    {
     "name": "stdout",
     "output_type": "stream",
     "text": [
      "18\n",
      "[[0, 9, 14, 2, 17, 14, 2, 17, 8, 17, 2, 14, 10, 16, 11, 4, 17, 2, 4, 12, 6, 4, 12, 5, 4], [1, 12, 3, 6, 9, 4, 7, 17, 4, 13, 8, 10, 16, 11, 4, 17, 2, 4, 12, 6, 4, 12, 5, 4], [15, 12, 4, 17, 10, 3, 7, 4, 17, 6, 4, 13, 6, 17, 2, 4, 12, 6, 4, 12, 5, 4]]\n"
     ]
    }
   ],
   "source": [
    "text_data = [\"This is a simple sentence\",\"Another example sentence\",\"One more text sentence\"]\n",
    "characters = list(set(''.join(text_data)))\n",
    "print(len(characters))\n",
    "\n",
    "# Assign a number to each character\n",
    "chr_to_int = {i:indx for indx,i in enumerate(characters)}\n",
    "\n",
    "end_data = [[chr_to_int[char] for char in sent] for sent in text_data]\n",
    "print(end_data)"
   ]
  },
  {
   "cell_type": "markdown",
   "id": "5d900723",
   "metadata": {},
   "source": [
    "#### 3. Decoding from Scratch"
   ]
  },
  {
   "cell_type": "code",
   "execution_count": 41,
   "id": "785bdf1e",
   "metadata": {},
   "outputs": [
    {
     "name": "stdout",
     "output_type": "stream",
     "text": [
      "['This is a simple sentence', 'Another example sentence', 'One more text sentence']\n"
     ]
    }
   ],
   "source": [
    "int_to_chr = {indx:i for indx,i in enumerate(characters)}\n",
    "\n",
    "dec_data = [''.join([int_to_chr[char] for char in sent]) for sent in end_data]\n",
    "print(dec_data)"
   ]
  },
  {
   "cell_type": "code",
   "execution_count": null,
   "id": "674f21c2",
   "metadata": {},
   "outputs": [],
   "source": []
  }
 ],
 "metadata": {
  "kernelspec": {
   "display_name": "Python 3 (ipykernel)",
   "language": "python",
   "name": "python3"
  },
  "language_info": {
   "codemirror_mode": {
    "name": "ipython",
    "version": 3
   },
   "file_extension": ".py",
   "mimetype": "text/x-python",
   "name": "python",
   "nbconvert_exporter": "python",
   "pygments_lexer": "ipython3",
   "version": "3.11.5"
  }
 },
 "nbformat": 4,
 "nbformat_minor": 5
}
