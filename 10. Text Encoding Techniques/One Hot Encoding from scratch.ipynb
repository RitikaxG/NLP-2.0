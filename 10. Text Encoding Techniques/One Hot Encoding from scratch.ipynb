{
 "cells": [
  {
   "cell_type": "code",
   "execution_count": 38,
   "id": "e319b5d7",
   "metadata": {},
   "outputs": [
    {
     "data": {
      "text/plain": [
       "\"U is not a website or a company. U is a coding environment. Which is good. That's what I love. Not bad at all\""
      ]
     },
     "execution_count": 38,
     "metadata": {},
     "output_type": "execute_result"
    }
   ],
   "source": [
    "import pandas as pd\n",
    "from nltk.tokenize import word_tokenize, sent_tokenize\n",
    "corpus = \"U is not a website or a company. U is a coding environment. Which is good. That's what I love. Not bad at all\"\n",
    "corpus"
   ]
  },
  {
   "cell_type": "markdown",
   "id": "250ac1ea",
   "metadata": {},
   "source": [
    "### One Hot Encoding - Terminologies and Process"
   ]
  },
  {
   "cell_type": "markdown",
   "id": "61bc6f97",
   "metadata": {},
   "source": [
    "   'all','at','bad','not','its'\n",
    "* 'its not bad at all'  : [  1   , 1 ,  1 ,  1 , 1]\n",
    "* 'its not bad'          :   [0, 0 ,1 ,1 ,1 ]\n",
    "* 'its bad'              : [0, 0 ,1 ,0 , 1]\n",
    "* 'not bad at all'       : [1, 1 , 1 , 1 ,0]"
   ]
  },
  {
   "cell_type": "markdown",
   "id": "fdfb253f",
   "metadata": {},
   "source": [
    "### Finding the sequence"
   ]
  },
  {
   "cell_type": "code",
   "execution_count": 46,
   "id": "045afe37",
   "metadata": {},
   "outputs": [
    {
     "name": "stdout",
     "output_type": "stream",
     "text": [
      "['environment', 'u', 'a', 'company', 'or', 'what', 'love', 'not', 'that', 'all', 'coding', 'bad', 'good', 'which', 'at', \"'s\", 'i', 'is', 'website']\n"
     ]
    }
   ],
   "source": [
    "seq = set()\n",
    "for word in word_tokenize(corpus):\n",
    "    if(word!='.'):\n",
    "        seq.add(word.lower())\n",
    "        \n",
    "seq = list(seq)\n",
    "print(seq)"
   ]
  },
  {
   "cell_type": "code",
   "execution_count": 21,
   "id": "922973ec",
   "metadata": {},
   "outputs": [
    {
     "data": {
      "text/plain": [
       "1"
      ]
     },
     "execution_count": 21,
     "metadata": {},
     "output_type": "execute_result"
    }
   ],
   "source": [
    "seq.index('u')"
   ]
  },
  {
   "cell_type": "markdown",
   "id": "b6078cfa",
   "metadata": {},
   "source": [
    "### Finding Index to Encode"
   ]
  },
  {
   "cell_type": "code",
   "execution_count": 26,
   "id": "caff15e7",
   "metadata": {},
   "outputs": [],
   "source": [
    "data = []\n",
    "for sent in sent_tokenize(corpus):\n",
    "    index = []\n",
    "    for word in word_tokenize(sent):\n",
    "        if(word!='.'):\n",
    "            index.append(seq.index(word.lower()))\n",
    "    data.append(index)"
   ]
  },
  {
   "cell_type": "code",
   "execution_count": 27,
   "id": "5ce1f2f0",
   "metadata": {},
   "outputs": [
    {
     "data": {
      "text/plain": [
       "[[1, 17, 7, 2, 18, 4, 2, 3],\n",
       " [1, 17, 2, 10, 0],\n",
       " [13, 17, 12],\n",
       " [8, 15, 5, 16, 6],\n",
       " [7, 11, 14, 9]]"
      ]
     },
     "execution_count": 27,
     "metadata": {},
     "output_type": "execute_result"
    }
   ],
   "source": [
    "data"
   ]
  },
  {
   "cell_type": "markdown",
   "id": "4eff4e97",
   "metadata": {},
   "source": [
    "### Encode the sentences in One Hot Encoding format"
   ]
  },
  {
   "cell_type": "code",
   "execution_count": 32,
   "id": "99f26f0f",
   "metadata": {},
   "outputs": [
    {
     "data": {
      "text/plain": [
       "[0, 0, 0, 0, 0, 0, 0, 0, 0, 0, 0, 0, 0, 0, 0, 0, 0, 0, 0]"
      ]
     },
     "execution_count": 32,
     "metadata": {},
     "output_type": "execute_result"
    }
   ],
   "source": [
    "enc"
   ]
  },
  {
   "cell_type": "code",
   "execution_count": 34,
   "id": "0dff8d09",
   "metadata": {},
   "outputs": [],
   "source": [
    "fin = []\n",
    "for indexes in data:\n",
    "    enc = [0 for x in range(len(seq))]\n",
    "    for index in indexes:\n",
    "        enc[index] = 1\n",
    "    fin.append(enc)"
   ]
  },
  {
   "cell_type": "markdown",
   "id": "4ed50a53",
   "metadata": {},
   "source": [
    "### Creating the DataFrame/ Dataset"
   ]
  },
  {
   "cell_type": "code",
   "execution_count": 35,
   "id": "f6d91d32",
   "metadata": {},
   "outputs": [
    {
     "data": {
      "text/plain": [
       "['U is not a website or a company.',\n",
       " 'U is a coding environment.',\n",
       " 'Which is good.',\n",
       " \"That's what I love.\",\n",
       " 'Not bad at all']"
      ]
     },
     "execution_count": 35,
     "metadata": {},
     "output_type": "execute_result"
    }
   ],
   "source": [
    "sent_tokenize(corpus)"
   ]
  },
  {
   "cell_type": "code",
   "execution_count": 36,
   "id": "37f61e5f",
   "metadata": {},
   "outputs": [
    {
     "data": {
      "text/plain": [
       "[[0, 1, 1, 1, 1, 0, 0, 1, 0, 0, 0, 0, 0, 0, 0, 0, 0, 1, 1],\n",
       " [1, 1, 1, 0, 0, 0, 0, 0, 0, 0, 1, 0, 0, 0, 0, 0, 0, 1, 0],\n",
       " [0, 0, 0, 0, 0, 0, 0, 0, 0, 0, 0, 0, 1, 1, 0, 0, 0, 1, 0],\n",
       " [0, 0, 0, 0, 0, 1, 1, 0, 1, 0, 0, 0, 0, 0, 0, 1, 1, 0, 0],\n",
       " [0, 0, 0, 0, 0, 0, 0, 1, 0, 1, 0, 1, 0, 0, 1, 0, 0, 0, 0]]"
      ]
     },
     "execution_count": 36,
     "metadata": {},
     "output_type": "execute_result"
    }
   ],
   "source": [
    "fin"
   ]
  },
  {
   "cell_type": "code",
   "execution_count": 37,
   "id": "d5c7195c",
   "metadata": {},
   "outputs": [
    {
     "data": {
      "text/plain": [
       "[[1, 17, 7, 2, 18, 4, 2, 3],\n",
       " [1, 17, 2, 10, 0],\n",
       " [13, 17, 12],\n",
       " [8, 15, 5, 16, 6],\n",
       " [7, 11, 14, 9]]"
      ]
     },
     "execution_count": 37,
     "metadata": {},
     "output_type": "execute_result"
    }
   ],
   "source": [
    "data"
   ]
  },
  {
   "cell_type": "code",
   "execution_count": 39,
   "id": "a56ae1d4",
   "metadata": {},
   "outputs": [
    {
     "data": {
      "text/plain": [
       "['environment',\n",
       " 'u',\n",
       " 'a',\n",
       " 'company',\n",
       " 'or',\n",
       " 'what',\n",
       " 'love',\n",
       " 'not',\n",
       " 'that',\n",
       " 'all',\n",
       " 'coding',\n",
       " 'bad',\n",
       " 'good',\n",
       " 'which',\n",
       " 'at',\n",
       " \"'s\",\n",
       " 'i',\n",
       " 'is',\n",
       " 'website']"
      ]
     },
     "execution_count": 39,
     "metadata": {},
     "output_type": "execute_result"
    }
   ],
   "source": [
    "seq"
   ]
  },
  {
   "cell_type": "code",
   "execution_count": 48,
   "id": "da7b415d",
   "metadata": {},
   "outputs": [
    {
     "data": {
      "text/html": [
       "<div>\n",
       "<style scoped>\n",
       "    .dataframe tbody tr th:only-of-type {\n",
       "        vertical-align: middle;\n",
       "    }\n",
       "\n",
       "    .dataframe tbody tr th {\n",
       "        vertical-align: top;\n",
       "    }\n",
       "\n",
       "    .dataframe thead th {\n",
       "        text-align: right;\n",
       "    }\n",
       "</style>\n",
       "<table border=\"1\" class=\"dataframe\">\n",
       "  <thead>\n",
       "    <tr style=\"text-align: right;\">\n",
       "      <th></th>\n",
       "      <th>environment</th>\n",
       "      <th>u</th>\n",
       "      <th>a</th>\n",
       "      <th>company</th>\n",
       "      <th>or</th>\n",
       "      <th>what</th>\n",
       "      <th>love</th>\n",
       "      <th>not</th>\n",
       "      <th>that</th>\n",
       "      <th>all</th>\n",
       "      <th>coding</th>\n",
       "      <th>bad</th>\n",
       "      <th>good</th>\n",
       "      <th>which</th>\n",
       "      <th>at</th>\n",
       "      <th>'s</th>\n",
       "      <th>i</th>\n",
       "      <th>is</th>\n",
       "      <th>website</th>\n",
       "      <th>Sentences_</th>\n",
       "    </tr>\n",
       "  </thead>\n",
       "  <tbody>\n",
       "    <tr>\n",
       "      <th>0</th>\n",
       "      <td>0</td>\n",
       "      <td>1</td>\n",
       "      <td>1</td>\n",
       "      <td>1</td>\n",
       "      <td>1</td>\n",
       "      <td>0</td>\n",
       "      <td>0</td>\n",
       "      <td>1</td>\n",
       "      <td>0</td>\n",
       "      <td>0</td>\n",
       "      <td>0</td>\n",
       "      <td>0</td>\n",
       "      <td>0</td>\n",
       "      <td>0</td>\n",
       "      <td>0</td>\n",
       "      <td>0</td>\n",
       "      <td>0</td>\n",
       "      <td>1</td>\n",
       "      <td>1</td>\n",
       "      <td>U is not a website or a company.</td>\n",
       "    </tr>\n",
       "    <tr>\n",
       "      <th>1</th>\n",
       "      <td>1</td>\n",
       "      <td>1</td>\n",
       "      <td>1</td>\n",
       "      <td>0</td>\n",
       "      <td>0</td>\n",
       "      <td>0</td>\n",
       "      <td>0</td>\n",
       "      <td>0</td>\n",
       "      <td>0</td>\n",
       "      <td>0</td>\n",
       "      <td>1</td>\n",
       "      <td>0</td>\n",
       "      <td>0</td>\n",
       "      <td>0</td>\n",
       "      <td>0</td>\n",
       "      <td>0</td>\n",
       "      <td>0</td>\n",
       "      <td>1</td>\n",
       "      <td>0</td>\n",
       "      <td>U is a coding environment.</td>\n",
       "    </tr>\n",
       "    <tr>\n",
       "      <th>2</th>\n",
       "      <td>0</td>\n",
       "      <td>0</td>\n",
       "      <td>0</td>\n",
       "      <td>0</td>\n",
       "      <td>0</td>\n",
       "      <td>0</td>\n",
       "      <td>0</td>\n",
       "      <td>0</td>\n",
       "      <td>0</td>\n",
       "      <td>0</td>\n",
       "      <td>0</td>\n",
       "      <td>0</td>\n",
       "      <td>1</td>\n",
       "      <td>1</td>\n",
       "      <td>0</td>\n",
       "      <td>0</td>\n",
       "      <td>0</td>\n",
       "      <td>1</td>\n",
       "      <td>0</td>\n",
       "      <td>Which is good.</td>\n",
       "    </tr>\n",
       "    <tr>\n",
       "      <th>3</th>\n",
       "      <td>0</td>\n",
       "      <td>0</td>\n",
       "      <td>0</td>\n",
       "      <td>0</td>\n",
       "      <td>0</td>\n",
       "      <td>1</td>\n",
       "      <td>1</td>\n",
       "      <td>0</td>\n",
       "      <td>1</td>\n",
       "      <td>0</td>\n",
       "      <td>0</td>\n",
       "      <td>0</td>\n",
       "      <td>0</td>\n",
       "      <td>0</td>\n",
       "      <td>0</td>\n",
       "      <td>1</td>\n",
       "      <td>1</td>\n",
       "      <td>0</td>\n",
       "      <td>0</td>\n",
       "      <td>That's what I love.</td>\n",
       "    </tr>\n",
       "    <tr>\n",
       "      <th>4</th>\n",
       "      <td>0</td>\n",
       "      <td>0</td>\n",
       "      <td>0</td>\n",
       "      <td>0</td>\n",
       "      <td>0</td>\n",
       "      <td>0</td>\n",
       "      <td>0</td>\n",
       "      <td>1</td>\n",
       "      <td>0</td>\n",
       "      <td>1</td>\n",
       "      <td>0</td>\n",
       "      <td>1</td>\n",
       "      <td>0</td>\n",
       "      <td>0</td>\n",
       "      <td>1</td>\n",
       "      <td>0</td>\n",
       "      <td>0</td>\n",
       "      <td>0</td>\n",
       "      <td>0</td>\n",
       "      <td>Not bad at all</td>\n",
       "    </tr>\n",
       "  </tbody>\n",
       "</table>\n",
       "</div>"
      ],
      "text/plain": [
       "   environment  u  a  company  or  what  love  not  that  all  coding  bad  \\\n",
       "0            0  1  1        1   1     0     0    1     0    0       0    0   \n",
       "1            1  1  1        0   0     0     0    0     0    0       1    0   \n",
       "2            0  0  0        0   0     0     0    0     0    0       0    0   \n",
       "3            0  0  0        0   0     1     1    0     1    0       0    0   \n",
       "4            0  0  0        0   0     0     0    1     0    1       0    1   \n",
       "\n",
       "   good  which  at  's  i  is  website                        Sentences_  \n",
       "0     0      0   0   0  0   1        1  U is not a website or a company.  \n",
       "1     0      0   0   0  0   1        0        U is a coding environment.  \n",
       "2     1      1   0   0  0   1        0                    Which is good.  \n",
       "3     0      0   0   1  1   0        0               That's what I love.  \n",
       "4     0      0   1   0  0   0        0                    Not bad at all  "
      ]
     },
     "execution_count": 48,
     "metadata": {},
     "output_type": "execute_result"
    }
   ],
   "source": [
    "df = pd.DataFrame(fin,columns=seq)\n",
    "df['Sentences_'] = sent_tokenize(corpus)\n",
    "df"
   ]
  },
  {
   "cell_type": "markdown",
   "id": "05b9343b",
   "metadata": {},
   "source": [
    "                                   ['This','is','not','bad','good','at','all']\n",
    "* 'This is good, not bad at all' :[1,1,1,1,1,1,1]\n",
    "* 'This is bad, not good at all' :[1,1,1,1,1,1,1]\n",
    "\n",
    "* Although both sentence have different meaning there representation is the same"
   ]
  },
  {
   "cell_type": "markdown",
   "id": "1735b226",
   "metadata": {},
   "source": [
    "* [0 for x in range(10000)]\n",
    "* 'This is good, not bad at all'\n",
    "* If the seq is of length 10000 and sentence is of length=7. Probability of each word in the sequence is very low. So, it will not work in case of huge vocabulary size.\n"
   ]
  }
 ],
 "metadata": {
  "kernelspec": {
   "display_name": "Python 3 (ipykernel)",
   "language": "python",
   "name": "python3"
  },
  "language_info": {
   "codemirror_mode": {
    "name": "ipython",
    "version": 3
   },
   "file_extension": ".py",
   "mimetype": "text/x-python",
   "name": "python",
   "nbconvert_exporter": "python",
   "pygments_lexer": "ipython3",
   "version": "3.11.5"
  }
 },
 "nbformat": 4,
 "nbformat_minor": 5
}
