{
 "cells": [
  {
   "cell_type": "markdown",
   "id": "f7dad1a2",
   "metadata": {},
   "source": [
    "#### 1. Bag of Words"
   ]
  },
  {
   "cell_type": "markdown",
   "id": "192fef45",
   "metadata": {},
   "source": [
    "* ['the','is','a','very','cute','cat','dog']\n",
    "* [1,1,1,1,1,1,0]\n",
    "* [1,1,0,1,1,0,1] \n",
    "\n",
    "- Even if the word is repeated twice in case of one hot encoding it is represented only once. "
   ]
  },
  {
   "cell_type": "code",
   "execution_count": 24,
   "id": "d7b42f31",
   "metadata": {},
   "outputs": [
    {
     "name": "stdout",
     "output_type": "stream",
     "text": [
      "['The', 'cute', 'dog', 'is', 'very', 'a', 'cat']\n",
      "[[1, 1, 0, 1, 2, 1, 1], [1, 1, 1, 1, 1, 0, 0]]\n"
     ]
    }
   ],
   "source": [
    "import pandas as pd \n",
    "\n",
    "feature_vectors = []\n",
    "text   = ['The is a very very cute cat','The dog is very cute']\n",
    "\n",
    "tokens = [token.split() for token in text]\n",
    "vocab  = list(set([word for text in tokens for word in text]))\n",
    "\n",
    "for text in tokens:\n",
    "    feature_vector = [0]*len(vocab)\n",
    "    \n",
    "    for word in text:\n",
    "        feature_vector[vocab.index(word)] = text.count(word)\n",
    "    feature_vectors.append(feature_vector)\n",
    "print(vocab)\n",
    "print(feature_vectors)"
   ]
  },
  {
   "cell_type": "code",
   "execution_count": 25,
   "id": "00f7f77f",
   "metadata": {},
   "outputs": [
    {
     "data": {
      "text/html": [
       "<div>\n",
       "<style scoped>\n",
       "    .dataframe tbody tr th:only-of-type {\n",
       "        vertical-align: middle;\n",
       "    }\n",
       "\n",
       "    .dataframe tbody tr th {\n",
       "        vertical-align: top;\n",
       "    }\n",
       "\n",
       "    .dataframe thead th {\n",
       "        text-align: right;\n",
       "    }\n",
       "</style>\n",
       "<table border=\"1\" class=\"dataframe\">\n",
       "  <thead>\n",
       "    <tr style=\"text-align: right;\">\n",
       "      <th></th>\n",
       "      <th>The</th>\n",
       "      <th>cute</th>\n",
       "      <th>dog</th>\n",
       "      <th>is</th>\n",
       "      <th>very</th>\n",
       "      <th>a</th>\n",
       "      <th>cat</th>\n",
       "    </tr>\n",
       "  </thead>\n",
       "  <tbody>\n",
       "    <tr>\n",
       "      <th>0</th>\n",
       "      <td>1</td>\n",
       "      <td>1</td>\n",
       "      <td>0</td>\n",
       "      <td>1</td>\n",
       "      <td>2</td>\n",
       "      <td>1</td>\n",
       "      <td>1</td>\n",
       "    </tr>\n",
       "    <tr>\n",
       "      <th>1</th>\n",
       "      <td>1</td>\n",
       "      <td>1</td>\n",
       "      <td>1</td>\n",
       "      <td>1</td>\n",
       "      <td>1</td>\n",
       "      <td>0</td>\n",
       "      <td>0</td>\n",
       "    </tr>\n",
       "  </tbody>\n",
       "</table>\n",
       "</div>"
      ],
      "text/plain": [
       "   The  cute  dog  is  very  a  cat\n",
       "0    1     1    0   1     2  1    1\n",
       "1    1     1    1   1     1  0    0"
      ]
     },
     "execution_count": 25,
     "metadata": {},
     "output_type": "execute_result"
    }
   ],
   "source": [
    "# Feature vector in form of Bag of Words Representation\n",
    "pd.DataFrame(feature_vectors, columns=vocab)"
   ]
  },
  {
   "cell_type": "markdown",
   "id": "2b012f46",
   "metadata": {},
   "source": [
    "#### 2. Binary Bag of Words\n",
    "* Same as one-hot encoding , if word is present denote by 1 else 0."
   ]
  },
  {
   "cell_type": "code",
   "execution_count": 26,
   "id": "706294cd",
   "metadata": {},
   "outputs": [
    {
     "name": "stdout",
     "output_type": "stream",
     "text": [
      "['The', 'cute', 'dog', 'is', 'very', 'a', 'cat']\n",
      "[[1, 1, 0, 1, 1, 1, 1], [1, 1, 1, 1, 1, 0, 0]]\n"
     ]
    }
   ],
   "source": [
    "import pandas as pd \n",
    "\n",
    "feature_vectors = []\n",
    "text   = ['The is a very very cute cat','The dog is very cute']\n",
    "\n",
    "tokens = [token.split() for token in text]\n",
    "vocab  = list(set([word for text in tokens for word in text]))\n",
    "\n",
    "for text in tokens:\n",
    "    feature_vector = [0]*len(vocab)\n",
    "    \n",
    "    for word in text:\n",
    "        if word in vocab:\n",
    "            feature_vector[vocab.index(word)] = 1\n",
    "    feature_vectors.append(feature_vector)\n",
    "print(vocab)\n",
    "print(feature_vectors)"
   ]
  },
  {
   "cell_type": "code",
   "execution_count": null,
   "id": "5b73627f",
   "metadata": {},
   "outputs": [],
   "source": []
  }
 ],
 "metadata": {
  "kernelspec": {
   "display_name": "Python 3 (ipykernel)",
   "language": "python",
   "name": "python3"
  },
  "language_info": {
   "codemirror_mode": {
    "name": "ipython",
    "version": 3
   },
   "file_extension": ".py",
   "mimetype": "text/x-python",
   "name": "python",
   "nbconvert_exporter": "python",
   "pygments_lexer": "ipython3",
   "version": "3.11.5"
  }
 },
 "nbformat": 4,
 "nbformat_minor": 5
}
