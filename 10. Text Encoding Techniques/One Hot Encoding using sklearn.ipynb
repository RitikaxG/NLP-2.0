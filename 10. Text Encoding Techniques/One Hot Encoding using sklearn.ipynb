{
 "cells": [
  {
   "cell_type": "markdown",
   "id": "bb9b80fb",
   "metadata": {},
   "source": [
    "#### 1. One word at a time"
   ]
  },
  {
   "cell_type": "code",
   "execution_count": 6,
   "id": "e9f79e85",
   "metadata": {},
   "outputs": [
    {
     "name": "stdout",
     "output_type": "stream",
     "text": [
      "   bird  cat  dog  fish\n",
      "0     0    1    0     0\n",
      "1     0    0    1     0\n",
      "2     0    0    0     1\n",
      "3     1    0    0     0\n",
      "4     0    1    0     0\n",
      "5     0    0    1     0\n",
      "------------------------------\n",
      "Index(['bird', 'cat', 'dog', 'fish'], dtype='object')\n"
     ]
    }
   ],
   "source": [
    "import pandas as pd\n",
    "text = ['cat','dog','fish','bird','cat','dog']\n",
    "data = pd.get_dummies(text)\n",
    "print(data)\n",
    "print('-'*30)\n",
    "print(data.keys())"
   ]
  },
  {
   "cell_type": "markdown",
   "id": "4b05e4ba",
   "metadata": {},
   "source": [
    "#### 2. Whole sentence at a time"
   ]
  },
  {
   "cell_type": "code",
   "execution_count": 12,
   "id": "f7e3b075",
   "metadata": {},
   "outputs": [
    {
     "name": "stdout",
     "output_type": "stream",
     "text": [
      "(4,)\n",
      "(4, 1)\n",
      "[[0. 0. 1. 0.]\n",
      " [1. 0. 0. 0.]\n",
      " [0. 1. 0. 0.]\n",
      " [0. 0. 0. 1.]]\n",
      "['i hate cats', 'i like turtles', 'i love dogs', 'i love the dogs']\n"
     ]
    }
   ],
   "source": [
    "import numpy as np\n",
    "from sklearn.preprocessing import OneHotEncoder\n",
    "\n",
    "text = ['i love dogs','i hate cats','i like turtles','i love the dogs']\n",
    "# Reshape the data\n",
    "text = np.array(text)\n",
    "print(text.shape)\n",
    "# Adding an extra dimension\n",
    "text = np.reshape(text,(-1,1))\n",
    "print(text.shape)\n",
    "\n",
    "encoder = OneHotEncoder()\n",
    "encoder.fit(text)\n",
    "\n",
    "one_hot = encoder.transform(text)\n",
    "\n",
    "print(one_hot.toarray())\n",
    "print([i[3:] for i in encoder.get_feature_names_out()])"
   ]
  },
  {
   "cell_type": "markdown",
   "id": "6847b34c",
   "metadata": {},
   "source": [
    "#### 3. Tokenized Sentence"
   ]
  },
  {
   "cell_type": "code",
   "execution_count": 18,
   "id": "2db51fb7",
   "metadata": {},
   "outputs": [
    {
     "name": "stdout",
     "output_type": "stream",
     "text": [
      "[[0. 1. 1. 0. 0. 1.]\n",
      " [1. 0. 0. 1. 1. 0.]]\n",
      "------------------------------\n",
      "['but', 'this', 'is', 'its', 'fine', 'good']\n"
     ]
    }
   ],
   "source": [
    "text = [['this','is','good'],['but','its','fine']]\n",
    "encoder = OneHotEncoder()\n",
    "encoder.fit(text)\n",
    "\n",
    "one_hot = encoder.transform(text)\n",
    "print(one_hot.toarray())\n",
    "print('-'*30)\n",
    "\n",
    "print([i[3:] for i in encoder.get_feature_names_out()])"
   ]
  },
  {
   "cell_type": "code",
   "execution_count": 19,
   "id": "dad95d67",
   "metadata": {},
   "outputs": [
    {
     "data": {
      "text/html": [
       "<div>\n",
       "<style scoped>\n",
       "    .dataframe tbody tr th:only-of-type {\n",
       "        vertical-align: middle;\n",
       "    }\n",
       "\n",
       "    .dataframe tbody tr th {\n",
       "        vertical-align: top;\n",
       "    }\n",
       "\n",
       "    .dataframe thead th {\n",
       "        text-align: right;\n",
       "    }\n",
       "</style>\n",
       "<table border=\"1\" class=\"dataframe\">\n",
       "  <thead>\n",
       "    <tr style=\"text-align: right;\">\n",
       "      <th></th>\n",
       "      <th>but</th>\n",
       "      <th>this</th>\n",
       "      <th>is</th>\n",
       "      <th>its</th>\n",
       "      <th>fine</th>\n",
       "      <th>good</th>\n",
       "    </tr>\n",
       "  </thead>\n",
       "  <tbody>\n",
       "    <tr>\n",
       "      <th>0</th>\n",
       "      <td>0.0</td>\n",
       "      <td>1.0</td>\n",
       "      <td>1.0</td>\n",
       "      <td>0.0</td>\n",
       "      <td>0.0</td>\n",
       "      <td>1.0</td>\n",
       "    </tr>\n",
       "    <tr>\n",
       "      <th>1</th>\n",
       "      <td>1.0</td>\n",
       "      <td>0.0</td>\n",
       "      <td>0.0</td>\n",
       "      <td>1.0</td>\n",
       "      <td>1.0</td>\n",
       "      <td>0.0</td>\n",
       "    </tr>\n",
       "  </tbody>\n",
       "</table>\n",
       "</div>"
      ],
      "text/plain": [
       "   but  this   is  its  fine  good\n",
       "0  0.0   1.0  1.0  0.0   0.0   1.0\n",
       "1  1.0   0.0  0.0  1.0   1.0   0.0"
      ]
     },
     "execution_count": 19,
     "metadata": {},
     "output_type": "execute_result"
    }
   ],
   "source": [
    "pd.DataFrame(one_hot.toarray(),columns = [i[3:] for i in encoder.get_feature_names_out()])"
   ]
  },
  {
   "cell_type": "code",
   "execution_count": null,
   "id": "6340bd1f",
   "metadata": {},
   "outputs": [],
   "source": []
  }
 ],
 "metadata": {
  "kernelspec": {
   "display_name": "Python 3 (ipykernel)",
   "language": "python",
   "name": "python3"
  },
  "language_info": {
   "codemirror_mode": {
    "name": "ipython",
    "version": 3
   },
   "file_extension": ".py",
   "mimetype": "text/x-python",
   "name": "python",
   "nbconvert_exporter": "python",
   "pygments_lexer": "ipython3",
   "version": "3.11.5"
  }
 },
 "nbformat": 4,
 "nbformat_minor": 5
}
