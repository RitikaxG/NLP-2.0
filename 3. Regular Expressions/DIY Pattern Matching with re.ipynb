{
 "cells": [
  {
   "cell_type": "markdown",
   "id": "ae66dbc9",
   "metadata": {},
   "source": [
    "### 1. Continuous Numbers"
   ]
  },
  {
   "cell_type": "code",
   "execution_count": 21,
   "id": "f9bce6a0",
   "metadata": {},
   "outputs": [
    {
     "name": "stdout",
     "output_type": "stream",
     "text": [
      "987656432\n",
      "4576567\n",
      "2343\n",
      "988675\n",
      "657\n"
     ]
    }
   ],
   "source": [
    "# Finding continuous numbers by creating our own function\n",
    "txt = 'The number is 987656432 not 4576567 why 2343 is 988675 to your 657'\n",
    "c = 0\n",
    "for i in range(len(txt)):\n",
    "    if(txt[i].isdigit() == True): # Check if digit\n",
    "        # If its a digit print 'Start'\n",
    "        if(c==0):          \n",
    "            start = i\n",
    "        c += 1            # Incrementing the counter for number\n",
    "    else:\n",
    "        if(c!=0):         # If not digit\n",
    "            end = i\n",
    "            \n",
    "            print(txt[start:end])\n",
    "        c  = 0\n",
    "if(c!=0):                # If number is at the end of string\n",
    "    print(txt[-c:])"
   ]
  },
  {
   "cell_type": "markdown",
   "id": "460587fe",
   "metadata": {},
   "source": [
    "### 2. Word Finding"
   ]
  },
  {
   "cell_type": "code",
   "execution_count": 25,
   "id": "7c788d24",
   "metadata": {},
   "outputs": [
    {
     "name": "stdout",
     "output_type": "stream",
     "text": [
      "13 16\n",
      "49 52\n",
      "65 68\n"
     ]
    }
   ],
   "source": [
    "txt = 'AI is having the capability to revolutionize all the industries. The revolution is about to happen.'.lower()\n",
    "word = 'the'.lower()\n",
    "\n",
    "for i in range(len(txt)):\n",
    "    if(txt[i:i+len(word)] == word):\n",
    "        print(i,i+len(word))"
   ]
  },
  {
   "cell_type": "markdown",
   "id": "ce461e91",
   "metadata": {},
   "source": [
    "### 3. Word starting from specific characters"
   ]
  },
  {
   "cell_type": "code",
   "execution_count": 28,
   "id": "396b6908",
   "metadata": {},
   "outputs": [
    {
     "name": "stdout",
     "output_type": "stream",
     "text": [
      "industries.\n"
     ]
    }
   ],
   "source": [
    "txt = 'AI is having the capability to revolutionize all the industries. The revolution is about to happen.'\n",
    "word = 'in'\n",
    "\n",
    "# Finding words beginning with 'in'\n",
    "for wrd in txt.split(' '):\n",
    "    if(wrd[:2].lower()== word.lower()):\n",
    "        print(wrd)"
   ]
  },
  {
   "cell_type": "markdown",
   "id": "c608babe",
   "metadata": {},
   "source": [
    "### 4. Word Ending with specific characters"
   ]
  },
  {
   "cell_type": "code",
   "execution_count": 30,
   "id": "3d2c1c05",
   "metadata": {},
   "outputs": [
    {
     "name": "stdout",
     "output_type": "stream",
     "text": [
      "the\n",
      "the\n",
      "The\n"
     ]
    }
   ],
   "source": [
    "txt = 'AI is having the capability to revolutionize all the industries. The revolution is about to happen.'\n",
    "word = 'he'\n",
    "# Finding words beginning with 'in'\n",
    "for wrd in txt.split(' '):\n",
    "    if(wrd[-2:].lower()== word.lower()):\n",
    "        print(wrd)"
   ]
  },
  {
   "cell_type": "code",
   "execution_count": 33,
   "id": "2174ef6b",
   "metadata": {},
   "outputs": [
    {
     "name": "stdout",
     "output_type": "stream",
     "text": [
      "AI is\n",
      "is having\n",
      "having the\n",
      "the capability\n",
      "capability to\n",
      "to revolutionize\n",
      "revolutionize all\n",
      "all the\n",
      "the industries.\n",
      "industries. The\n",
      "The revolution\n",
      "revolution is\n",
      "is about\n",
      "about to\n",
      "to happen.\n"
     ]
    }
   ],
   "source": [
    "txt = 'AI is having the capability to revolutionize all the industries. The revolution is about to happen.'\n",
    "for i in range(len(txt.split(' '))-1):\n",
    "    print(txt.split(' ')[i], txt.split(' ')[i+1])"
   ]
  },
  {
   "cell_type": "markdown",
   "id": "acb9369e",
   "metadata": {},
   "source": [
    "### 5. Creating our own logic for Email Extraction"
   ]
  },
  {
   "cell_type": "code",
   "execution_count": 36,
   "id": "d533b8e8",
   "metadata": {},
   "outputs": [],
   "source": [
    "mails = ['ritikaxg@gmail.com','ritikag5533@gmail.com','abc@gmail.com',\n",
    "         'suzumi@fox.co.in','ritika@yahoo.com','mrbean@disney.co.in',\n",
    "         'jian@disney.org','phineas@cartoon.org','maria@farm.com',\n",
    "        'akhilesh@delhi.gov.in']"
   ]
  },
  {
   "cell_type": "code",
   "execution_count": 47,
   "id": "b3ef2dd7",
   "metadata": {},
   "outputs": [],
   "source": [
    "# user_ID + @ + host_name + domain_type\n",
    "user_id = []\n",
    "host_name = []\n",
    "domain_type = []\n",
    "\n",
    "for mail in mails:\n",
    "    user_id.append(mail.split('@')[0])\n",
    "    host_name.append(mail.split('@')[1].split('.')[0])\n",
    "    domain_type.append('.'.join(mail.split('@')[1].split('.')[1:]))"
   ]
  },
  {
   "cell_type": "code",
   "execution_count": 49,
   "id": "3e9ab888",
   "metadata": {},
   "outputs": [
    {
     "data": {
      "text/plain": [
       "['ritikaxg',\n",
       " 'ritikag5533',\n",
       " 'abc',\n",
       " 'suzumi',\n",
       " 'ritika',\n",
       " 'mrbean',\n",
       " 'jian',\n",
       " 'phineas',\n",
       " 'maria',\n",
       " 'akhilesh']"
      ]
     },
     "execution_count": 49,
     "metadata": {},
     "output_type": "execute_result"
    }
   ],
   "source": [
    "user_id"
   ]
  },
  {
   "cell_type": "code",
   "execution_count": 50,
   "id": "592c6b7f",
   "metadata": {},
   "outputs": [
    {
     "data": {
      "text/plain": [
       "['gmail',\n",
       " 'gmail',\n",
       " 'gmail',\n",
       " 'fox',\n",
       " 'yahoo',\n",
       " 'disney',\n",
       " 'disney',\n",
       " 'cartoon',\n",
       " 'farm',\n",
       " 'delhi']"
      ]
     },
     "execution_count": 50,
     "metadata": {},
     "output_type": "execute_result"
    }
   ],
   "source": [
    "host_name"
   ]
  },
  {
   "cell_type": "code",
   "execution_count": 51,
   "id": "f6607a00",
   "metadata": {},
   "outputs": [
    {
     "data": {
      "text/plain": [
       "['com', 'com', 'com', 'co.in', 'com', 'co.in', 'org', 'org', 'com', 'gov.in']"
      ]
     },
     "execution_count": 51,
     "metadata": {},
     "output_type": "execute_result"
    }
   ],
   "source": [
    "domain_type"
   ]
  },
  {
   "cell_type": "code",
   "execution_count": null,
   "id": "e2e23269",
   "metadata": {},
   "outputs": [],
   "source": []
  }
 ],
 "metadata": {
  "kernelspec": {
   "display_name": "Python 3 (ipykernel)",
   "language": "python",
   "name": "python3"
  },
  "language_info": {
   "codemirror_mode": {
    "name": "ipython",
    "version": 3
   },
   "file_extension": ".py",
   "mimetype": "text/x-python",
   "name": "python",
   "nbconvert_exporter": "python",
   "pygments_lexer": "ipython3",
   "version": "3.11.5"
  }
 },
 "nbformat": 4,
 "nbformat_minor": 5
}
