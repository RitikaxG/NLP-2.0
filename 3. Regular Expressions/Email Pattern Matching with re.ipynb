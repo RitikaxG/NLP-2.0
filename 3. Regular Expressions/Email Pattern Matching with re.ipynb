{
 "cells": [
  {
   "cell_type": "code",
   "execution_count": 2,
   "id": "99cea462",
   "metadata": {},
   "outputs": [
    {
     "data": {
      "text/plain": [
       "<re.Match object; span=(0, 18), match='ritikaxg@gmail.com'>"
      ]
     },
     "execution_count": 2,
     "metadata": {},
     "output_type": "execute_result"
    }
   ],
   "source": [
    "import re \n",
    "\n",
    "mail = 'ritikaxg@gmail.com'\n",
    "p = '[A-Za-z0-9]+@[\\w]+.[\\w]+'\n",
    "\n",
    "re.search(p,mail)"
   ]
  },
  {
   "cell_type": "code",
   "execution_count": 3,
   "id": "5c5fcfcc",
   "metadata": {},
   "outputs": [
    {
     "data": {
      "text/plain": [
       "'ritikag5533@gmail.com'"
      ]
     },
     "execution_count": 3,
     "metadata": {},
     "output_type": "execute_result"
    }
   ],
   "source": [
    "re.search(p,'ritikag5533@gmail.com').group()"
   ]
  },
  {
   "cell_type": "code",
   "execution_count": 4,
   "id": "95cbacf4",
   "metadata": {},
   "outputs": [
    {
     "data": {
      "text/plain": [
       "'5533tv@gmail.com'"
      ]
     },
     "execution_count": 4,
     "metadata": {},
     "output_type": "execute_result"
    }
   ],
   "source": [
    "re.search(p,'5533tv@gmail.com').group()"
   ]
  },
  {
   "cell_type": "markdown",
   "id": "b89df0a6",
   "metadata": {},
   "source": [
    "### Email ID with Specific Domain"
   ]
  },
  {
   "cell_type": "code",
   "execution_count": 13,
   "id": "9cd8e511",
   "metadata": {},
   "outputs": [
    {
     "data": {
      "text/plain": [
       "<re.Match object; span=(0, 18), match='ritikaxg@gmail.com'>"
      ]
     },
     "execution_count": 13,
     "metadata": {},
     "output_type": "execute_result"
    }
   ],
   "source": [
    "mail = 'ritikaxg@gmail.com'\n",
    "p = '[A-Za-z0-9]+@(gmail).(com)$'\n",
    "\n",
    "re.search(p,mail)"
   ]
  },
  {
   "cell_type": "code",
   "execution_count": 11,
   "id": "a5f1b3f0",
   "metadata": {},
   "outputs": [],
   "source": [
    "# No matches found\n",
    "re.search(p,'ritika@org')"
   ]
  },
  {
   "cell_type": "markdown",
   "id": "0e918160",
   "metadata": {},
   "source": [
    "### Email ID with Multiple Selected Domain"
   ]
  },
  {
   "cell_type": "code",
   "execution_count": 16,
   "id": "c306d397",
   "metadata": {},
   "outputs": [
    {
     "data": {
      "text/plain": [
       "<re.Match object; span=(0, 17), match='ritika123@bnb.org'>"
      ]
     },
     "execution_count": 16,
     "metadata": {},
     "output_type": "execute_result"
    }
   ],
   "source": [
    "mail = 'ritikaxg@gmail.com'\n",
    "p = '[A-Za-z0-9]+@[A-Za-z]+.(org|edu|gov|net|in|com)$'\n",
    "\n",
    "re.search(p,mail)\n",
    "re.search(p,'ritika123@bnb.org')"
   ]
  }
 ],
 "metadata": {
  "kernelspec": {
   "display_name": "Python 3 (ipykernel)",
   "language": "python",
   "name": "python3"
  },
  "language_info": {
   "codemirror_mode": {
    "name": "ipython",
    "version": 3
   },
   "file_extension": ".py",
   "mimetype": "text/x-python",
   "name": "python",
   "nbconvert_exporter": "python",
   "pygments_lexer": "ipython3",
   "version": "3.11.5"
  }
 },
 "nbformat": 4,
 "nbformat_minor": 5
}
