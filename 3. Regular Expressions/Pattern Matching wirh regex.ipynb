{
 "cells": [
  {
   "cell_type": "code",
   "execution_count": 1,
   "id": "4ddbc972",
   "metadata": {},
   "outputs": [],
   "source": [
    "import re"
   ]
  },
  {
   "cell_type": "markdown",
   "id": "f5217918",
   "metadata": {},
   "source": [
    "#### 1. Finding pattern with specific ending"
   ]
  },
  {
   "cell_type": "code",
   "execution_count": 3,
   "id": "87cbb77e",
   "metadata": {},
   "outputs": [
    {
     "data": {
      "text/plain": [
       "['at', 'at', 'at', 'at', 'at']"
      ]
     },
     "execution_count": 3,
     "metadata": {},
     "output_type": "execute_result"
    }
   ],
   "source": [
    "re.findall('at','the rat sat on the mat and attacked by a cat')"
   ]
  },
  {
   "cell_type": "code",
   "execution_count": 4,
   "id": "2d2dcb14",
   "metadata": {},
   "outputs": [
    {
     "data": {
      "text/plain": [
       "['rat', 'sat', 'mat', ' at', 'cat']"
      ]
     },
     "execution_count": 4,
     "metadata": {},
     "output_type": "execute_result"
    }
   ],
   "source": [
    "# Returns all words where last character is 'at'\n",
    "re.findall('.at','the rat sat on the mat and attacked by a cat')"
   ]
  },
  {
   "cell_type": "code",
   "execution_count": 10,
   "id": "046d3a68",
   "metadata": {},
   "outputs": [
    {
     "data": {
      "text/plain": [
       "['4', '2', '3']"
      ]
     },
     "execution_count": 10,
     "metadata": {},
     "output_type": "execute_result"
    }
   ],
   "source": [
    "re.findall('\\d','4 is divisible by 2 not 3')"
   ]
  },
  {
   "cell_type": "markdown",
   "id": "1c8a1735",
   "metadata": {},
   "source": [
    "#### 2. Start and End pattern matching"
   ]
  },
  {
   "cell_type": "code",
   "execution_count": 11,
   "id": "d0298836",
   "metadata": {},
   "outputs": [
    {
     "data": {
      "text/plain": [
       "['3']"
      ]
     },
     "execution_count": 11,
     "metadata": {},
     "output_type": "execute_result"
    }
   ],
   "source": [
    "# Will return the last character if it is a digit\n",
    "re.findall('\\d$','4 is divisible by 2 not 3')"
   ]
  },
  {
   "cell_type": "code",
   "execution_count": 12,
   "id": "c80a0876",
   "metadata": {},
   "outputs": [
    {
     "data": {
      "text/plain": [
       "[]"
      ]
     },
     "execution_count": 12,
     "metadata": {},
     "output_type": "execute_result"
    }
   ],
   "source": [
    "re.findall('\\d$','4 is divisible by 2 not ')"
   ]
  },
  {
   "cell_type": "code",
   "execution_count": 13,
   "id": "eda2ebdb",
   "metadata": {},
   "outputs": [
    {
     "data": {
      "text/plain": [
       "['32']"
      ]
     },
     "execution_count": 13,
     "metadata": {},
     "output_type": "execute_result"
    }
   ],
   "source": [
    "# Last character should be a digit and of length 2\n",
    "re.findall('\\d\\d$','4 is divisible by 2 not 32')"
   ]
  },
  {
   "cell_type": "code",
   "execution_count": 14,
   "id": "e080c480",
   "metadata": {},
   "outputs": [
    {
     "data": {
      "text/plain": [
       "['4']"
      ]
     },
     "execution_count": 14,
     "metadata": {},
     "output_type": "execute_result"
    }
   ],
   "source": [
    "# If the 1st char is a digit it will return that digit\n",
    "re.findall('^\\d','4 is divisible by 2 not 32')"
   ]
  },
  {
   "cell_type": "markdown",
   "id": "d4cd9437",
   "metadata": {},
   "source": [
    "#### 3. Finding Capital Letters"
   ]
  },
  {
   "cell_type": "code",
   "execution_count": 15,
   "id": "1589b92e",
   "metadata": {},
   "outputs": [
    {
     "data": {
      "text/plain": [
       "['W', 'M']"
      ]
     },
     "execution_count": 15,
     "metadata": {},
     "output_type": "execute_result"
    }
   ],
   "source": [
    "# Returns all the uppercase letters\n",
    "re.findall('[A-Z]','Welcome to Metaverse')"
   ]
  },
  {
   "cell_type": "markdown",
   "id": "0974d272",
   "metadata": {},
   "source": [
    "#### 4. Finding lowercase Letters"
   ]
  },
  {
   "cell_type": "code",
   "execution_count": 16,
   "id": "e2fb0bf5",
   "metadata": {},
   "outputs": [
    {
     "data": {
      "text/plain": [
       "['e',\n",
       " 'l',\n",
       " 'c',\n",
       " 'o',\n",
       " 'm',\n",
       " 'e',\n",
       " 't',\n",
       " 'o',\n",
       " 'e',\n",
       " 't',\n",
       " 'a',\n",
       " 'v',\n",
       " 'e',\n",
       " 'r',\n",
       " 's',\n",
       " 'e']"
      ]
     },
     "execution_count": 16,
     "metadata": {},
     "output_type": "execute_result"
    }
   ],
   "source": [
    "re.findall('[a-z]','Welcome to Metaverse')"
   ]
  },
  {
   "cell_type": "markdown",
   "id": "11a7362c",
   "metadata": {},
   "source": [
    "#### 5. Finding upper and lowercase letters"
   ]
  },
  {
   "cell_type": "code",
   "execution_count": 17,
   "id": "a081f81a",
   "metadata": {},
   "outputs": [
    {
     "data": {
      "text/plain": [
       "['W',\n",
       " 'e',\n",
       " 'l',\n",
       " 'c',\n",
       " 'o',\n",
       " 'm',\n",
       " 'e',\n",
       " 't',\n",
       " 'o',\n",
       " 'M',\n",
       " 'e',\n",
       " 't',\n",
       " 'a',\n",
       " 'v',\n",
       " 'e',\n",
       " 'r',\n",
       " 's',\n",
       " 'e']"
      ]
     },
     "execution_count": 17,
     "metadata": {},
     "output_type": "execute_result"
    }
   ],
   "source": [
    "re.findall('[A-Za-z]','Welcome to Metaverse')"
   ]
  },
  {
   "cell_type": "markdown",
   "id": "d6143cdf",
   "metadata": {},
   "source": [
    "#### 6. Finding all uppercase,lowercase letters and numbers"
   ]
  },
  {
   "cell_type": "code",
   "execution_count": 19,
   "id": "6496ce3b",
   "metadata": {},
   "outputs": [
    {
     "data": {
      "text/plain": [
       "['W',\n",
       " 'e',\n",
       " 'l',\n",
       " 'c',\n",
       " 'o',\n",
       " 'm',\n",
       " 'e',\n",
       " 't',\n",
       " 'o',\n",
       " 'M',\n",
       " 'e',\n",
       " 't',\n",
       " 'a',\n",
       " 'v',\n",
       " 'e',\n",
       " 'r',\n",
       " 's',\n",
       " 'e',\n",
       " '5']"
      ]
     },
     "execution_count": 19,
     "metadata": {},
     "output_type": "execute_result"
    }
   ],
   "source": [
    "re.findall('[A-Za-z0-9]','Welcome to Metaverse 5')"
   ]
  },
  {
   "cell_type": "code",
   "execution_count": null,
   "id": "fe897ed0",
   "metadata": {},
   "outputs": [],
   "source": []
  }
 ],
 "metadata": {
  "kernelspec": {
   "display_name": "Python 3 (ipykernel)",
   "language": "python",
   "name": "python3"
  },
  "language_info": {
   "codemirror_mode": {
    "name": "ipython",
    "version": 3
   },
   "file_extension": ".py",
   "mimetype": "text/x-python",
   "name": "python",
   "nbconvert_exporter": "python",
   "pygments_lexer": "ipython3",
   "version": "3.11.5"
  }
 },
 "nbformat": 4,
 "nbformat_minor": 5
}
