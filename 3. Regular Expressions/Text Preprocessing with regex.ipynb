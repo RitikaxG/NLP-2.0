{
 "cells": [
  {
   "cell_type": "code",
   "execution_count": 1,
   "id": "644fb66d",
   "metadata": {},
   "outputs": [],
   "source": [
    "import re"
   ]
  },
  {
   "cell_type": "markdown",
   "id": "17ddb32a",
   "metadata": {},
   "source": [
    "#### 1. Removing the Special Characters"
   ]
  },
  {
   "cell_type": "code",
   "execution_count": 10,
   "id": "38b29c87",
   "metadata": {},
   "outputs": [],
   "source": [
    "txt = 'Eshant is h%appy! But, why is h*e not playing?'"
   ]
  },
  {
   "cell_type": "code",
   "execution_count": 12,
   "id": "10adc708",
   "metadata": {},
   "outputs": [
    {
     "data": {
      "text/plain": [
       "'Eshant is happy But why is he not playing'"
      ]
     },
     "execution_count": 12,
     "metadata": {},
     "output_type": "execute_result"
    }
   ],
   "source": [
    "# ^ : Exclude\n",
    "''.join(re.findall('[^,!$%*?]+',txt))"
   ]
  },
  {
   "cell_type": "code",
   "execution_count": 13,
   "id": "0ed9bc47",
   "metadata": {},
   "outputs": [
    {
     "data": {
      "text/plain": [
       "'21'"
      ]
     },
     "execution_count": 13,
     "metadata": {},
     "output_type": "execute_result"
    }
   ],
   "source": [
    "txt = \"I'm 21\"\n",
    "''.join(re.findall('[\\d]',txt))"
   ]
  },
  {
   "cell_type": "code",
   "execution_count": 14,
   "id": "1e3dffe2",
   "metadata": {},
   "outputs": [
    {
     "data": {
      "text/plain": [
       "\"I'm \""
      ]
     },
     "execution_count": 14,
     "metadata": {},
     "output_type": "execute_result"
    }
   ],
   "source": [
    "# Will return everything except digit\n",
    "txt = \"I'm 21\"\n",
    "''.join(re.findall('[\\D]',txt))"
   ]
  },
  {
   "cell_type": "markdown",
   "id": "035017db",
   "metadata": {},
   "source": [
    "#### 2. Finding the patterns like Butter-sweet-butter"
   ]
  },
  {
   "cell_type": "code",
   "execution_count": 15,
   "id": "4317f060",
   "metadata": {},
   "outputs": [],
   "source": [
    "txt = \"I like Butter-sweet-butter but I don't wanna have too much of sweet\""
   ]
  },
  {
   "cell_type": "code",
   "execution_count": 27,
   "id": "76b716a0",
   "metadata": {},
   "outputs": [
    {
     "data": {
      "text/plain": [
       "'Butter-sweet-butter'"
      ]
     },
     "execution_count": 27,
     "metadata": {},
     "output_type": "execute_result"
    }
   ],
   "source": [
    "''.join(re.findall('[\\w]+-[\\w]+-[\\w]+',txt))"
   ]
  },
  {
   "cell_type": "markdown",
   "id": "00386835",
   "metadata": {},
   "source": [
    "#### 3. Phone Number pattern matching"
   ]
  },
  {
   "cell_type": "code",
   "execution_count": 32,
   "id": "e2b34934",
   "metadata": {},
   "outputs": [
    {
     "name": "stdout",
     "output_type": "stream",
     "text": [
      "1233475890\n",
      "6548991234\n",
      "2226676789\n",
      "1110982456\n"
     ]
    }
   ],
   "source": [
    "for i in [\"123-3475-890\",\"654-899-1234\",\"222-6676-789\",\"111-0982-456\"]:\n",
    "    print(str(re.findall('[\\d]+-[\\d]+-[\\d]+',i)[0]).replace('-',''))"
   ]
  },
  {
   "cell_type": "code",
   "execution_count": null,
   "id": "58223eda",
   "metadata": {},
   "outputs": [],
   "source": []
  }
 ],
 "metadata": {
  "kernelspec": {
   "display_name": "Python 3 (ipykernel)",
   "language": "python",
   "name": "python3"
  },
  "language_info": {
   "codemirror_mode": {
    "name": "ipython",
    "version": 3
   },
   "file_extension": ".py",
   "mimetype": "text/x-python",
   "name": "python",
   "nbconvert_exporter": "python",
   "pygments_lexer": "ipython3",
   "version": "3.11.5"
  }
 },
 "nbformat": 4,
 "nbformat_minor": 5
}
