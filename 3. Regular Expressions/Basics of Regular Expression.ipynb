{
 "cells": [
  {
   "cell_type": "code",
   "execution_count": 1,
   "id": "b3fdeee0",
   "metadata": {},
   "outputs": [],
   "source": [
    "import re"
   ]
  },
  {
   "cell_type": "code",
   "execution_count": 2,
   "id": "a5b1fd74",
   "metadata": {},
   "outputs": [
    {
     "data": {
      "text/plain": [
       "'Hello, how are you?'"
      ]
     },
     "execution_count": 2,
     "metadata": {},
     "output_type": "execute_result"
    }
   ],
   "source": [
    "'Hello, how are you?'"
   ]
  },
  {
   "cell_type": "code",
   "execution_count": 3,
   "id": "a4ce1ae9",
   "metadata": {},
   "outputs": [
    {
     "data": {
      "text/plain": [
       "True"
      ]
     },
     "execution_count": 3,
     "metadata": {},
     "output_type": "execute_result"
    }
   ],
   "source": [
    "'You'.lower() in 'Hello, how are you?'.lower()"
   ]
  },
  {
   "cell_type": "markdown",
   "id": "69c74da1",
   "metadata": {},
   "source": [
    "#### 1. Searching using Regular Expressions"
   ]
  },
  {
   "cell_type": "code",
   "execution_count": 8,
   "id": "6aa83884",
   "metadata": {},
   "outputs": [
    {
     "data": {
      "text/plain": [
       "(15, 18)"
      ]
     },
     "execution_count": 8,
     "metadata": {},
     "output_type": "execute_result"
    }
   ],
   "source": [
    "# Using regular expressions\n",
    "srch = re.search('you','Hello, how are you?')\n",
    "# Returns the index range of matched character\n",
    "srch.span()"
   ]
  },
  {
   "cell_type": "code",
   "execution_count": 9,
   "id": "68888abd",
   "metadata": {},
   "outputs": [
    {
     "data": {
      "text/plain": [
       "15"
      ]
     },
     "execution_count": 9,
     "metadata": {},
     "output_type": "execute_result"
    }
   ],
   "source": [
    "srch.start()"
   ]
  },
  {
   "cell_type": "code",
   "execution_count": 10,
   "id": "97b09f1c",
   "metadata": {},
   "outputs": [
    {
     "data": {
      "text/plain": [
       "18"
      ]
     },
     "execution_count": 10,
     "metadata": {},
     "output_type": "execute_result"
    }
   ],
   "source": [
    "srch.end()"
   ]
  },
  {
   "cell_type": "code",
   "execution_count": 11,
   "id": "fe763f16",
   "metadata": {},
   "outputs": [
    {
     "data": {
      "text/plain": [
       "<re.Match object; span=(11, 14), match='are'>"
      ]
     },
     "execution_count": 11,
     "metadata": {},
     "output_type": "execute_result"
    }
   ],
   "source": [
    "a = 'Hello, how are you?'\n",
    "b = 'are'\n",
    "re.search(b,a)"
   ]
  },
  {
   "cell_type": "markdown",
   "id": "435e4d98",
   "metadata": {},
   "source": [
    "#### 2. Findall"
   ]
  },
  {
   "cell_type": "code",
   "execution_count": 13,
   "id": "deaa191c",
   "metadata": {},
   "outputs": [
    {
     "data": {
      "text/plain": [
       "['are', 'are']"
      ]
     },
     "execution_count": 13,
     "metadata": {},
     "output_type": "execute_result"
    }
   ],
   "source": [
    "a = 'Hello, how are area you?'\n",
    "b = 'are'\n",
    "re.findall(b,a)"
   ]
  },
  {
   "cell_type": "markdown",
   "id": "85226fde",
   "metadata": {},
   "source": [
    "#### 3. Finditer\n",
    "* Iterate through the whole string and return span for each matched char"
   ]
  },
  {
   "cell_type": "code",
   "execution_count": 15,
   "id": "bc768c18",
   "metadata": {},
   "outputs": [
    {
     "name": "stdout",
     "output_type": "stream",
     "text": [
      "(11, 14)\n",
      "(15, 18)\n"
     ]
    }
   ],
   "source": [
    "for s in re.finditer('are','Hello, how are area you?'):\n",
    "    print(s.span())"
   ]
  },
  {
   "cell_type": "markdown",
   "id": "4b68bd7b",
   "metadata": {},
   "source": [
    "#### 4. Creating Regular Expressions"
   ]
  },
  {
   "cell_type": "code",
   "execution_count": 18,
   "id": "609d1407",
   "metadata": {},
   "outputs": [
    {
     "data": {
      "text/plain": [
       "<re.Match object; span=(28, 40), match='089-4567-456'>"
      ]
     },
     "execution_count": 18,
     "metadata": {},
     "output_type": "execute_result"
    }
   ],
   "source": [
    "txt = 'My Phone no. is lost it was 089-4567-456'\n",
    "# \\d : Digit\n",
    "pattern = '\\d\\d\\d-\\d\\d\\d\\d-\\d\\d\\d'\n",
    "\n",
    "re.search(pattern,txt)"
   ]
  },
  {
   "cell_type": "code",
   "execution_count": 23,
   "id": "cc313e8a",
   "metadata": {},
   "outputs": [
    {
     "data": {
      "text/plain": [
       "'089-4567-456'"
      ]
     },
     "execution_count": 23,
     "metadata": {},
     "output_type": "execute_result"
    }
   ],
   "source": [
    "txt = 'My Phone no. is lost it was 089-4567-456'\n",
    "# \\d : Digit\n",
    "pattern = '\\d{3}-\\d{4}-\\d{3}'\n",
    "\n",
    "re.search(pattern,txt)\n",
    "re.search(pattern,txt).group()"
   ]
  },
  {
   "cell_type": "code",
   "execution_count": 19,
   "id": "862eaa3d",
   "metadata": {},
   "outputs": [
    {
     "data": {
      "text/plain": [
       "<re.Match object; span=(0, 2), match='My'>"
      ]
     },
     "execution_count": 19,
     "metadata": {},
     "output_type": "execute_result"
    }
   ],
   "source": [
    "txt = 'My Phone no. is lost it was 089-4567-456'\n",
    "# \\w : word\n",
    "pattern = '\\w\\w'\n",
    "\n",
    "re.search(pattern,txt)"
   ]
  }
 ],
 "metadata": {
  "kernelspec": {
   "display_name": "Python 3 (ipykernel)",
   "language": "python",
   "name": "python3"
  },
  "language_info": {
   "codemirror_mode": {
    "name": "ipython",
    "version": 3
   },
   "file_extension": ".py",
   "mimetype": "text/x-python",
   "name": "python",
   "nbconvert_exporter": "python",
   "pygments_lexer": "ipython3",
   "version": "3.11.5"
  }
 },
 "nbformat": 4,
 "nbformat_minor": 5
}
