{
  "nbformat": 4,
  "nbformat_minor": 0,
  "metadata": {
    "colab": {
      "provenance": []
    },
    "kernelspec": {
      "name": "python3",
      "display_name": "Python 3"
    },
    "language_info": {
      "name": "python"
    }
  },
  "cells": [
    {
      "cell_type": "code",
      "execution_count": null,
      "metadata": {
        "id": "KgG_7xX6x4C2"
      },
      "outputs": [],
      "source": [
        "import numpy as np\n",
        "import pandas as pd"
      ]
    },
    {
      "cell_type": "code",
      "source": [
        "def preprocessing(input_file,output_file):\n",
        "    df = pd.read_csv(input_file)\n",
        "\n",
        "    text = ' '.join(list(df['article'].values))\n",
        "    text = re.sub('\\n','',text)\n",
        "    text = re.sub(r'[:.,;()_?\\'\"/@!]', r'', text)\n",
        "    text = text.replace(\"'\",'')\n",
        "    text = text.replace(\"\\u200d\",'')\n",
        "    text = text.replace(\"\\xa0\",'')\n",
        "    text = re.sub(r'[a-zA-Z]+','',text)\n",
        "    # Replace any extra space with single space\n",
        "    text = re.sub(r'\\s+',' ',text)\n",
        "\n",
        "    fd = open(output_file,'w')\n",
        "    fd.write(text)\n",
        "    fd.close()\n",
        "    print(output_file+' is created!')"
      ],
      "metadata": {
        "id": "oFtJNy8Tzcaa"
      },
      "execution_count": null,
      "outputs": []
    },
    {
      "cell_type": "code",
      "source": [
        "# Run on Kaggle\n",
        "# preprocessing('train.csv','train.txt')\n",
        "# preprocessing('test.csv','test.txt')"
      ],
      "metadata": {
        "id": "9Eu_CaZYzhmw"
      },
      "execution_count": null,
      "outputs": []
    },
    {
      "cell_type": "code",
      "source": [
        "import fasttext\n",
        "model_cbow = fasttext.train_unsupervised('train.txt',model='cbow')"
      ],
      "metadata": {
        "id": "owswJ3X50Ynj"
      },
      "execution_count": null,
      "outputs": []
    },
    {
      "cell_type": "code",
      "source": [
        "!pip install fasttext"
      ],
      "metadata": {
        "colab": {
          "base_uri": "https://localhost:8080/"
        },
        "id": "geAj96ByRtVx",
        "outputId": "39aa9174-869f-4a51-e7d3-49ecb8db3995"
      },
      "execution_count": null,
      "outputs": [
        {
          "output_type": "stream",
          "name": "stdout",
          "text": [
            "Collecting fasttext\n",
            "  Downloading fasttext-0.9.2.tar.gz (68 kB)\n",
            "\u001b[?25l     \u001b[90m━━━━━━━━━━━━━━━━━━━━━━━━━━━━━━━━━━━━━━━━\u001b[0m \u001b[32m0.0/68.8 kB\u001b[0m \u001b[31m?\u001b[0m eta \u001b[36m-:--:--\u001b[0m\r\u001b[2K     \u001b[90m━━━━━━━━━━━━━━━━━━━━━━━━━━━━━━━━━━━━━━━━\u001b[0m \u001b[32m68.8/68.8 kB\u001b[0m \u001b[31m2.6 MB/s\u001b[0m eta \u001b[36m0:00:00\u001b[0m\n",
            "\u001b[?25h  Preparing metadata (setup.py) ... \u001b[?25l\u001b[?25hdone\n",
            "Collecting pybind11>=2.2 (from fasttext)\n",
            "  Using cached pybind11-2.11.1-py3-none-any.whl (227 kB)\n",
            "Requirement already satisfied: setuptools>=0.7.0 in /usr/local/lib/python3.10/dist-packages (from fasttext) (67.7.2)\n",
            "Requirement already satisfied: numpy in /usr/local/lib/python3.10/dist-packages (from fasttext) (1.25.2)\n",
            "Building wheels for collected packages: fasttext\n",
            "  Building wheel for fasttext (setup.py) ... \u001b[?25l\u001b[?25hdone\n",
            "  Created wheel for fasttext: filename=fasttext-0.9.2-cp310-cp310-linux_x86_64.whl size=4199771 sha256=d2ffe2612da59e7a6027f266b9c05a994766f6d8ed816f01ae26df71120fc037\n",
            "  Stored in directory: /root/.cache/pip/wheels/a5/13/75/f811c84a8ab36eedbaef977a6a58a98990e8e0f1967f98f394\n",
            "Successfully built fasttext\n",
            "Installing collected packages: pybind11, fasttext\n",
            "Successfully installed fasttext-0.9.2 pybind11-2.11.1\n"
          ]
        }
      ]
    },
    {
      "cell_type": "code",
      "source": [
        "# Save the CBOW model\n",
        "model_cbow.save_model(\"cbow_model.bin\")"
      ],
      "metadata": {
        "id": "1e6gY6AXRzJf"
      },
      "execution_count": null,
      "outputs": []
    },
    {
      "cell_type": "code",
      "source": [
        "model_skipgram = fasttext.train_unsupervised('train.txt',model='skipgram')"
      ],
      "metadata": {
        "id": "AtZ1c-nkT0_B"
      },
      "execution_count": null,
      "outputs": []
    },
    {
      "cell_type": "code",
      "source": [
        "# Save the Skipgram model\n",
        "model_skipgram.save_model(\"skipgram_model.bin\")"
      ],
      "metadata": {
        "id": "wqNlViCXT81h"
      },
      "execution_count": null,
      "outputs": []
    },
    {
      "cell_type": "code",
      "source": [
        "model_cbow.get_nearest_neighbors(\"छत्तीसगढ़\")"
      ],
      "metadata": {
        "colab": {
          "base_uri": "https://localhost:8080/"
        },
        "id": "k7NrRluvUB6U",
        "outputId": "c17dcae1-ae2d-4761-e5fe-734e9202dcf3"
      },
      "execution_count": null,
      "outputs": [
        {
          "output_type": "execute_result",
          "data": {
            "text/plain": [
              "[(0.987775444984436, 'छत्तीसगढ़'),\n",
              " (0.941430926322937, 'हैछत्तीसगढ़'),\n",
              " (0.8950657844543457, 'झारखंड'),\n",
              " (0.892260730266571, 'गढ़'),\n",
              " (0.8878934979438782, 'आंध्र'),\n",
              " (0.8849980235099792, 'टीकमगढ़'),\n",
              " (0.8822328448295593, 'जूनागढ़'),\n",
              " (0.8810223937034607, 'मणिपुर'),\n",
              " (0.8754474520683289, 'बीजापुर'),\n",
              " (0.8678306341171265, 'केरल')]"
            ]
          },
          "metadata": {},
          "execution_count": 10
        }
      ]
    },
    {
      "cell_type": "code",
      "source": [
        "model_skipgram.get_nearest_neighbors (\"तेंदुलकर\")"
      ],
      "metadata": {
        "colab": {
          "base_uri": "https://localhost:8080/"
        },
        "id": "YWiebWYCUERO",
        "outputId": "dd1727e5-3d5b-4323-ebbd-110caac9ca73"
      },
      "execution_count": null,
      "outputs": [
        {
          "output_type": "execute_result",
          "data": {
            "text/plain": [
              "[(0.8756169080734253, 'सचिन'),\n",
              " (0.8470320701599121, '‘सचिन'),\n",
              " (0.8285651803016663, 'तेंडुलकर'),\n",
              " (0.8030213117599487, 'दुलकर'),\n",
              " (0.7736647129058838, 'गावस्कर'),\n",
              " (0.7688364386558533, 'हैसचिन'),\n",
              " (0.7623431086540222, 'महाशतक'),\n",
              " (0.7533804178237915, 'सहवाग'),\n",
              " (0.7381389141082764, 'शतकों'),\n",
              " (0.7251918315887451, 'वीवीएस')]"
            ]
          },
          "metadata": {},
          "execution_count": 11
        }
      ]
    },
    {
      "cell_type": "code",
      "source": [
        "model_skipgram.get_nearest_neighbors (\"अदिति\")"
      ],
      "metadata": {
        "colab": {
          "base_uri": "https://localhost:8080/"
        },
        "id": "6hOSMjmqYb49",
        "outputId": "96e4c492-993a-4834-ad6b-c96f50288fdb"
      },
      "execution_count": null,
      "outputs": [
        {
          "output_type": "execute_result",
          "data": {
            "text/plain": [
              "[(0.7633353471755981, 'शमिता'),\n",
              " (0.7602987885475159, 'नंदिता'),\n",
              " (0.7364422678947449, 'सोभिता'),\n",
              " (0.727436900138855, 'राजकुमारी'),\n",
              " (0.7274200916290283, 'फोगट'),\n",
              " (0.7210612297058105, 'हसनंदानी'),\n",
              " (0.714904248714447, 'दीपा'),\n",
              " (0.713263213634491, 'जिमनास्ट'),\n",
              " (0.712192714214325, 'मुग्धा'),\n",
              " (0.7000999450683594, 'मनिका')]"
            ]
          },
          "metadata": {},
          "execution_count": 16
        }
      ]
    },
    {
      "cell_type": "code",
      "source": [],
      "metadata": {
        "id": "700KjWS-Yf0D"
      },
      "execution_count": null,
      "outputs": []
    }
  ]
}