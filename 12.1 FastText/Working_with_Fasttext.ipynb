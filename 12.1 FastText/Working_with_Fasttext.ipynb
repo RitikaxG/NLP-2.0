{
  "nbformat": 4,
  "nbformat_minor": 0,
  "metadata": {
    "colab": {
      "provenance": [],
      "gpuType": "T4"
    },
    "kernelspec": {
      "name": "python3",
      "display_name": "Python 3"
    },
    "language_info": {
      "name": "python"
    },
    "accelerator": "GPU"
  },
  "cells": [
    {
      "cell_type": "markdown",
      "source": [
        "**FastText**\n",
        "* Provide different language vectors"
      ],
      "metadata": {
        "id": "vIW9q5_P_Isy"
      }
    },
    {
      "cell_type": "code",
      "execution_count": 1,
      "metadata": {
        "colab": {
          "base_uri": "https://localhost:8080/"
        },
        "id": "YzvKdvpluFOY",
        "outputId": "aa8c47e5-f4f2-433f-82b4-273cc549fda5"
      },
      "outputs": [
        {
          "output_type": "stream",
          "name": "stdout",
          "text": [
            "Collecting fasttext\n",
            "  Downloading fasttext-0.9.2.tar.gz (68 kB)\n",
            "\u001b[?25l     \u001b[90m━━━━━━━━━━━━━━━━━━━━━━━━━━━━━━━━━━━━━━━━\u001b[0m \u001b[32m0.0/68.8 kB\u001b[0m \u001b[31m?\u001b[0m eta \u001b[36m-:--:--\u001b[0m\r\u001b[2K     \u001b[90m━━━━━━━━━━━━━━━━━━━━━━━━━━━━━━━━━━━━━━━━\u001b[0m \u001b[32m68.8/68.8 kB\u001b[0m \u001b[31m2.8 MB/s\u001b[0m eta \u001b[36m0:00:00\u001b[0m\n",
            "\u001b[?25h  Preparing metadata (setup.py) ... \u001b[?25l\u001b[?25hdone\n",
            "Collecting pybind11>=2.2 (from fasttext)\n",
            "  Using cached pybind11-2.11.1-py3-none-any.whl (227 kB)\n",
            "Requirement already satisfied: setuptools>=0.7.0 in /usr/local/lib/python3.10/dist-packages (from fasttext) (67.7.2)\n",
            "Requirement already satisfied: numpy in /usr/local/lib/python3.10/dist-packages (from fasttext) (1.25.2)\n",
            "Building wheels for collected packages: fasttext\n",
            "  Building wheel for fasttext (setup.py) ... \u001b[?25l\u001b[?25hdone\n",
            "  Created wheel for fasttext: filename=fasttext-0.9.2-cp310-cp310-linux_x86_64.whl size=4199773 sha256=3da0f6a661f6d3a6f67fa9bfe1b546fff5cfa2a00e72446703e3cb7d34e2503d\n",
            "  Stored in directory: /root/.cache/pip/wheels/a5/13/75/f811c84a8ab36eedbaef977a6a58a98990e8e0f1967f98f394\n",
            "Successfully built fasttext\n",
            "Installing collected packages: pybind11, fasttext\n",
            "Successfully installed fasttext-0.9.2 pybind11-2.11.1\n"
          ]
        }
      ],
      "source": [
        "!pip install fasttext"
      ]
    },
    {
      "cell_type": "markdown",
      "source": [
        "### **1. Using Pretrained Models**"
      ],
      "metadata": {
        "id": "eq3YQfj0ueCW"
      }
    },
    {
      "cell_type": "code",
      "source": [
        "import fasttext\n",
        "import urllib.request\n",
        "\n",
        "link_en = 'https://dl.fbaipublicfiles.com/fasttext/vectors-crawl/cc.en.300.bin.gz'\n",
        "urllib.request.urlretrieve(link_en,\"en.gz\")\n",
        "\n",
        "!gunzip en.gz\n",
        "\n",
        "model_en = fasttext.load_model('en')"
      ],
      "metadata": {
        "colab": {
          "base_uri": "https://localhost:8080/"
        },
        "id": "n99LTiXmuTPH",
        "outputId": "3ecfaaae-530e-42d3-903f-6e31a497ff14"
      },
      "execution_count": 2,
      "outputs": [
        {
          "output_type": "stream",
          "name": "stderr",
          "text": [
            "Warning : `load_model` does not return WordVectorModel or SupervisedModel any more, but a `FastText` object which is very similar.\n"
          ]
        }
      ]
    },
    {
      "cell_type": "code",
      "source": [
        "model_en.get_nearest_neighbors('Kejriwal')"
      ],
      "metadata": {
        "colab": {
          "base_uri": "https://localhost:8080/"
        },
        "id": "nnZUW3xB_-p3",
        "outputId": "bacc8a02-189b-4c99-f696-3e5123d1a986"
      },
      "execution_count": 8,
      "outputs": [
        {
          "output_type": "execute_result",
          "data": {
            "text/plain": [
              "[(0.7143698930740356, 'Kejriwal-led'),\n",
              " (0.6894689798355103, 'Modi'),\n",
              " (0.6882308125495911, 'Kejri'),\n",
              " (0.6836877465248108, 'kejriwal'),\n",
              " (0.6695126891136169, 'BJP'),\n",
              " (0.6644313335418701, 'Akhilesh'),\n",
              " (0.6548251509666443, 'Jaitley'),\n",
              " (0.6508567333221436, 'ArvindKejriwal'),\n",
              " (0.6419541835784912, 'Modiji'),\n",
              " (0.632680356502533, 'Mayawati')]"
            ]
          },
          "metadata": {},
          "execution_count": 8
        }
      ]
    },
    {
      "cell_type": "code",
      "source": [
        "model_en['Aditi'].shape"
      ],
      "metadata": {
        "colab": {
          "base_uri": "https://localhost:8080/"
        },
        "id": "dSwGzLVMAQHO",
        "outputId": "167dbd2e-de23-4020-f328-86446702fc4d"
      },
      "execution_count": 10,
      "outputs": [
        {
          "output_type": "execute_result",
          "data": {
            "text/plain": [
              "(300,)"
            ]
          },
          "metadata": {},
          "execution_count": 10
        }
      ]
    },
    {
      "cell_type": "markdown",
      "source": [
        "### **2. Training the Model for Word Vectors**"
      ],
      "metadata": {
        "id": "IsHrcsi7BtaO"
      }
    },
    {
      "cell_type": "code",
      "source": [
        "!git clone https://github.com/AshishJangra27/datasets.git"
      ],
      "metadata": {
        "colab": {
          "base_uri": "https://localhost:8080/"
        },
        "id": "F_UwW2xjBouY",
        "outputId": "f084568f-b67e-434a-da2f-23b93a96ee2b"
      },
      "execution_count": 11,
      "outputs": [
        {
          "output_type": "stream",
          "name": "stdout",
          "text": [
            "Cloning into 'datasets'...\n",
            "remote: Enumerating objects: 306, done.\u001b[K\n",
            "remote: Counting objects: 100% (71/71), done.\u001b[K\n",
            "remote: Compressing objects: 100% (61/61), done.\u001b[K\n",
            "remote: Total 306 (delta 11), reused 54 (delta 9), pack-reused 235\u001b[K\n",
            "Receiving objects: 100% (306/306), 278.61 MiB | 17.66 MiB/s, done.\n",
            "Resolving deltas: 100% (137/137), done.\n",
            "Updating files: 100% (219/219), done.\n"
          ]
        }
      ]
    },
    {
      "cell_type": "code",
      "source": [
        "# Used to train the word vectors\n",
        "model = fasttext.train_unsupervised(input='datasets/Sherlock/script.txt',model='cbow')"
      ],
      "metadata": {
        "id": "yLRfjZbpCiDH"
      },
      "execution_count": 13,
      "outputs": []
    },
    {
      "cell_type": "code",
      "source": [
        "model.get_nearest_neighbors('head')\n",
        "model.save_model('sherlock_cbow.bin')"
      ],
      "metadata": {
        "id": "Q3JdulcsC89U"
      },
      "execution_count": 17,
      "outputs": []
    },
    {
      "cell_type": "markdown",
      "source": [
        "### **Classification**"
      ],
      "metadata": {
        "id": "mHxmm7f-DptS"
      }
    },
    {
      "cell_type": "code",
      "source": [
        "# Training the model on our own dataset\n",
        "model = fasttext.train_supervised('datasets/Cooking Labels/cooking.txt')"
      ],
      "metadata": {
        "id": "oUdCWdmQD0WM"
      },
      "execution_count": 21,
      "outputs": []
    },
    {
      "cell_type": "code",
      "source": [
        "model.predict('Which baking dish is best to bake a banana bread?',k=5)"
      ],
      "metadata": {
        "colab": {
          "base_uri": "https://localhost:8080/"
        },
        "id": "qhr15P5rEQ9q",
        "outputId": "b0f30cf4-e070-424e-f469-699379c5c63f"
      },
      "execution_count": 22,
      "outputs": [
        {
          "output_type": "execute_result",
          "data": {
            "text/plain": [
              "(('__label__baking',\n",
              "  '__label__bread',\n",
              "  '__label__equipment',\n",
              "  '__label__substitutions',\n",
              "  '__label__food-safety'),\n",
              " array([0.09175542, 0.06673775, 0.02977801, 0.02658248, 0.02214271]))"
            ]
          },
          "metadata": {},
          "execution_count": 22
        }
      ]
    },
    {
      "cell_type": "code",
      "source": [
        "model.predict('How to heat up already baked french bread in oven to get a crispy crust',k=5)"
      ],
      "metadata": {
        "colab": {
          "base_uri": "https://localhost:8080/"
        },
        "id": "SzT-E988EkL5",
        "outputId": "d18c43f9-f6b1-4474-dc8c-7817b7df39c4"
      },
      "execution_count": 23,
      "outputs": [
        {
          "output_type": "execute_result",
          "data": {
            "text/plain": [
              "(('__label__baking',\n",
              "  '__label__bread',\n",
              "  '__label__equipment',\n",
              "  '__label__food-safety',\n",
              "  '__label__substitutions'),\n",
              " array([0.07358671, 0.06571094, 0.02390938, 0.02058025, 0.01855015]))"
            ]
          },
          "metadata": {},
          "execution_count": 23
        }
      ]
    },
    {
      "cell_type": "code",
      "source": [],
      "metadata": {
        "id": "g2gJ2M6PE015"
      },
      "execution_count": null,
      "outputs": []
    }
  ]
}