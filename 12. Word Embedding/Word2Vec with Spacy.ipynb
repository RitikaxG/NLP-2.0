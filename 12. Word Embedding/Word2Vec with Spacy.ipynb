{
 "cells": [
  {
   "cell_type": "markdown",
   "id": "37e03b33",
   "metadata": {},
   "source": [
    "### Word2Vec with Spacy"
   ]
  },
  {
   "cell_type": "code",
   "execution_count": 35,
   "id": "38b25353",
   "metadata": {},
   "outputs": [],
   "source": [
    "import spacy\n",
    "import numpy as np\n",
    "import pandas as pd"
   ]
  },
  {
   "cell_type": "markdown",
   "id": "b797e7d3",
   "metadata": {},
   "source": [
    "### Loading the Pipeline"
   ]
  },
  {
   "cell_type": "code",
   "execution_count": 3,
   "id": "48b11c45",
   "metadata": {},
   "outputs": [],
   "source": [
    "nlp = spacy.load(\"en_core_web_lg\")"
   ]
  },
  {
   "cell_type": "markdown",
   "id": "5f897203",
   "metadata": {},
   "source": [
    "### Explore Word Vectors"
   ]
  },
  {
   "cell_type": "code",
   "execution_count": 8,
   "id": "85195faa",
   "metadata": {},
   "outputs": [
    {
     "name": "stdout",
     "output_type": "stream",
     "text": [
      "Vocab Size:  (300,)\n",
      "Word ID:     17545852598994811774\n"
     ]
    }
   ],
   "source": [
    "print(\"Vocab Size: \",nlp.vocab.vectors['car'].shape)\n",
    "print(\"Word ID:    \",nlp.vocab.strings['car'])"
   ]
  },
  {
   "cell_type": "markdown",
   "id": "eaa63d65",
   "metadata": {},
   "source": [
    "### Finding Similar Words"
   ]
  },
  {
   "cell_type": "code",
   "execution_count": 20,
   "id": "e9629176",
   "metadata": {},
   "outputs": [],
   "source": [
    "most_similar = nlp.vocab.vectors.most_similar(np.asarray([nlp.vocab.vectors[nlp.vocab.strings['car']]]),n=5)"
   ]
  },
  {
   "cell_type": "code",
   "execution_count": 24,
   "id": "bbda5ce1",
   "metadata": {},
   "outputs": [
    {
     "name": "stdout",
     "output_type": "stream",
     "text": [
      "        car         \n",
      "      vehicle       \n",
      "       truck        \n",
      "        cars        \n",
      "     motorbike      \n"
     ]
    }
   ],
   "source": [
    "for word in most_similar[0][0]:\n",
    "    print(nlp.vocab.strings[word].center(20))"
   ]
  },
  {
   "cell_type": "markdown",
   "id": "aabcd0ad",
   "metadata": {},
   "source": [
    "### Dealing with Sentences | Sentence Embedding"
   ]
  },
  {
   "cell_type": "code",
   "execution_count": 28,
   "id": "af510206",
   "metadata": {},
   "outputs": [
    {
     "data": {
      "text/plain": [
       "0.9456318530472728"
      ]
     },
     "execution_count": 28,
     "metadata": {},
     "output_type": "execute_result"
    }
   ],
   "source": [
    "doc1 = nlp('I lkie cricket')\n",
    "doc2 = nlp('I lkie football')\n",
    "doc1.similarity(doc2)"
   ]
  },
  {
   "cell_type": "markdown",
   "id": "323cee13",
   "metadata": {},
   "source": [
    "### OOV or Out Of Vocabulary"
   ]
  },
  {
   "cell_type": "code",
   "execution_count": 37,
   "id": "03836044",
   "metadata": {},
   "outputs": [
    {
     "data": {
      "text/html": [
       "<div>\n",
       "<style scoped>\n",
       "    .dataframe tbody tr th:only-of-type {\n",
       "        vertical-align: middle;\n",
       "    }\n",
       "\n",
       "    .dataframe tbody tr th {\n",
       "        vertical-align: top;\n",
       "    }\n",
       "\n",
       "    .dataframe thead th {\n",
       "        text-align: right;\n",
       "    }\n",
       "</style>\n",
       "<table border=\"1\" class=\"dataframe\">\n",
       "  <thead>\n",
       "    <tr style=\"text-align: right;\">\n",
       "      <th></th>\n",
       "      <th>Token</th>\n",
       "      <th>Vector</th>\n",
       "      <th>OOV</th>\n",
       "    </tr>\n",
       "  </thead>\n",
       "  <tbody>\n",
       "    <tr>\n",
       "      <th>0</th>\n",
       "      <td>Woow</td>\n",
       "      <td>False</td>\n",
       "      <td>True</td>\n",
       "    </tr>\n",
       "    <tr>\n",
       "      <th>1</th>\n",
       "      <td>the</td>\n",
       "      <td>True</td>\n",
       "      <td>False</td>\n",
       "    </tr>\n",
       "    <tr>\n",
       "      <th>2</th>\n",
       "      <td>weather</td>\n",
       "      <td>True</td>\n",
       "      <td>False</td>\n",
       "    </tr>\n",
       "    <tr>\n",
       "      <th>3</th>\n",
       "      <td>is</td>\n",
       "      <td>True</td>\n",
       "      <td>False</td>\n",
       "    </tr>\n",
       "    <tr>\n",
       "      <th>4</th>\n",
       "      <td>great</td>\n",
       "      <td>True</td>\n",
       "      <td>False</td>\n",
       "    </tr>\n",
       "  </tbody>\n",
       "</table>\n",
       "</div>"
      ],
      "text/plain": [
       "     Token  Vector    OOV\n",
       "0     Woow   False   True\n",
       "1      the    True  False\n",
       "2  weather    True  False\n",
       "3       is    True  False\n",
       "4    great    True  False"
      ]
     },
     "execution_count": 37,
     "metadata": {},
     "output_type": "execute_result"
    }
   ],
   "source": [
    "tokens = nlp(\"Woow the weather is great\")\n",
    "pd.DataFrame([(token.text, token.has_vector, token.is_oov) for token in tokens],columns=['Token','Vector','OOV'])"
   ]
  },
  {
   "cell_type": "code",
   "execution_count": null,
   "id": "4b3fcb2f",
   "metadata": {},
   "outputs": [],
   "source": []
  }
 ],
 "metadata": {
  "kernelspec": {
   "display_name": "Python 3 (ipykernel)",
   "language": "python",
   "name": "python3"
  },
  "language_info": {
   "codemirror_mode": {
    "name": "ipython",
    "version": 3
   },
   "file_extension": ".py",
   "mimetype": "text/x-python",
   "name": "python",
   "nbconvert_exporter": "python",
   "pygments_lexer": "ipython3",
   "version": "3.11.5"
  }
 },
 "nbformat": 4,
 "nbformat_minor": 5
}
