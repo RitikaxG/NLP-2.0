{
 "cells": [
  {
   "cell_type": "markdown",
   "id": "f112e020",
   "metadata": {},
   "source": [
    "### Word2Vec with Gensim"
   ]
  },
  {
   "cell_type": "markdown",
   "id": "cd3f8cc3",
   "metadata": {},
   "source": [
    "### 1. Importing the Libraries"
   ]
  },
  {
   "cell_type": "code",
   "execution_count": 8,
   "id": "1a3f791e",
   "metadata": {},
   "outputs": [],
   "source": [
    "import matplotlib.pyplot as plt\n",
    "from gensim.models import Word2Vec\n",
    "from sklearn.decomposition import PCA"
   ]
  },
  {
   "cell_type": "markdown",
   "id": "7e516bd9",
   "metadata": {},
   "source": [
    "### 2. Loading the Corpus"
   ]
  },
  {
   "cell_type": "code",
   "execution_count": 9,
   "id": "346a18eb",
   "metadata": {},
   "outputs": [],
   "source": [
    "sentences = [\n",
    "    ['human','interface','computer'],\n",
    "    ['survey','user','computer','system','response','time'],\n",
    "    ['eps','user','interface','system'],\n",
    "    ['system','human','system','eps'],\n",
    "    ['user','response','time'],\n",
    "    ['trees'],\n",
    "    ['graph','trees'],\n",
    "    ['graph','minors','trees'],\n",
    "    ['graph','minors','survey']\n",
    "]"
   ]
  },
  {
   "cell_type": "markdown",
   "id": "aa6f58d8",
   "metadata": {},
   "source": [
    "### Training the Word2Vec"
   ]
  },
  {
   "cell_type": "code",
   "execution_count": 10,
   "id": "cea27853",
   "metadata": {},
   "outputs": [],
   "source": [
    "model = Word2Vec(sentences=sentences,min_count=1,vector_size=10)"
   ]
  },
  {
   "cell_type": "code",
   "execution_count": 11,
   "id": "389861d6",
   "metadata": {},
   "outputs": [
    {
     "name": "stdout",
     "output_type": "stream",
     "text": [
      "[ 0.07311766  0.05070262  0.06757693  0.00762866  0.06350891 -0.03405366\n",
      " -0.00946401  0.05768573 -0.07521638 -0.03936104]\n"
     ]
    }
   ],
   "source": [
    "print(model.wv['trees'])"
   ]
  },
  {
   "cell_type": "code",
   "execution_count": 12,
   "id": "cfaa6cb9",
   "metadata": {},
   "outputs": [
    {
     "data": {
      "text/plain": [
       "-0.22643761"
      ]
     },
     "execution_count": 12,
     "metadata": {},
     "output_type": "execute_result"
    }
   ],
   "source": [
    "model.wv.similarity('human','computer')"
   ]
  },
  {
   "cell_type": "code",
   "execution_count": 13,
   "id": "c8e52a2c",
   "metadata": {},
   "outputs": [
    {
     "data": {
      "text/plain": [
       "[('eps', 0.2914133667945862),\n",
       " ('trees', 0.055418092757463455),\n",
       " ('minors', 0.04264765605330467),\n",
       " ('survey', -0.02176341786980629),\n",
       " ('interface', -0.15233564376831055),\n",
       " ('time', -0.19863173365592957),\n",
       " ('response', -0.217923104763031),\n",
       " ('human', -0.22643761336803436),\n",
       " ('user', -0.23134341835975647),\n",
       " ('graph', -0.5145737528800964)]"
      ]
     },
     "execution_count": 13,
     "metadata": {},
     "output_type": "execute_result"
    }
   ],
   "source": [
    "model.wv.most_similar('computer',topn=10)"
   ]
  },
  {
   "cell_type": "markdown",
   "id": "fc4dc8fb",
   "metadata": {},
   "source": [
    "### Performing PCA\n",
    "Implementing the algorithm to reduce the dimesion of vectors"
   ]
  },
  {
   "cell_type": "code",
   "execution_count": 14,
   "id": "4fafed10",
   "metadata": {},
   "outputs": [],
   "source": [
    "# Returns the word2vec of each word\n",
    "vectors = [model.wv[word] for word in model.wv.index_to_key]\n",
    "\n",
    "pca = PCA(n_components=2)\n",
    "final_vec = pca.fit_transform(vectors)"
   ]
  },
  {
   "cell_type": "markdown",
   "id": "07fc8665",
   "metadata": {},
   "source": [
    "### Visualising the Word Vectors"
   ]
  },
  {
   "cell_type": "code",
   "execution_count": 15,
   "id": "fd3428f7",
   "metadata": {},
   "outputs": [
    {
     "data": {
      "text/plain": [
       "array([-0.1396022 , -0.13269827, -0.05824892, -0.01931258,  0.16813121,\n",
       "        0.11313036,  0.0522277 , -0.03354481, -0.01486887,  0.12342414,\n",
       "       -0.02519465, -0.03344312])"
      ]
     },
     "execution_count": 15,
     "metadata": {},
     "output_type": "execute_result"
    }
   ],
   "source": [
    "final_vec[:,0]"
   ]
  },
  {
   "cell_type": "code",
   "execution_count": 16,
   "id": "a9839a48",
   "metadata": {},
   "outputs": [
    {
     "data": {
      "text/plain": [
       "array([ 0.07318126,  0.0348894 , -0.0383951 , -0.11639848,  0.11816454,\n",
       "       -0.03807047,  0.03809367, -0.10207651, -0.01355424, -0.05953071,\n",
       "        0.00019733,  0.10349932])"
      ]
     },
     "execution_count": 16,
     "metadata": {},
     "output_type": "execute_result"
    }
   ],
   "source": [
    "final_vec[:,1]"
   ]
  },
  {
   "cell_type": "code",
   "execution_count": 21,
   "id": "aa6e999d",
   "metadata": {},
   "outputs": [
    {
     "data": {
      "image/png": "[encoded data removed]",
      "text/plain": [
       "<Figure size 640x480 with 1 Axes>"
      ]
     },
     "metadata": {},
     "output_type": "display_data"
    }
   ],
   "source": [
    "# No of points plotted = No of words in Word2Vec model\n",
    "plt.scatter(final_vec[:,0],final_vec[:,1])\n",
    "words = model.wv.index_to_key\n",
    "for i,word in enumerate(words):\n",
    "    plt.annotate(word,xy = (final_vec[i][0],final_vec[i][1]))\n",
    "plt.show()"
   ]
  },
  {
   "cell_type": "code",
   "execution_count": null,
   "id": "63a99f50",
   "metadata": {},
   "outputs": [],
   "source": []
  }
 ],
 "metadata": {
  "kernelspec": {
   "display_name": "Python 3 (ipykernel)",
   "language": "python",
   "name": "python3"
  },
  "language_info": {
   "codemirror_mode": {
    "name": "ipython",
    "version": 3
   },
   "file_extension": ".py",
   "mimetype": "text/x-python",
   "name": "python",
   "nbconvert_exporter": "python",
   "pygments_lexer": "ipython3",
   "version": "3.11.5"
  }
 },
 "nbformat": 4,
 "nbformat_minor": 5
}
