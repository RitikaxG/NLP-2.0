{
  "nbformat": 4,
  "nbformat_minor": 0,
  "metadata": {
    "colab": {
      "provenance": [],
      "gpuType": "T4"
    },
    "kernelspec": {
      "name": "python3",
      "display_name": "Python 3"
    },
    "language_info": {
      "name": "python"
    },
    "accelerator": "GPU"
  },
  "cells": [
    {
      "cell_type": "code",
      "execution_count": 1,
      "metadata": {
        "colab": {
          "base_uri": "https://localhost:8080/"
        },
        "id": "W4VYPXtXVNAE",
        "outputId": "10ea7453-350c-4bd6-eb92-a57f53a21940"
      },
      "outputs": [
        {
          "output_type": "execute_result",
          "data": {
            "text/plain": [
              "('glove.zip', <http.client.HTTPMessage at 0x7d3603eb06d0>)"
            ]
          },
          "metadata": {},
          "execution_count": 1
        }
      ],
      "source": [
        "import zipfile\n",
        "import urllib.request\n",
        "urllib.request.urlretrieve('http://nlp.stanford.edu/data/glove.6B.zip', 'glove.zip')"
      ]
    },
    {
      "cell_type": "code",
      "source": [
        "with zipfile.ZipFile('/content/glove.zip','r') as zip_ref:\n",
        "    zip_ref.extractall('/content/glove')"
      ],
      "metadata": {
        "id": "CnAZW0BDVThq"
      },
      "execution_count": 2,
      "outputs": []
    },
    {
      "cell_type": "code",
      "source": [
        "# Convert GloveVec into Word2Vec\n",
        "# Create glove.6B.300d.txt file in word2Vec format\n",
        "from gensim.scripts.glove2word2vec import glove2word2vec\n",
        "glove_input_file = 'glove/glove.6B.300d.txt'\n",
        "word2vec_output_file = 'glove.6B.300d.txt'\n",
        "\n",
        "glove2word2vec(glove_input_file,word2vec_output_file)"
      ],
      "metadata": {
        "colab": {
          "base_uri": "https://localhost:8080/"
        },
        "id": "cSucqdQDVeWY",
        "outputId": "f237800a-fddf-442f-80e5-3e6b2dbfeaf7"
      },
      "execution_count": 3,
      "outputs": [
        {
          "output_type": "stream",
          "name": "stderr",
          "text": [
            "<ipython-input-3-56b7e4ab9a07>:7: DeprecationWarning: Call to deprecated `glove2word2vec` (KeyedVectors.load_word2vec_format(.., binary=False, no_header=True) loads GLoVE text vectors.).\n",
            "  glove2word2vec(glove_input_file,word2vec_output_file)\n"
          ]
        },
        {
          "output_type": "execute_result",
          "data": {
            "text/plain": [
              "(400000, 300)"
            ]
          },
          "metadata": {},
          "execution_count": 3
        }
      ]
    },
    {
      "cell_type": "code",
      "source": [
        "from gensim.models import KeyedVectors\n",
        "model = KeyedVectors.load_word2vec_format('glove.6B.300d.txt',binary=False)"
      ],
      "metadata": {
        "id": "AEDQsI65Vjit"
      },
      "execution_count": 4,
      "outputs": []
    },
    {
      "cell_type": "code",
      "source": [
        "model.most_similar('india')"
      ],
      "metadata": {
        "colab": {
          "base_uri": "https://localhost:8080/"
        },
        "id": "qx_xQtJ6VoFy",
        "outputId": "e3c47065-4eff-4963-f5a2-224316f19248"
      },
      "execution_count": 5,
      "outputs": [
        {
          "output_type": "execute_result",
          "data": {
            "text/plain": [
              "[('indian', 0.7355823516845703),\n",
              " ('pakistan', 0.7285579442977905),\n",
              " ('delhi', 0.6846906542778015),\n",
              " ('bangladesh', 0.6203192472457886),\n",
              " ('lanka', 0.6095174551010132),\n",
              " ('sri', 0.6011614203453064),\n",
              " ('kashmir', 0.5746493935585022),\n",
              " ('nepal', 0.5421023964881897),\n",
              " ('pradesh', 0.5405810475349426),\n",
              " ('maharashtra', 0.518537700176239)]"
            ]
          },
          "metadata": {},
          "execution_count": 5
        }
      ]
    },
    {
      "cell_type": "code",
      "source": [
        "model.most_similar(positive = ['women','king'],negative=['man'],topn=1)"
      ],
      "metadata": {
        "colab": {
          "base_uri": "https://localhost:8080/"
        },
        "id": "fcu0LBf2VrKl",
        "outputId": "5fe7b198-83c5-4c24-a87b-eaf883384244"
      },
      "execution_count": 6,
      "outputs": [
        {
          "output_type": "execute_result",
          "data": {
            "text/plain": [
              "[('queen', 0.484937459230423)]"
            ]
          },
          "metadata": {},
          "execution_count": 6
        }
      ]
    },
    {
      "cell_type": "code",
      "source": [],
      "metadata": {
        "id": "tdH5SvcQVu1U"
      },
      "execution_count": null,
      "outputs": []
    }
  ]
}