{
 "cells": [
  {
   "cell_type": "markdown",
   "id": "3d945a15",
   "metadata": {},
   "source": [
    "### Pre-Trained Word2Vec with Gensim"
   ]
  },
  {
   "cell_type": "markdown",
   "id": "2cea2bdb",
   "metadata": {},
   "source": [
    "#### 1. Importing the libraries"
   ]
  },
  {
   "cell_type": "code",
   "execution_count": 5,
   "id": "7b964d6f",
   "metadata": {},
   "outputs": [],
   "source": [
    "import gensim\n",
    "import gensim.downloader as api"
   ]
  },
  {
   "cell_type": "code",
   "execution_count": 6,
   "id": "c70e1f80",
   "metadata": {},
   "outputs": [
    {
     "data": {
      "text/plain": [
       "dict_keys(['fasttext-wiki-news-subwords-300', 'conceptnet-numberbatch-17-06-300', 'word2vec-ruscorpora-300', 'word2vec-google-news-300', 'glove-wiki-gigaword-50', 'glove-wiki-gigaword-100', 'glove-wiki-gigaword-200', 'glove-wiki-gigaword-300', 'glove-twitter-25', 'glove-twitter-50', 'glove-twitter-100', 'glove-twitter-200', '__testing_word2vec-matrix-synopsis'])"
      ]
     },
     "execution_count": 6,
     "metadata": {},
     "output_type": "execute_result"
    }
   ],
   "source": [
    "# Returns list of models\n",
    "gensim.downloader.info()['models'].keys()"
   ]
  },
  {
   "cell_type": "code",
   "execution_count": 7,
   "id": "4a6d598a",
   "metadata": {},
   "outputs": [],
   "source": [
    "# gigaword-50 would return vector of size 50\n",
    "word_vectors = api.load('glove-wiki-gigaword-50')"
   ]
  },
  {
   "cell_type": "code",
   "execution_count": 8,
   "id": "a1d5e965",
   "metadata": {},
   "outputs": [
    {
     "data": {
      "text/plain": [
       "[('lahore', 0.8467041254043579),\n",
       " ('india', 0.8142766356468201),\n",
       " ('mumbai', 0.7971944212913513),\n",
       " ('hyderabad', 0.7934017181396484),\n",
       " ('ahmedabad', 0.7928405404090881),\n",
       " ('karachi', 0.7810368537902832),\n",
       " ('islamabad', 0.7805114388465881),\n",
       " ('bangalore', 0.778948187828064),\n",
       " ('dhaka', 0.7751164436340332),\n",
       " ('pakistan', 0.7591161727905273)]"
      ]
     },
     "execution_count": 8,
     "metadata": {},
     "output_type": "execute_result"
    }
   ],
   "source": [
    "word_vectors.most_similar('delhi')"
   ]
  },
  {
   "cell_type": "code",
   "execution_count": 9,
   "id": "bd693dc8",
   "metadata": {},
   "outputs": [
    {
     "data": {
      "text/plain": [
       "[('occupation', 0.8530305027961731), ('invasion', 0.8487672805786133)]"
      ]
     },
     "execution_count": 9,
     "metadata": {},
     "output_type": "execute_result"
    }
   ],
   "source": [
    "word_vectors.most_similar('war')[:2]"
   ]
  },
  {
   "cell_type": "code",
   "execution_count": 10,
   "id": "b4d7dfbf",
   "metadata": {},
   "outputs": [
    {
     "data": {
      "text/plain": [
       "(50,)"
      ]
     },
     "execution_count": 10,
     "metadata": {},
     "output_type": "execute_result"
    }
   ],
   "source": [
    "word_vectors['delhi'].shape"
   ]
  },
  {
   "cell_type": "code",
   "execution_count": 12,
   "id": "d6594777",
   "metadata": {},
   "outputs": [],
   "source": [
    "vec = word_vectors['king'] - word_vectors['man'] + word_vectors['woman']"
   ]
  },
  {
   "cell_type": "code",
   "execution_count": 13,
   "id": "48752ff1",
   "metadata": {},
   "outputs": [
    {
     "data": {
      "text/plain": [
       "[('king', 0.8859835863113403),\n",
       " ('queen', 0.8609582185745239),\n",
       " ('daughter', 0.7684512138366699),\n",
       " ('prince', 0.7640699744224548),\n",
       " ('throne', 0.7634971141815186),\n",
       " ('princess', 0.7512729167938232),\n",
       " ('elizabeth', 0.7506489157676697),\n",
       " ('father', 0.7314496636390686),\n",
       " ('kingdom', 0.7296158671379089),\n",
       " ('mother', 0.7280011177062988)]"
      ]
     },
     "execution_count": 13,
     "metadata": {},
     "output_type": "execute_result"
    }
   ],
   "source": [
    "# Finding the most similar word to this vector\n",
    "word_vectors.most_similar(vec)"
   ]
  },
  {
   "cell_type": "code",
   "execution_count": 16,
   "id": "2d506993",
   "metadata": {},
   "outputs": [],
   "source": [
    "vec = word_vectors['paris'] - word_vectors['france'] + word_vectors['india']"
   ]
  },
  {
   "cell_type": "code",
   "execution_count": 18,
   "id": "a5731203",
   "metadata": {},
   "outputs": [
    {
     "data": {
      "text/plain": [
       "array([-0.09937996,  0.01185   , -0.27492   ,  0.66068995,  0.36886   ,\n",
       "       -0.90241   ,  0.19457999, -0.31734002, -0.07867998, -0.01241001,\n",
       "       -0.56605   , -0.26146007, -0.29163998, -0.14681   , -0.17964998,\n",
       "        0.97793996,  0.09361601,  1.2979    , -0.68771   ,  1.0594101 ,\n",
       "        2.794366  ,  1.20949   ,  0.03934   ,  0.42036995,  1.1226099 ,\n",
       "       -1.303     , -0.21407   , -0.72881   , -1.1875    , -0.09842002,\n",
       "        2.7264    ,  0.02617002,  0.41551995,  0.1645    ,  0.52852   ,\n",
       "       -0.05681995,  0.26004001, -0.138026  , -0.27408993,  1.08936   ,\n",
       "       -1.37429   , -0.02546299, -0.5786651 , -0.01324993,  0.03323599,\n",
       "        0.759575  , -0.38845003, -0.38669   ,  0.78634   , -1.1968501 ],\n",
       "      dtype=float32)"
      ]
     },
     "execution_count": 18,
     "metadata": {},
     "output_type": "execute_result"
    }
   ],
   "source": [
    "vec"
   ]
  },
  {
   "cell_type": "code",
   "execution_count": 17,
   "id": "a180efd9",
   "metadata": {},
   "outputs": [
    {
     "data": {
      "text/plain": [
       "(50,)"
      ]
     },
     "execution_count": 17,
     "metadata": {},
     "output_type": "execute_result"
    }
   ],
   "source": [
    "word_vectors['mumbai'].shape"
   ]
  },
  {
   "cell_type": "code",
   "execution_count": null,
   "id": "09d66311",
   "metadata": {},
   "outputs": [],
   "source": []
  }
 ],
 "metadata": {
  "kernelspec": {
   "display_name": "Python 3 (ipykernel)",
   "language": "python",
   "name": "python3"
  },
  "language_info": {
   "codemirror_mode": {
    "name": "ipython",
    "version": 3
   },
   "file_extension": ".py",
   "mimetype": "text/x-python",
   "name": "python",
   "nbconvert_exporter": "python",
   "pygments_lexer": "ipython3",
   "version": "3.11.5"
  }
 },
 "nbformat": 4,
 "nbformat_minor": 5
}
