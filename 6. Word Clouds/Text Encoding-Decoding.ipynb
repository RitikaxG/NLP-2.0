{
 "cells": [
  {
   "cell_type": "code",
   "execution_count": 2,
   "id": "537bbf49",
   "metadata": {},
   "outputs": [],
   "source": [
    "from nltk.tokenize import word_tokenize, sent_tokenize\n",
    "from nltk.corpus import stopwords\n",
    "\n",
    "corpus =  '''\n",
    "A large language model (LLM) is a language model notable for its ability to achieve general-purpose language generation and understanding. LLMs acquire these abilities by learning statistical relationships from text documents during a computationally intensive self-supervised and semi-supervised training process.[1] LLMs are artificial neural networks, the largest and most capable of which are built with a transformer-based architecture. Some recent implementations are based on other architectures, such as recurrent neural network variants and Mamba (a state space model).[2][3][4]\n",
    "LLMs can be used for text generation, a form of generative AI, by taking an input text and repeatedly predicting the next token or word.[5] Up to 2020, fine tuning was the only way a model could be adapted to be able to accomplish specific tasks. Larger sized models, such as GPT-3, however, can be prompt-engineered to achieve similar results.[6] They are thought to acquire knowledge about syntax, semantics and \"ontology\" inherent in human language corpora, but also inaccuracies and biases present in the corpora.[7]\n",
    "Some notable LLMs are OpenAI's GPT series of models (e.g., GPT-3.5 and GPT-4, used in ChatGPT and Microsoft Copilot), Google's PaLM and Gemini (the latter of which is currently used in the chatbot of the same name), Meta's LLaMA family of open-source models, and Anthropic's Claude models.\n",
    "'''"
   ]
  },
  {
   "cell_type": "markdown",
   "id": "505a81b2",
   "metadata": {},
   "source": [
    "### Stop Word Removal"
   ]
  },
  {
   "cell_type": "code",
   "execution_count": 3,
   "id": "65fbeb04",
   "metadata": {},
   "outputs": [],
   "source": [
    "words = []\n",
    "for word in word_tokenize(corpus):\n",
    "    if(word.lower() not in stopwords.words('english')) and (len(word)>=2):\n",
    "        words.append(word.lower())"
   ]
  },
  {
   "cell_type": "markdown",
   "id": "3241ee97",
   "metadata": {},
   "source": [
    "### Creating Vocab"
   ]
  },
  {
   "cell_type": "code",
   "execution_count": 5,
   "id": "7be371af",
   "metadata": {},
   "outputs": [
    {
     "data": {
      "text/plain": [
       "108"
      ]
     },
     "execution_count": 5,
     "metadata": {},
     "output_type": "execute_result"
    }
   ],
   "source": [
    "vocab = list(set(words))\n",
    "len(vocab)"
   ]
  },
  {
   "cell_type": "markdown",
   "id": "8f547d7a",
   "metadata": {},
   "source": [
    "### Creating Encoders and Decoders\n",
    "* Create a dictionary having info about which word represent which number."
   ]
  },
  {
   "cell_type": "code",
   "execution_count": 14,
   "id": "307f23d3",
   "metadata": {},
   "outputs": [],
   "source": [
    "num = 1\n",
    "word_to_num = {}\n",
    "num_to_word = {}\n",
    "for word in vocab:\n",
    "    word_to_num[word] = num\n",
    "    num_to_word[num] = word\n",
    "    num += 1"
   ]
  },
  {
   "cell_type": "code",
   "execution_count": 15,
   "id": "85f30500",
   "metadata": {},
   "outputs": [
    {
     "data": {
      "text/plain": [
       "4"
      ]
     },
     "execution_count": 15,
     "metadata": {},
     "output_type": "execute_result"
    }
   ],
   "source": [
    "word_to_num['gemini']"
   ]
  },
  {
   "cell_type": "code",
   "execution_count": 17,
   "id": "e9f8776a",
   "metadata": {},
   "outputs": [
    {
     "data": {
      "text/plain": [
       "'gemini'"
      ]
     },
     "execution_count": 17,
     "metadata": {},
     "output_type": "execute_result"
    }
   ],
   "source": [
    "num_to_word[4]"
   ]
  },
  {
   "cell_type": "markdown",
   "id": "3bc2631b",
   "metadata": {},
   "source": [
    "### Encoding Sentences"
   ]
  },
  {
   "cell_type": "code",
   "execution_count": 34,
   "id": "2f852b0b",
   "metadata": {},
   "outputs": [
    {
     "name": "stdout",
     "output_type": "stream",
     "text": [
      "large language model LLM language model notable ability achieve general-purpose language generation understanding \n",
      "[9, 25, 41, 65, 25, 41, 102, 17, 34, 82, 25, 28, 58]\n",
      "LLMs acquire abilities learning statistical relationships text documents computationally intensive self-supervised semi-supervised training process \n",
      "[53, 105, 108, 99, 98, 3, 10, 8, 97, 36, 38, 78, 5, 79]\n",
      "LLMs artificial neural networks largest capable built transformer-based architecture \n",
      "[53, 2, 48, 106, 54, 43, 73, 32, 20]\n",
      "recent implementations based architectures recurrent neural network variants Mamba state space model \n",
      "[30, 42, 12, 66, 14, 48, 72, 71, 74, 96, 91, 41]\n",
      "LLMs used text generation form generative AI taking input text repeatedly predicting next token word \n",
      "[53, 90, 10, 28, 49, 15, 75, 63, 57, 10, 77, 81, 39, 21, 1]\n",
      "2020 fine tuning way model could adapted able accomplish specific tasks \n",
      "[46, 87, 47, 84, 41, 33, 101, 83, 92, 23, 31]\n",
      "Larger sized models GPT-3 however prompt-engineered achieve similar results \n",
      "[16, 100, 29, 95, 67, 11, 34, 86, 62]\n",
      "thought acquire knowledge syntax semantics `` ontology '' inherent human language corpora also inaccuracies biases present corpora \n",
      "[93, 105, 85, 56, 6, 45, 55, 40, 37, 51, 25, 68, 27, 94, 59, 26, 68]\n",
      "notable LLMs OpenAI 's GPT series models e.g. GPT-3.5 GPT-4 used ChatGPT Microsoft Copilot Google 's PaLM Gemini latter currently used chatbot name Meta 's LLaMA family open-source models Anthropic 's Claude models \n",
      "[102, 53, 103, 18, 60, 70, 29, 50, 64, 24, 90, 76, 22, 61, 107, 18, 80, 4, 35, 13, 90, 104, 89, 69, 18, 44, 19, 88, 29, 7, 18, 52, 29]\n"
     ]
    }
   ],
   "source": [
    "# Taking each sentence and passing it through word tokenizer\n",
    "data = []\n",
    "for sent in sent_tokenize(corpus):\n",
    "    temp = []\n",
    "    for word in word_tokenize(sent):\n",
    "        if(word.lower() not in stopwords.words('english')) and(len(word) >= 2):\n",
    "            print(word,end=' ')\n",
    "            temp.append(word_to_num[word.lower()])\n",
    "    print()\n",
    "    print(temp)\n",
    "    \n",
    "    data.append(temp)"
   ]
  },
  {
   "cell_type": "markdown",
   "id": "f7c39038",
   "metadata": {},
   "source": [
    "### Decoding Sentences"
   ]
  },
  {
   "cell_type": "code",
   "execution_count": 38,
   "id": "5b4f1a3d",
   "metadata": {},
   "outputs": [
    {
     "name": "stdout",
     "output_type": "stream",
     "text": [
      "large language model llm language model notable ability achieve general-purpose language generation understanding \n",
      "llms acquire abilities learning statistical relationships text documents computationally intensive self-supervised semi-supervised training process \n",
      "llms artificial neural networks largest capable built transformer-based architecture \n",
      "recent implementations based architectures recurrent neural network variants mamba state space model \n",
      "llms used text generation form generative ai taking input text repeatedly predicting next token word \n",
      "2020 fine tuning way model could adapted able accomplish specific tasks \n",
      "larger sized models gpt-3 however prompt-engineered achieve similar results \n",
      "thought acquire knowledge syntax semantics `` ontology '' inherent human language corpora also inaccuracies biases present corpora \n",
      "notable llms openai 's gpt series models e.g. gpt-3.5 gpt-4 used chatgpt microsoft copilot google 's palm gemini latter currently used chatbot name meta 's llama family open-source models anthropic 's claude models \n"
     ]
    }
   ],
   "source": [
    "for sent in data:\n",
    "    for word in sent:\n",
    "        print(num_to_word[word],end= ' ')\n",
    "    print()"
   ]
  },
  {
   "cell_type": "code",
   "execution_count": null,
   "id": "2ab3f976",
   "metadata": {},
   "outputs": [],
   "source": []
  }
 ],
 "metadata": {
  "kernelspec": {
   "display_name": "Python 3 (ipykernel)",
   "language": "python",
   "name": "python3"
  },
  "language_info": {
   "codemirror_mode": {
    "name": "ipython",
    "version": 3
   },
   "file_extension": ".py",
   "mimetype": "text/x-python",
   "name": "python",
   "nbconvert_exporter": "python",
   "pygments_lexer": "ipython3",
   "version": "3.11.5"
  }
 },
 "nbformat": 4,
 "nbformat_minor": 5
}
