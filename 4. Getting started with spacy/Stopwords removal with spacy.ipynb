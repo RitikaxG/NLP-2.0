{
 "cells": [
  {
   "cell_type": "code",
   "execution_count": 4,
   "id": "a528b6d7",
   "metadata": {},
   "outputs": [],
   "source": [
    "import spacy\n",
    "nlp = spacy.load('en_core_web_sm')"
   ]
  },
  {
   "cell_type": "code",
   "execution_count": 6,
   "id": "cebadc17",
   "metadata": {},
   "outputs": [
    {
     "data": {
      "text/plain": [
       "<spacy.lang.en.English at 0x1655886d0>"
      ]
     },
     "execution_count": 6,
     "metadata": {},
     "output_type": "execute_result"
    }
   ],
   "source": [
    "nlp"
   ]
  },
  {
   "cell_type": "code",
   "execution_count": 8,
   "id": "4c4f0f31",
   "metadata": {},
   "outputs": [
    {
     "data": {
      "text/plain": [
       "326"
      ]
     },
     "execution_count": 8,
     "metadata": {},
     "output_type": "execute_result"
    }
   ],
   "source": [
    "# Stop words: Even after removing such words the meaning doesn't change\n",
    "# List of all stopwords\n",
    "len(nlp.Defaults.stop_words)"
   ]
  },
  {
   "cell_type": "code",
   "execution_count": 11,
   "id": "9ce8f432",
   "metadata": {},
   "outputs": [
    {
     "data": {
      "text/plain": [
       "True"
      ]
     },
     "execution_count": 11,
     "metadata": {},
     "output_type": "execute_result"
    }
   ],
   "source": [
    "# Check if the word is a stopword or not\n",
    "nlp.vocab['is'].is_stop"
   ]
  },
  {
   "cell_type": "markdown",
   "id": "1e594824",
   "metadata": {},
   "source": [
    "### 1.  Adding custom words into the list of stopwords"
   ]
  },
  {
   "cell_type": "code",
   "execution_count": 15,
   "id": "e580368d",
   "metadata": {},
   "outputs": [],
   "source": [
    "# Returns set of all stopwords : cause set contains only unique elements\n",
    "nlp.Defaults.stop_words.add('i.e')"
   ]
  },
  {
   "cell_type": "code",
   "execution_count": 17,
   "id": "3a611683",
   "metadata": {},
   "outputs": [],
   "source": [
    "nlp.vocab['i.e'].is_stop = True"
   ]
  },
  {
   "cell_type": "code",
   "execution_count": 18,
   "id": "9bea3fff",
   "metadata": {},
   "outputs": [
    {
     "data": {
      "text/plain": [
       "327"
      ]
     },
     "execution_count": 18,
     "metadata": {},
     "output_type": "execute_result"
    }
   ],
   "source": [
    "len(nlp.Defaults.stop_words)"
   ]
  },
  {
   "cell_type": "markdown",
   "id": "7fa87d8a",
   "metadata": {},
   "source": [
    "### 2. Removing custom words from the list of stopwords"
   ]
  },
  {
   "cell_type": "code",
   "execution_count": 19,
   "id": "a04c2f1b",
   "metadata": {},
   "outputs": [
    {
     "data": {
      "text/plain": [
       "True"
      ]
     },
     "execution_count": 19,
     "metadata": {},
     "output_type": "execute_result"
    }
   ],
   "source": [
    "nlp.vocab['i.e'].is_stop "
   ]
  },
  {
   "cell_type": "code",
   "execution_count": 20,
   "id": "76677bec",
   "metadata": {},
   "outputs": [],
   "source": [
    "nlp.Defaults.stop_words.remove('i.e')\n",
    "nlp.vocab['i.e'].is_stop = False"
   ]
  },
  {
   "cell_type": "code",
   "execution_count": 21,
   "id": "a5526fdb",
   "metadata": {},
   "outputs": [
    {
     "data": {
      "text/plain": [
       "False"
      ]
     },
     "execution_count": 21,
     "metadata": {},
     "output_type": "execute_result"
    }
   ],
   "source": [
    "nlp.vocab['i.e'].is_stop "
   ]
  },
  {
   "cell_type": "markdown",
   "id": "899c19c6",
   "metadata": {},
   "source": [
    "### Removing stopwords from corpus"
   ]
  },
  {
   "cell_type": "code",
   "execution_count": 5,
   "id": "dc8c62b1",
   "metadata": {},
   "outputs": [],
   "source": [
    "txt = '''\n",
    "Machine learning (ML) is a branch of artificial intelligence (AI) that enables computers to learn without being explicitly programmed. It involves developing algorithms that can identify patterns and make predictions based on data. Here's a breakdown of its key aspects:\n",
    "Core principles:\n",
    "Learning from data: ML algorithms are trained on large datasets, iteratively improving their ability to recognize patterns and make accurate predictions without needing explicit instructions.\n",
    "No explicit programming: Unlike traditional programming where every step is coded manually, ML algorithms learn on their own based on the data they're exposed to.\n",
    "\n",
    "Different types of learning: There are various types of ML, each tackling different problems. Some common examples include:\n",
    "Supervised learning: The model learns from labeled data, where each data point has a specific output associated with it. For example, an image classification model learns to identify objects in pictures by being trained on labeled images (like a picture of a cat labeled as \"cat\").\n",
    "Unsupervised learning: The model identifies patterns in unlabeled data, where no specific output is provided. For example, a recommendation system might analyze your past purchases to suggest similar items without needing explicit labels.\n",
    "Reinforcement learning: The model learns through trial and error, interacting with an environment and receiving rewards for positive actions. For example, an AI playing a game like chess learns by making moves, receiving rewards for winning, and refining its strategy based on these experiences.\n",
    "\n",
    "Applications of Machine Learning:\n",
    "\n",
    "ML is used in diverse fields, including:\n",
    "\n",
    "Image recognition: Identifying objects, faces, and scenes in images and videos (e.g., facial recognition, self-driving cars)\n",
    "Natural language processing: Understanding and generating human language (e.g., chatbots, machine translation)\n",
    "Recommendation systems: Suggesting products, movies, or music you might enjoy\n",
    "Fraud detection: Identifying suspicious financial activity\n",
    "Medical diagnosis: Assisting doctors in analyzing medical images and data'''"
   ]
  },
  {
   "cell_type": "code",
   "execution_count": 23,
   "id": "0e5357ac",
   "metadata": {},
   "outputs": [
    {
     "data": {
      "text/plain": [
       "'Machine learning (ML) is a branch of artificial intelligence (AI) that enables computers to learn without being explicitly programmed. It involves developing algorithms that can identify patterns and make predictions based on data. Here\\'s a breakdown of its key aspects:Core principles:Learning from data: ML algorithms are trained on large datasets, iteratively improving their ability to recognize patterns and make accurate predictions without needing explicit instructions.No explicit programming: Unlike traditional programming where every step is coded manually, ML algorithms learn on their own based on the data they\\'re exposed to.Different types of learning: There are various types of ML, each tackling different problems. Some common examples include:Supervised learning: The model learns from labeled data, where each data point has a specific output associated with it. For example, an image classification model learns to identify objects in pictures by being trained on labeled images (like a picture of a cat labeled as \"cat\").Unsupervised learning: The model identifies patterns in unlabeled data, where no specific output is provided. For example, a recommendation system might analyze your past purchases to suggest similar items without needing explicit labels.Reinforcement learning: The model learns through trial and error, interacting with an environment and receiving rewards for positive actions. For example, an AI playing a game like chess learns by making moves, receiving rewards for winning, and refining its strategy based on these experiences.Applications of Machine Learning:ML is used in diverse fields, including:Image recognition: Identifying objects, faces, and scenes in images and videos (e.g., facial recognition, self-driving cars)Natural language processing: Understanding and generating human language (e.g., chatbots, machine translation)Recommendation systems: Suggesting products, movies, or music you might enjoyFraud detection: Identifying suspicious financial activityMedical diagnosis: Assisting doctors in analyzing medical images and data'"
      ]
     },
     "execution_count": 23,
     "metadata": {},
     "output_type": "execute_result"
    }
   ],
   "source": [
    "txt = txt.replace('\\n','')\n",
    "txt.strip()"
   ]
  },
  {
   "cell_type": "code",
   "execution_count": 24,
   "id": "67a8c4d7",
   "metadata": {},
   "outputs": [],
   "source": [
    "corpus = nlp(txt)"
   ]
  },
  {
   "cell_type": "code",
   "execution_count": 25,
   "id": "4c7663dd",
   "metadata": {},
   "outputs": [
    {
     "data": {
      "text/plain": [
       "Machine learning (ML) is a branch of artificial intelligence (AI) that enables computers to learn without being explicitly programmed. It involves developing algorithms that can identify patterns and make predictions based on data. Here's a breakdown of its key aspects:Core principles:Learning from data: ML algorithms are trained on large datasets, iteratively improving their ability to recognize patterns and make accurate predictions without needing explicit instructions.No explicit programming: Unlike traditional programming where every step is coded manually, ML algorithms learn on their own based on the data they're exposed to.Different types of learning: There are various types of ML, each tackling different problems. Some common examples include:Supervised learning: The model learns from labeled data, where each data point has a specific output associated with it. For example, an image classification model learns to identify objects in pictures by being trained on labeled images (like a picture of a cat labeled as \"cat\").Unsupervised learning: The model identifies patterns in unlabeled data, where no specific output is provided. For example, a recommendation system might analyze your past purchases to suggest similar items without needing explicit labels.Reinforcement learning: The model learns through trial and error, interacting with an environment and receiving rewards for positive actions. For example, an AI playing a game like chess learns by making moves, receiving rewards for winning, and refining its strategy based on these experiences.Applications of Machine Learning:ML is used in diverse fields, including:Image recognition: Identifying objects, faces, and scenes in images and videos (e.g., facial recognition, self-driving cars)Natural language processing: Understanding and generating human language (e.g., chatbots, machine translation)Recommendation systems: Suggesting products, movies, or music you might enjoyFraud detection: Identifying suspicious financial activityMedical diagnosis: Assisting doctors in analyzing medical images and data"
      ]
     },
     "execution_count": 25,
     "metadata": {},
     "output_type": "execute_result"
    }
   ],
   "source": [
    "corpus"
   ]
  },
  {
   "cell_type": "markdown",
   "id": "62111b28",
   "metadata": {},
   "source": [
    "### 3.1 Finding stopwords from the corpus"
   ]
  },
  {
   "cell_type": "code",
   "execution_count": 37,
   "id": "53d17ecf",
   "metadata": {},
   "outputs": [
    {
     "name": "stdout",
     "output_type": "stream",
     "text": [
      "{'every', 'own', 'various', 'each', 'For', 'has', 'used', 'you', 'these', 'as', 'being', 'through', 'on', 'might', 'a', 'and', 'is', 'with', 'No', \"'re\", 'Some', 'an', 'or', 'that', 'for', 'to', 'The', 'it', 'make', 'no', 'from', 'your', 'their', 'Here', 'are', 'the', \"'s\", 'It', 'its', 'where', 'they', 'of', 'without', 'can', 'by', 'There', 'in'}\n",
      "47\n"
     ]
    }
   ],
   "source": [
    "stop_word = set()\n",
    "\n",
    "for token in corpus:\n",
    "    if token.is_stop:\n",
    "        stop_word.add(token.text)\n",
    "print(stop_word)\n",
    "print(len(stop_word))"
   ]
  },
  {
   "cell_type": "markdown",
   "id": "f9d94ea5",
   "metadata": {},
   "source": [
    "### 3.2 Finding the words that doesn't belong to stopwords"
   ]
  },
  {
   "cell_type": "code",
   "execution_count": 43,
   "id": "500b2290",
   "metadata": {},
   "outputs": [
    {
     "data": {
      "text/plain": [
       "'Machine learning ( ML ) branch artificial intelligence ( AI ) enables computers learn explicitly programmed . involves developing algorithms identify patterns predictions based data . breakdown key aspects : Core principles : Learning data : ML algorithms trained large datasets , iteratively improving ability recognize patterns accurate predictions needing explicit instructions . explicit programming : Unlike traditional programming step coded manually , ML algorithms learn based data exposed . Different types learning : types ML , tackling different problems . common examples include : Supervised learning : model learns labeled data , data point specific output associated . example , image classification model learns identify objects pictures trained labeled images ( like picture cat labeled \" cat\").Unsupervised learning : model identifies patterns unlabeled data , specific output provided . example , recommendation system analyze past purchases suggest similar items needing explicit labels . Reinforcement learning : model learns trial error , interacting environment receiving rewards positive actions . example , AI playing game like chess learns making moves , receiving rewards winning , refining strategy based experiences . Applications Machine Learning : ML diverse fields , including : Image recognition : Identifying objects , faces , scenes images videos ( e.g. , facial recognition , self - driving cars)Natural language processing : Understanding generating human language ( e.g. , chatbots , machine translation)Recommendation systems : Suggesting products , movies , music enjoyFraud detection : Identifying suspicious financial activityMedical diagnosis : Assisting doctors analyzing medical images data'"
      ]
     },
     "execution_count": 43,
     "metadata": {},
     "output_type": "execute_result"
    }
   ],
   "source": [
    "' '.join([token.text for token in corpus if not token.is_stop])"
   ]
  },
  {
   "cell_type": "code",
   "execution_count": null,
   "id": "519339b5",
   "metadata": {},
   "outputs": [],
   "source": []
  }
 ],
 "metadata": {
  "kernelspec": {
   "display_name": "Python 3 (ipykernel)",
   "language": "python",
   "name": "python3"
  },
  "language_info": {
   "codemirror_mode": {
    "name": "ipython",
    "version": 3
   },
   "file_extension": ".py",
   "mimetype": "text/x-python",
   "name": "python",
   "nbconvert_exporter": "python",
   "pygments_lexer": "ipython3",
   "version": "3.11.5"
  }
 },
 "nbformat": 4,
 "nbformat_minor": 5
}
