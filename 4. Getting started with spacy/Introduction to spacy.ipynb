{
 "cells": [
  {
   "cell_type": "code",
   "execution_count": 2,
   "id": "a8031354",
   "metadata": {},
   "outputs": [
    {
     "name": "stdout",
     "output_type": "stream",
     "text": [
      "I am looking for getting hired as a Data Science intern.\n"
     ]
    }
   ],
   "source": [
    "import spacy\n",
    "\n",
    "# Load the English language model with large word vectors\n",
    "nlp = spacy.load('en_core_web_lg')\n",
    "\n",
    "# Process the text string\n",
    "text = nlp('I am looking for getting hired as a Data Science intern.')\n",
    "\n",
    "# Print the processed document\n",
    "print(text)"
   ]
  },
  {
   "cell_type": "markdown",
   "id": "ff87c153",
   "metadata": {},
   "source": [
    "### 1. Tokenization"
   ]
  },
  {
   "cell_type": "code",
   "execution_count": 4,
   "id": "6d0890bb",
   "metadata": {},
   "outputs": [
    {
     "name": "stdout",
     "output_type": "stream",
     "text": [
      "I\n",
      "am\n",
      "looking\n",
      "for\n",
      "getting\n",
      "hired\n",
      "as\n",
      "a\n",
      "Data\n",
      "Science\n",
      "intern\n",
      ".\n"
     ]
    }
   ],
   "source": [
    "for token in text:\n",
    "    print(token.text)"
   ]
  },
  {
   "cell_type": "code",
   "execution_count": 5,
   "id": "5be68968",
   "metadata": {},
   "outputs": [],
   "source": [
    "text = nlp('The cost of IPhone in UK is 699$')"
   ]
  },
  {
   "cell_type": "code",
   "execution_count": 6,
   "id": "b4037ee5",
   "metadata": {},
   "outputs": [
    {
     "name": "stdout",
     "output_type": "stream",
     "text": [
      "The\n",
      "cost\n",
      "of\n",
      "IPhone\n",
      "in\n",
      "UK\n",
      "is\n",
      "699\n",
      "$\n"
     ]
    }
   ],
   "source": [
    "for token in text:\n",
    "    print(token.text)"
   ]
  },
  {
   "cell_type": "markdown",
   "id": "7c261c22",
   "metadata": {},
   "source": [
    "### POS(Parts of Speech)"
   ]
  },
  {
   "cell_type": "code",
   "execution_count": 8,
   "id": "d36136cd",
   "metadata": {},
   "outputs": [
    {
     "name": "stdout",
     "output_type": "stream",
     "text": [
      "The 90\n",
      "cost 92\n",
      "of 85\n",
      "IPhone 96\n",
      "in 85\n",
      "UK 96\n",
      "is 87\n",
      "699 93\n",
      "$ 99\n"
     ]
    }
   ],
   "source": [
    "for token in text:\n",
    "    print(token.text,token.pos)"
   ]
  },
  {
   "cell_type": "code",
   "execution_count": 7,
   "id": "ba1864fb",
   "metadata": {},
   "outputs": [
    {
     "name": "stdout",
     "output_type": "stream",
     "text": [
      "The DET\n",
      "cost NOUN\n",
      "of ADP\n",
      "IPhone PROPN\n",
      "in ADP\n",
      "UK PROPN\n",
      "is AUX\n",
      "699 NUM\n",
      "$ SYM\n"
     ]
    }
   ],
   "source": [
    "for token in text:\n",
    "    print(token.text,token.pos_)"
   ]
  },
  {
   "cell_type": "markdown",
   "id": "7fb6e627",
   "metadata": {},
   "source": [
    "### 3. Sentence Tokenization"
   ]
  },
  {
   "cell_type": "code",
   "execution_count": 11,
   "id": "e2403369",
   "metadata": {},
   "outputs": [],
   "source": [
    "txt = nlp(\"This is sentence one. This is second sentence. This is last one.Let's study now\")"
   ]
  },
  {
   "cell_type": "code",
   "execution_count": 13,
   "id": "95cc0597",
   "metadata": {},
   "outputs": [
    {
     "name": "stdout",
     "output_type": "stream",
     "text": [
      "This is sentence one.\n",
      "This is second sentence.\n",
      "This is last one.\n",
      "Let's study now\n"
     ]
    }
   ],
   "source": [
    "# Using spacy\n",
    "for sent in txt.sents:\n",
    "    print(sent)"
   ]
  },
  {
   "cell_type": "code",
   "execution_count": 14,
   "id": "f1154b0b",
   "metadata": {},
   "outputs": [
    {
     "data": {
      "text/plain": [
       "['This is sentence one.',\n",
       " 'This is second sentence.',\n",
       " \"This is last one.Let's study now\"]"
      ]
     },
     "execution_count": 14,
     "metadata": {},
     "output_type": "execute_result"
    }
   ],
   "source": [
    "# Using nltk\n",
    "import nltk\n",
    "from nltk.tokenize import sent_tokenize, word_tokenize\n",
    "\n",
    "sent_tokenize(\"This is sentence one. This is second sentence. This is last one.Let's study now\")"
   ]
  },
  {
   "cell_type": "code",
   "execution_count": 15,
   "id": "3d52ea26",
   "metadata": {},
   "outputs": [
    {
     "data": {
      "text/plain": [
       "['This is sentence one',\n",
       " ' This is second sentence',\n",
       " ' This is last one',\n",
       " \"Let's study now\"]"
      ]
     },
     "execution_count": 15,
     "metadata": {},
     "output_type": "execute_result"
    }
   ],
   "source": [
    "# Using our own logic\n",
    "\"This is sentence one. This is second sentence. This is last one.Let's study now\".split('.')"
   ]
  }
 ],
 "metadata": {
  "kernelspec": {
   "display_name": "Python 3 (ipykernel)",
   "language": "python",
   "name": "python3"
  },
  "language_info": {
   "codemirror_mode": {
    "name": "ipython",
    "version": 3
   },
   "file_extension": ".py",
   "mimetype": "text/x-python",
   "name": "python",
   "nbconvert_exporter": "python",
   "pygments_lexer": "ipython3",
   "version": "3.11.5"
  }
 },
 "nbformat": 4,
 "nbformat_minor": 5
}
