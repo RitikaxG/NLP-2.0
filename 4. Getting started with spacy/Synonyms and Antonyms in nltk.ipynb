{
 "cells": [
  {
   "cell_type": "code",
   "execution_count": 3,
   "id": "778ee9cd",
   "metadata": {},
   "outputs": [],
   "source": [
    "# wordnet : Dictionary of english words\n",
    "import nltk\n",
    "from nltk.corpus import wordnet"
   ]
  },
  {
   "cell_type": "code",
   "execution_count": 6,
   "id": "e0dc760c",
   "metadata": {},
   "outputs": [
    {
     "data": {
      "text/plain": [
       "'a written work or composition that has been published (printed on pages bound together)'"
      ]
     },
     "execution_count": 6,
     "metadata": {},
     "output_type": "execute_result"
    }
   ],
   "source": [
    "# synsets: Give synonyms\n",
    "syn = wordnet.synsets('Book') # syn returns synonym\n",
    "syn[0].definition() # Takes the 1st synonym and returns its definition"
   ]
  },
  {
   "cell_type": "markdown",
   "id": "6956f4bc",
   "metadata": {},
   "source": [
    "### 1. Printing the synonyms"
   ]
  },
  {
   "cell_type": "code",
   "execution_count": 12,
   "id": "8a341ec1",
   "metadata": {},
   "outputs": [
    {
     "name": "stdout",
     "output_type": "stream",
     "text": [
      "['car', 'auto', 'automobile', 'machine', 'motorcar', 'car', 'railcar', 'railway_car', 'railroad_car', 'car', 'gondola', 'car', 'elevator_car', 'cable_car', 'car']\n"
     ]
    }
   ],
   "source": [
    "synonyms = []\n",
    "for syn in wordnet.synsets('Car'):\n",
    "    for lemma in syn.lemmas():\n",
    "        synonyms.append(lemma.name())\n",
    "print(synonyms)"
   ]
  },
  {
   "cell_type": "markdown",
   "id": "0f9feff2",
   "metadata": {},
   "source": [
    "### 2. Printing the antonyms"
   ]
  },
  {
   "cell_type": "code",
   "execution_count": 25,
   "id": "2c79ed03",
   "metadata": {},
   "outputs": [
    {
     "name": "stdout",
     "output_type": "stream",
     "text": [
      "{'evilness', 'evil', 'ill', 'bad', 'badness'}\n"
     ]
    }
   ],
   "source": [
    "antonyms = []\n",
    "for ant in wordnet.synsets('Good'):\n",
    "    for lemma in ant.lemmas():\n",
    "        if lemma.antonyms():\n",
    "            antonyms.append(lemma.antonyms()[0].name())\n",
    "print(set(antonyms))"
   ]
  },
  {
   "cell_type": "code",
   "execution_count": null,
   "id": "46fd85f2",
   "metadata": {},
   "outputs": [],
   "source": []
  }
 ],
 "metadata": {
  "kernelspec": {
   "display_name": "Python 3 (ipykernel)",
   "language": "python",
   "name": "python3"
  },
  "language_info": {
   "codemirror_mode": {
    "name": "ipython",
    "version": 3
   },
   "file_extension": ".py",
   "mimetype": "text/x-python",
   "name": "python",
   "nbconvert_exporter": "python",
   "pygments_lexer": "ipython3",
   "version": "3.11.5"
  }
 },
 "nbformat": 4,
 "nbformat_minor": 5
}
