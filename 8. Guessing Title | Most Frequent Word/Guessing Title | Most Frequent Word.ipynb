{
 "cells": [
  {
   "cell_type": "code",
   "execution_count": 14,
   "id": "ad687b58",
   "metadata": {},
   "outputs": [],
   "source": [
    "from nltk.tokenize import word_tokenize, sent_tokenize\n",
    "from nltk.corpus import stopwords\n",
    "import pandas as pd \n",
    "\n",
    "corpus_1 = \"An advanced degree in law focusing on specialized legal knowledge and skills beyond a basic law degree.\"\n",
    "corpus_2 = \"A branch of artificial intelligence that enables systems to learn and improve from experience without being explicitly programmed.\"\n",
    "corpus_3 = \"The simulation of human intelligence processes by machines, especially computer systems, to perform tasks that typically require human intelligence.\"\n",
    "corpus_4 = \"Any nutritious substance that people or animals eat or drink to maintain life and growth, providing energy and nourishment for the body.\""
   ]
  },
  {
   "cell_type": "markdown",
   "id": "a0d3521d",
   "metadata": {},
   "source": [
    "#### Remove stopwords and Create Vocab"
   ]
  },
  {
   "cell_type": "code",
   "execution_count": 39,
   "id": "b6aad9a2",
   "metadata": {},
   "outputs": [],
   "source": [
    "words = []\n",
    "for word in word_tokenize(corpus_4):\n",
    "    if(word.lower() not in stopwords.words(\"english\")) and (len(word)>=2):\n",
    "        words.append(word.lower())\n",
    "        \n",
    "vocab = list(set(words))"
   ]
  },
  {
   "cell_type": "markdown",
   "id": "f032d684",
   "metadata": {},
   "source": [
    "#### Create Count Dictionary"
   ]
  },
  {
   "cell_type": "code",
   "execution_count": 40,
   "id": "eedd6332",
   "metadata": {},
   "outputs": [],
   "source": [
    "word_freq = {}\n",
    "for word in vocab:\n",
    "    word_freq[word] = 0"
   ]
  },
  {
   "cell_type": "markdown",
   "id": "40695bc1",
   "metadata": {},
   "source": [
    "#### Count the frequency of words"
   ]
  },
  {
   "cell_type": "code",
   "execution_count": 41,
   "id": "141b335d",
   "metadata": {},
   "outputs": [],
   "source": [
    "words = []\n",
    "for word in word_tokenize(corpus_4):\n",
    "    if(word.lower() not in stopwords.words(\"english\")) and (len(word)>=2):\n",
    "        words.append(word.lower())\n",
    "for word in words:\n",
    "    word = word.lower()\n",
    "    if word in word_freq:\n",
    "        word_freq[word] += 1\n",
    "    else:\n",
    "        word_freq[word] = 1"
   ]
  },
  {
   "cell_type": "markdown",
   "id": "60ecf581",
   "metadata": {},
   "source": [
    "#### Creating Dataframe for Sorting"
   ]
  },
  {
   "cell_type": "code",
   "execution_count": 42,
   "id": "4d1cd544",
   "metadata": {},
   "outputs": [
    {
     "data": {
      "text/html": [
       "<div>\n",
       "<style scoped>\n",
       "    .dataframe tbody tr th:only-of-type {\n",
       "        vertical-align: middle;\n",
       "    }\n",
       "\n",
       "    .dataframe tbody tr th {\n",
       "        vertical-align: top;\n",
       "    }\n",
       "\n",
       "    .dataframe thead th {\n",
       "        text-align: right;\n",
       "    }\n",
       "</style>\n",
       "<table border=\"1\" class=\"dataframe\">\n",
       "  <thead>\n",
       "    <tr style=\"text-align: right;\">\n",
       "      <th></th>\n",
       "      <th>word</th>\n",
       "      <th>freq</th>\n",
       "    </tr>\n",
       "  </thead>\n",
       "  <tbody>\n",
       "    <tr>\n",
       "      <th>0</th>\n",
       "      <td>providing</td>\n",
       "      <td>1</td>\n",
       "    </tr>\n",
       "    <tr>\n",
       "      <th>1</th>\n",
       "      <td>nourishment</td>\n",
       "      <td>1</td>\n",
       "    </tr>\n",
       "    <tr>\n",
       "      <th>2</th>\n",
       "      <td>growth</td>\n",
       "      <td>1</td>\n",
       "    </tr>\n",
       "  </tbody>\n",
       "</table>\n",
       "</div>"
      ],
      "text/plain": [
       "          word  freq\n",
       "0    providing     1\n",
       "1  nourishment     1\n",
       "2       growth     1"
      ]
     },
     "execution_count": 42,
     "metadata": {},
     "output_type": "execute_result"
    }
   ],
   "source": [
    "data = []\n",
    "for key in word_freq.keys():\n",
    "    data.append([key,word_freq[key]])\n",
    "    \n",
    "df = pd.DataFrame(data,columns = ['word','freq'])\n",
    "df.sort_values(by = 'freq', ascending=False).head(3)"
   ]
  }
 ],
 "metadata": {
  "kernelspec": {
   "display_name": "Python 3 (ipykernel)",
   "language": "python",
   "name": "python3"
  },
  "language_info": {
   "codemirror_mode": {
    "name": "ipython",
    "version": 3
   },
   "file_extension": ".py",
   "mimetype": "text/x-python",
   "name": "python",
   "nbconvert_exporter": "python",
   "pygments_lexer": "ipython3",
   "version": "3.11.5"
  }
 },
 "nbformat": 4,
 "nbformat_minor": 5
}
